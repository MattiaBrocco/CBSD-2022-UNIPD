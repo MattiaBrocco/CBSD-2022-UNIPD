{
 "cells": [
  {
   "cell_type": "code",
   "execution_count": 1,
   "id": "32e62a31",
   "metadata": {
    "ExecuteTime": {
     "end_time": "2022-12-08T21:31:42.207117Z",
     "start_time": "2022-12-08T21:31:31.985555Z"
    }
   },
   "outputs": [],
   "source": [
    "import os\n",
    "import sys\n",
    "import warnings\n",
    "import numpy as np\n",
    "import pandas as pd\n",
    "import seaborn as sns\n",
    "import matplotlib.pyplot as plt\n",
    "\n",
    "import support\n",
    "import evaluation\n",
    "import summary_graphs\n",
    "from engine import Classification\n",
    "\n",
    "%load_ext autoreload\n",
    "%autoreload 2\n",
    "\n",
    "warnings.filterwarnings(\"ignore\")"
   ]
  },
  {
   "cell_type": "markdown",
   "id": "e9ee1c78",
   "metadata": {
    "ExecuteTime": {
     "end_time": "2022-11-24T19:53:56.832024Z",
     "start_time": "2022-11-24T19:53:56.600293Z"
    }
   },
   "source": [
    "### Datasets at hand"
   ]
  },
  {
   "cell_type": "code",
   "execution_count": 2,
   "id": "04c64b7c",
   "metadata": {
    "ExecuteTime": {
     "end_time": "2022-12-08T21:37:28.101602Z",
     "start_time": "2022-12-08T21:31:42.209111Z"
    }
   },
   "outputs": [
    {
     "name": "stdout",
     "output_type": "stream",
     "text": [
      "BF_df_CTU\n"
     ]
    },
    {
     "data": {
      "application/vnd.jupyter.widget-view+json": {
       "model_id": "9a02bcedbfb843f0b5616e7f25ca6897",
       "version_major": 2,
       "version_minor": 0
      },
      "text/plain": [
       "  0%|          | 0/100 [00:00<?, ?it/s]"
      ]
     },
     "metadata": {},
     "output_type": "display_data"
    },
    {
     "name": "stdout",
     "output_type": "stream",
     "text": [
      "5/5 [==============================] - 0s 2ms/step\n",
      "Train size: 309\n",
      "Selected 3 features out of 10\n",
      "[4 6 7]\n",
      "                     Accuracy  FI 1  FI 2  FI 3\n",
      "Full Logit           0.774436   NaN   NaN   NaN\n",
      "Logistic Regression  0.789474   6.0   4.0   7.0\n",
      "SVC                  0.789474   6.0   4.0   7.0\n",
      "Random Forest        0.804511   7.0   6.0   4.0\n",
      "Neural Network       0.812030   6.0   7.0   4.0\n",
      "\n",
      "==> STABILITY SCORE: 0.556\n",
      "----------------------------------------------------------------------------------------------------\n",
      "----------------------------------------------------------------------------------------------------\n",
      "----------------------------------------------------------------------------------------------------\n",
      "\n",
      "BF_df_OU\n"
     ]
    },
    {
     "data": {
      "application/vnd.jupyter.widget-view+json": {
       "model_id": "84b66281f62b45fb89873d83f7e36fd5",
       "version_major": 2,
       "version_minor": 0
      },
      "text/plain": [
       "  0%|          | 0/100 [00:00<?, ?it/s]"
      ]
     },
     "metadata": {},
     "output_type": "display_data"
    },
    {
     "name": "stdout",
     "output_type": "stream",
     "text": [
      "5/5 [==============================] - 0s 1ms/step\n",
      "Train size: 322\n",
      "Selected 3 features out of 10\n",
      "[4 6 7]\n",
      "                     Accuracy  FI 1  FI 2  FI 3\n",
      "Full Logit           0.833333   NaN   NaN   NaN\n",
      "Logistic Regression  0.811594   6.0   4.0   7.0\n",
      "SVC                  0.797101   6.0   4.0   7.0\n",
      "Random Forest        0.782609   6.0   4.0   7.0\n",
      "Neural Network       0.818841   6.0   7.0   4.0\n",
      "\n",
      "==> STABILITY SCORE: 0.778\n",
      "----------------------------------------------------------------------------------------------------\n",
      "----------------------------------------------------------------------------------------------------\n",
      "----------------------------------------------------------------------------------------------------\n",
      "\n",
      "BF_df_V\n"
     ]
    },
    {
     "data": {
      "application/vnd.jupyter.widget-view+json": {
       "model_id": "d9b2f14f90e446ca846759bf58893ee0",
       "version_major": 2,
       "version_minor": 0
      },
      "text/plain": [
       "  0%|          | 0/100 [00:00<?, ?it/s]"
      ]
     },
     "metadata": {},
     "output_type": "display_data"
    },
    {
     "name": "stdout",
     "output_type": "stream",
     "text": [
      "5/5 [==============================] - 0s 1ms/step\n",
      "Train size: 340\n",
      "Selected 3 features out of 10\n",
      "[4 6 7]\n",
      "                     Accuracy  FI 1  FI 2  FI 3\n",
      "Full Logit           0.760274   NaN   NaN   NaN\n",
      "Logistic Regression  0.767123   7.0   4.0   6.0\n",
      "SVC                  0.753425   7.0   4.0   6.0\n",
      "Random Forest        0.746575   7.0   4.0   6.0\n",
      "Neural Network       0.760274   4.0   7.0   6.0\n",
      "\n",
      "==> STABILITY SCORE: 0.778\n",
      "----------------------------------------------------------------------------------------------------\n",
      "----------------------------------------------------------------------------------------------------\n",
      "----------------------------------------------------------------------------------------------------\n",
      "\n",
      "DT_df_CC\n"
     ]
    },
    {
     "data": {
      "application/vnd.jupyter.widget-view+json": {
       "model_id": "a04554a5d143423f8b280cba2f8b66ee",
       "version_major": 2,
       "version_minor": 0
      },
      "text/plain": [
       "  0%|          | 0/100 [00:00<?, ?it/s]"
      ]
     },
     "metadata": {},
     "output_type": "display_data"
    },
    {
     "name": "stdout",
     "output_type": "stream",
     "text": [
      "5/5 [==============================] - 0s 1ms/step\n",
      "Train size: 337\n",
      "Selected 7 features out of 27\n",
      "[ 4  6  8  9 10 13 16]\n",
      "                     Accuracy  FI 1  FI 2  FI 3  FI 4  FI 5\n",
      "Full Logit           0.682759   NaN   NaN   NaN   NaN   NaN\n",
      "Logistic Regression  0.703448  13.0  10.0   9.0  16.0   4.0\n",
      "SVC                  0.710345  13.0  10.0   9.0  16.0   8.0\n",
      "Random Forest        0.724138  13.0  10.0   9.0   6.0   8.0\n",
      "Neural Network       0.724138  13.0   8.0   4.0   6.0   9.0\n",
      "\n",
      "==> STABILITY SCORE: 0.667\n",
      "----------------------------------------------------------------------------------------------------\n",
      "----------------------------------------------------------------------------------------------------\n",
      "----------------------------------------------------------------------------------------------------\n",
      "\n",
      "DT_df_JI\n"
     ]
    },
    {
     "data": {
      "application/vnd.jupyter.widget-view+json": {
       "model_id": "20c7c0401bf04f139bbb2350276a8831",
       "version_major": 2,
       "version_minor": 0
      },
      "text/plain": [
       "  0%|          | 0/100 [00:00<?, ?it/s]"
      ]
     },
     "metadata": {},
     "output_type": "display_data"
    },
    {
     "name": "stdout",
     "output_type": "stream",
     "text": [
      "9/9 [==============================] - 0s 1ms/step\n",
      "Train size: 604\n",
      "Selected 7 features out of 27\n",
      "[ 2 13 15 16 18 19 24]\n",
      "                     Accuracy  FI 1  FI 2  FI 3  FI 4  FI 5\n",
      "Full Logit           0.661538   NaN   NaN   NaN   NaN   NaN\n",
      "Logistic Regression  0.600000   2.0  15.0  18.0  13.0  16.0\n",
      "SVC                  0.596154   2.0  15.0  18.0  13.0  16.0\n",
      "Random Forest        0.600000  18.0   2.0  15.0  13.0  24.0\n",
      "Neural Network       0.607692  18.0   2.0  15.0  13.0  16.0\n",
      "\n",
      "==> STABILITY SCORE: 0.733\n",
      "----------------------------------------------------------------------------------------------------\n",
      "----------------------------------------------------------------------------------------------------\n",
      "----------------------------------------------------------------------------------------------------\n",
      "\n",
      "IADQ_df\n"
     ]
    },
    {
     "data": {
      "application/vnd.jupyter.widget-view+json": {
       "model_id": "6bb5b38a81724cf9a0b11c2d37dc149e",
       "version_major": 2,
       "version_minor": 0
      },
      "text/plain": [
       "  0%|          | 0/100 [00:00<?, ?it/s]"
      ]
     },
     "metadata": {},
     "output_type": "display_data"
    },
    {
     "name": "stdout",
     "output_type": "stream",
     "text": [
      "5/5 [==============================] - 0s 748us/step\n",
      "Train size: 315\n",
      "Selected 2 features out of 9\n",
      "[1 3]\n",
      "                     Accuracy  FI 1  FI 2\n",
      "Full Logit           0.851852   NaN   NaN\n",
      "Logistic Regression  0.844444   3.0   1.0\n",
      "SVC                  0.844444   3.0   1.0\n",
      "Random Forest        0.844444   3.0   1.0\n",
      "Neural Network       0.844444   1.0   3.0\n",
      "\n",
      "==> STABILITY SCORE: 0.667\n",
      "----------------------------------------------------------------------------------------------------\n",
      "----------------------------------------------------------------------------------------------------\n",
      "----------------------------------------------------------------------------------------------------\n",
      "\n",
      "IESR_df\n"
     ]
    },
    {
     "data": {
      "application/vnd.jupyter.widget-view+json": {
       "model_id": "2743033127da4267a9d1399f09297c9c",
       "version_major": 2,
       "version_minor": 0
      },
      "text/plain": [
       "  0%|          | 0/100 [00:00<?, ?it/s]"
      ]
     },
     "metadata": {},
     "output_type": "display_data"
    },
    {
     "name": "stdout",
     "output_type": "stream",
     "text": [
      "4/4 [==============================] - 0s 1ms/step\n",
      "Train size: 250\n",
      "Selected 6 features out of 22\n",
      "[ 8 13 15 17 18 19]\n",
      "                     Accuracy  FI 1  FI 2  FI 3  FI 4  FI 5\n",
      "Full Logit           0.935185   NaN   NaN   NaN   NaN   NaN\n",
      "Logistic Regression  0.898148   8.0  18.0  19.0  13.0  17.0\n",
      "SVC                  0.898148   8.0  18.0  19.0  13.0  17.0\n",
      "Random Forest        0.898148  13.0  18.0   8.0  19.0  17.0\n",
      "Neural Network       0.916667  15.0  18.0  13.0  17.0   8.0\n",
      "\n",
      "==> STABILITY SCORE: 0.533\n",
      "----------------------------------------------------------------------------------------------------\n",
      "----------------------------------------------------------------------------------------------------\n",
      "----------------------------------------------------------------------------------------------------\n",
      "\n",
      "NAQ_R_df\n"
     ]
    },
    {
     "data": {
      "application/vnd.jupyter.widget-view+json": {
       "model_id": "61b09f0a577f4acf84dcca3097ee2f9d",
       "version_major": 2,
       "version_minor": 0
      },
      "text/plain": [
       "  0%|          | 0/100 [00:00<?, ?it/s]"
      ]
     },
     "metadata": {},
     "output_type": "display_data"
    },
    {
     "name": "stdout",
     "output_type": "stream",
     "text": [
      "7/7 [==============================] - 0s 1ms/step\n",
      "Train size: 498\n",
      "Selected 6 features out of 22\n",
      "[ 1  8  9 12 16 19]\n",
      "                     Accuracy  FI 1  FI 2  FI 3  FI 4  FI 5\n",
      "Full Logit           0.953271   NaN   NaN   NaN   NaN   NaN\n",
      "Logistic Regression  0.967290   9.0  12.0   8.0  19.0  16.0\n",
      "SVC                  0.967290   9.0  12.0   8.0  19.0  16.0\n",
      "Random Forest        0.967290   8.0  16.0   9.0  19.0  12.0\n",
      "Neural Network       0.976636   9.0  16.0   8.0  12.0   1.0\n",
      "\n",
      "==> STABILITY SCORE: 0.6\n",
      "----------------------------------------------------------------------------------------------------\n",
      "----------------------------------------------------------------------------------------------------\n",
      "----------------------------------------------------------------------------------------------------\n",
      "\n",
      "PCL5_df\n"
     ]
    },
    {
     "data": {
      "application/vnd.jupyter.widget-view+json": {
       "model_id": "e90514272e8d4c43bfb32b770aa93fac",
       "version_major": 2,
       "version_minor": 0
      },
      "text/plain": [
       "  0%|          | 0/100 [00:00<?, ?it/s]"
      ]
     },
     "metadata": {},
     "output_type": "display_data"
    },
    {
     "name": "stdout",
     "output_type": "stream",
     "text": [
      "4/4 [==============================] - 0s 998us/step\n",
      "Train size: 281\n",
      "Selected 5 features out of 20\n",
      "[ 0  1  4  6 13]\n",
      "                     Accuracy  FI 1  FI 2  FI 3  FI 4  FI 5\n",
      "Full Logit           0.809917   NaN   NaN   NaN   NaN   NaN\n",
      "Logistic Regression  0.793388   4.0  13.0   1.0   6.0   0.0\n",
      "SVC                  0.842975   4.0   1.0  13.0   6.0   0.0\n",
      "Random Forest        0.826446   4.0  13.0   1.0   6.0   0.0\n",
      "Neural Network       0.834711   4.0  13.0   1.0   6.0   0.0\n",
      "\n",
      "==> STABILITY SCORE: 0.867\n",
      "----------------------------------------------------------------------------------------------------\n",
      "----------------------------------------------------------------------------------------------------\n",
      "----------------------------------------------------------------------------------------------------\n",
      "\n",
      "PHQ9_GAD7_df\n"
     ]
    },
    {
     "data": {
      "application/vnd.jupyter.widget-view+json": {
       "model_id": "31c892ce7251459e971ea9d97cd758b2",
       "version_major": 2,
       "version_minor": 0
      },
      "text/plain": [
       "  0%|          | 0/100 [00:00<?, ?it/s]"
      ]
     },
     "metadata": {},
     "output_type": "display_data"
    },
    {
     "name": "stdout",
     "output_type": "stream",
     "text": [
      "11/11 [==============================] - 0s 1ms/step\n",
      "Train size: 782\n",
      "Selected 4 features out of 16\n",
      "[1 6 7 9]\n",
      "                     Accuracy  FI 1  FI 2  FI 3  FI 4\n",
      "Full Logit           0.991071   NaN   NaN   NaN   NaN\n",
      "Logistic Regression  0.973214   7.0   1.0   6.0   9.0\n",
      "SVC                  0.973214   7.0   1.0   6.0   9.0\n",
      "Random Forest        0.973214   7.0   1.0   6.0   9.0\n",
      "Neural Network       0.970238   7.0   1.0   9.0   6.0\n",
      "\n",
      "==> STABILITY SCORE: 0.833\n",
      "----------------------------------------------------------------------------------------------------\n",
      "----------------------------------------------------------------------------------------------------\n",
      "----------------------------------------------------------------------------------------------------\n",
      "\n",
      "PID5_df\n"
     ]
    },
    {
     "data": {
      "application/vnd.jupyter.widget-view+json": {
       "model_id": "72b1aeb1942c4b8197e1b7237b4de92e",
       "version_major": 2,
       "version_minor": 0
      },
      "text/plain": [
       "  0%|          | 0/100 [00:00<?, ?it/s]"
      ]
     },
     "metadata": {},
     "output_type": "display_data"
    },
    {
     "name": "stdout",
     "output_type": "stream",
     "text": [
      "8/8 [==============================] - 0s 1ms/step\n",
      "Train size: 576\n",
      "Selected 55 features out of 220\n",
      "[  0   1   3  10  15  16  18  21  24  25  35  36  41  43  51  52  53  54\n",
      "  57  69  70  71 105 130 132 133 135 137 138 142 145 151 152 153 155 157\n",
      " 158 159 165 171 177 182 184 189 191 194 197 203 204 205 206 207 208 216\n",
      " 218]\n",
      "                     Accuracy  FI 1   FI 2  FI 3   FI 4   FI 5\n",
      "Full Logit           0.959677   NaN    NaN   NaN    NaN    NaN\n",
      "Logistic Regression  0.935484   1.0  191.0  71.0  171.0  194.0\n",
      "SVC                  0.927419   1.0  191.0  71.0  197.0  171.0\n",
      "Random Forest        0.963710   1.0  137.0  35.0   43.0  171.0\n",
      "Neural Network       0.963710  15.0    0.0  10.0    1.0   18.0\n",
      "\n",
      "==> STABILITY SCORE: 0.333\n",
      "----------------------------------------------------------------------------------------------------\n",
      "----------------------------------------------------------------------------------------------------\n",
      "----------------------------------------------------------------------------------------------------\n",
      "\n",
      "PRFQ_df\n"
     ]
    },
    {
     "data": {
      "application/vnd.jupyter.widget-view+json": {
       "model_id": "a238c8b00fab463fb1a01bed6a61b0f8",
       "version_major": 2,
       "version_minor": 0
      },
      "text/plain": [
       "  0%|          | 0/100 [00:00<?, ?it/s]"
      ]
     },
     "metadata": {},
     "output_type": "display_data"
    },
    {
     "name": "stdout",
     "output_type": "stream",
     "text": [
      "7/7 [==============================] - 0s 1ms/step\n",
      "Train size: 474\n",
      "Selected 5 features out of 18\n",
      "[ 6  7  8  9 11]\n",
      "                     Accuracy  FI 1  FI 2  FI 3  FI 4  FI 5\n",
      "Full Logit           0.936275   NaN   NaN   NaN   NaN   NaN\n",
      "Logistic Regression  0.892157  11.0   6.0   7.0   9.0   8.0\n",
      "SVC                  0.897059  11.0   6.0   7.0   9.0   8.0\n",
      "Random Forest        0.916667   6.0   9.0   8.0  11.0   7.0\n",
      "Neural Network       0.911765  11.0   8.0   9.0   7.0   6.0\n",
      "\n",
      "==> STABILITY SCORE: 0.4\n",
      "----------------------------------------------------------------------------------------------------\n",
      "----------------------------------------------------------------------------------------------------\n",
      "----------------------------------------------------------------------------------------------------\n",
      "\n",
      "PRMQ_df\n"
     ]
    },
    {
     "data": {
      "application/vnd.jupyter.widget-view+json": {
       "model_id": "a3ac4bc7b1e1436696d27bb6c233af93",
       "version_major": 2,
       "version_minor": 0
      },
      "text/plain": [
       "  0%|          | 0/100 [00:00<?, ?it/s]"
      ]
     },
     "metadata": {},
     "output_type": "display_data"
    },
    {
     "name": "stdout",
     "output_type": "stream",
     "text": [
      "14/14 [==============================] - 0s 1ms/step\n",
      "Train size: 982\n",
      "Selected 4 features out of 16\n",
      "[ 1  7 12 14]\n",
      "                     Accuracy  FI 1  FI 2  FI 3  FI 4\n",
      "Full Logit           0.907583   NaN   NaN   NaN   NaN\n",
      "Logistic Regression  0.886256   1.0  12.0   7.0  14.0\n",
      "SVC                  0.886256   1.0  12.0   7.0  14.0\n",
      "Random Forest        0.876777   1.0   7.0  12.0  14.0\n",
      "Neural Network       0.886256   1.0   7.0  12.0  14.0\n",
      "\n",
      "==> STABILITY SCORE: 0.833\n",
      "----------------------------------------------------------------------------------------------------\n",
      "----------------------------------------------------------------------------------------------------\n",
      "----------------------------------------------------------------------------------------------------\n",
      "\n",
      "RAW_DDDT\n"
     ]
    },
    {
     "data": {
      "application/vnd.jupyter.widget-view+json": {
       "model_id": "927130831df74b7595f47e199a9df461",
       "version_major": 2,
       "version_minor": 0
      },
      "text/plain": [
       "  0%|          | 0/100 [00:00<?, ?it/s]"
      ]
     },
     "metadata": {},
     "output_type": "display_data"
    },
    {
     "name": "stdout",
     "output_type": "stream",
     "text": [
      "10/10 [==============================] - 0s 1ms/step\n",
      "Train size: 690\n",
      "Selected 3 features out of 12\n",
      "[ 1  7 10]\n",
      "                     Accuracy  FI 1  FI 2  FI 3\n",
      "Full Logit           0.746622   NaN   NaN   NaN\n",
      "Logistic Regression  0.743243  10.0   7.0   1.0\n",
      "SVC                  0.743243   7.0  10.0   1.0\n",
      "Random Forest        0.743243  10.0   1.0   7.0\n",
      "Neural Network       0.743243   1.0  10.0   7.0\n",
      "\n",
      "==> STABILITY SCORE: 0.444\n",
      "----------------------------------------------------------------------------------------------------\n",
      "----------------------------------------------------------------------------------------------------\n",
      "----------------------------------------------------------------------------------------------------\n",
      "\n",
      "R_NEO_PI\n"
     ]
    },
    {
     "data": {
      "application/vnd.jupyter.widget-view+json": {
       "model_id": "da5d980436ea422cb677d74aafa829b1",
       "version_major": 2,
       "version_minor": 0
      },
      "text/plain": [
       "  0%|          | 0/100 [00:00<?, ?it/s]"
      ]
     },
     "metadata": {},
     "output_type": "display_data"
    },
    {
     "name": "stdout",
     "output_type": "stream",
     "text": [
      "729/729 [==============================] - 1s 946us/step\n",
      "Train size: 54380\n",
      "Selected 8 features out of 30\n",
      "[ 5 13 14 18 20 21 22 23]\n",
      "                     Accuracy  FI 1  FI 2  FI 3  FI 4  FI 5\n",
      "Full Logit           0.906938   NaN   NaN   NaN   NaN   NaN\n",
      "Logistic Regression  0.898271  13.0  21.0   5.0  22.0  14.0\n",
      "SVC                  0.896040  21.0  13.0  22.0   5.0  23.0\n",
      "Random Forest        0.901017  13.0  21.0   5.0  18.0  14.0\n",
      "Neural Network       0.901274  13.0  21.0  22.0   5.0  18.0\n",
      "\n",
      "==> STABILITY SCORE: 0.533\n",
      "----------------------------------------------------------------------------------------------------\n",
      "----------------------------------------------------------------------------------------------------\n",
      "----------------------------------------------------------------------------------------------------\n",
      "\n",
      "sPID-5_df\n"
     ]
    },
    {
     "data": {
      "application/vnd.jupyter.widget-view+json": {
       "model_id": "2c9d706840614e71a56c78964d97c338",
       "version_major": 2,
       "version_minor": 0
      },
      "text/plain": [
       "  0%|          | 0/100 [00:00<?, ?it/s]"
      ]
     },
     "metadata": {},
     "output_type": "display_data"
    },
    {
     "name": "stdout",
     "output_type": "stream",
     "text": [
      "10/10 [==============================] - 0s 1ms/step\n",
      "Train size: 726\n",
      "Selected 6 features out of 25\n",
      "[ 1  4 11 20 22 23]\n",
      "                     Accuracy  FI 1  FI 2  FI 3  FI 4  FI 5\n",
      "Full Logit           0.961538   NaN   NaN   NaN   NaN   NaN\n",
      "Logistic Regression  0.948718  23.0   4.0  11.0  20.0   1.0\n",
      "SVC                  0.951923  23.0   4.0  11.0  20.0   1.0\n",
      "Random Forest        0.948718  23.0  11.0   4.0   1.0  20.0\n",
      "Neural Network       0.951923  23.0   4.0  11.0  20.0  22.0\n",
      "\n",
      "==> STABILITY SCORE: 0.667\n",
      "----------------------------------------------------------------------------------------------------\n",
      "----------------------------------------------------------------------------------------------------\n",
      "----------------------------------------------------------------------------------------------------\n",
      "\n"
     ]
    }
   ],
   "source": [
    "# Organize datasets\n",
    "datasets = {}\n",
    "#base_perf = []\n",
    "for dataset in [f for f in os.listdir(\".\\\\data\") if \"parquet\" in f]:\n",
    "    print(dataset.split(\".\")[0])\n",
    "    X_tr, X_ts, y_tr, y_ts = Classification().prepare_data(f\".\\\\data\\\\{dataset}\", \"CONDITION\")\n",
    "    #perfs = evaluation.just_benchmarking(X_tr, X_ts, y_tr, y_ts)\n",
    "    \n",
    "    var_sel = Classification().mutual_info(X_tr, y_tr)\n",
    "    perfs, stability = Classification().benchmark_models(X_tr, X_ts, y_tr, y_ts, var_sel)\n",
    "    \n",
    "    #base_perf += [[dataset.split(\".\")[0], perfs]]\n",
    "    \n",
    "    datasets[dataset.split(\".\")[0]] = [X_tr, X_ts, y_tr, y_ts, var_sel, perfs, stability]\n",
    "    print(var_sel)\n",
    "    print(perfs)\n",
    "    print()\n",
    "    print(\"==> TOP5 STABILITY SCORE: {}\".format(stability))\n",
    "    print(\"-\" * 100)\n",
    "    print(\"-\" * 100)\n",
    "    print(\"-\" * 100)\n",
    "    print()"
   ]
  },
  {
   "cell_type": "code",
   "execution_count": 5,
   "id": "3c9872b0",
   "metadata": {
    "ExecuteTime": {
     "end_time": "2022-12-08T21:41:39.746419Z",
     "start_time": "2022-12-08T21:41:39.459444Z"
    }
   },
   "outputs": [
    {
     "data": {
      "text/html": [
       "<div>\n",
       "<style scoped>\n",
       "    .dataframe tbody tr th:only-of-type {\n",
       "        vertical-align: middle;\n",
       "    }\n",
       "\n",
       "    .dataframe tbody tr th {\n",
       "        vertical-align: top;\n",
       "    }\n",
       "\n",
       "    .dataframe thead th {\n",
       "        text-align: right;\n",
       "    }\n",
       "</style>\n",
       "<table border=\"1\" class=\"dataframe\">\n",
       "  <thead>\n",
       "    <tr style=\"text-align: right;\">\n",
       "      <th></th>\n",
       "      <th>Dataset name</th>\n",
       "      <th>Sample size</th>\n",
       "      <th>Training size</th>\n",
       "      <th>Number of Features</th>\n",
       "      <th>Selected Features</th>\n",
       "      <th>Feat. Stability</th>\n",
       "      <th>Accuracy - Logit all features</th>\n",
       "      <th>Accuracy - Logit</th>\n",
       "      <th>Accuracy - SVM</th>\n",
       "      <th>Accuracy - RF</th>\n",
       "      <th>Accuracy - MLP</th>\n",
       "      <th>Avg Acc. on selected features</th>\n",
       "      <th>Accuracy Std on selected features</th>\n",
       "      <th>Acc. diff. wrt Full logit</th>\n",
       "    </tr>\n",
       "  </thead>\n",
       "  <tbody>\n",
       "    <tr>\n",
       "      <th>8</th>\n",
       "      <td>PCL5_df</td>\n",
       "      <td>402</td>\n",
       "      <td>281</td>\n",
       "      <td>20</td>\n",
       "      <td>5</td>\n",
       "      <td>0.867</td>\n",
       "      <td>0.810</td>\n",
       "      <td>0.793</td>\n",
       "      <td>0.843</td>\n",
       "      <td>0.826</td>\n",
       "      <td>0.835</td>\n",
       "      <td>0.824</td>\n",
       "      <td>0.022</td>\n",
       "      <td>0.014</td>\n",
       "    </tr>\n",
       "    <tr>\n",
       "      <th>10</th>\n",
       "      <td>PID5_df</td>\n",
       "      <td>824</td>\n",
       "      <td>576</td>\n",
       "      <td>220</td>\n",
       "      <td>55</td>\n",
       "      <td>0.333</td>\n",
       "      <td>0.960</td>\n",
       "      <td>0.935</td>\n",
       "      <td>0.927</td>\n",
       "      <td>0.964</td>\n",
       "      <td>0.964</td>\n",
       "      <td>0.948</td>\n",
       "      <td>0.019</td>\n",
       "      <td>-0.012</td>\n",
       "    </tr>\n",
       "    <tr>\n",
       "      <th>1</th>\n",
       "      <td>BF_df_OU</td>\n",
       "      <td>460</td>\n",
       "      <td>322</td>\n",
       "      <td>10</td>\n",
       "      <td>3</td>\n",
       "      <td>0.778</td>\n",
       "      <td>0.833</td>\n",
       "      <td>0.812</td>\n",
       "      <td>0.797</td>\n",
       "      <td>0.783</td>\n",
       "      <td>0.819</td>\n",
       "      <td>0.803</td>\n",
       "      <td>0.016</td>\n",
       "      <td>-0.031</td>\n",
       "    </tr>\n",
       "    <tr>\n",
       "      <th>11</th>\n",
       "      <td>PRFQ_df</td>\n",
       "      <td>678</td>\n",
       "      <td>474</td>\n",
       "      <td>18</td>\n",
       "      <td>5</td>\n",
       "      <td>0.400</td>\n",
       "      <td>0.936</td>\n",
       "      <td>0.892</td>\n",
       "      <td>0.897</td>\n",
       "      <td>0.917</td>\n",
       "      <td>0.912</td>\n",
       "      <td>0.904</td>\n",
       "      <td>0.012</td>\n",
       "      <td>-0.032</td>\n",
       "    </tr>\n",
       "    <tr>\n",
       "      <th>0</th>\n",
       "      <td>BF_df_CTU</td>\n",
       "      <td>442</td>\n",
       "      <td>309</td>\n",
       "      <td>10</td>\n",
       "      <td>3</td>\n",
       "      <td>0.556</td>\n",
       "      <td>0.774</td>\n",
       "      <td>0.789</td>\n",
       "      <td>0.789</td>\n",
       "      <td>0.805</td>\n",
       "      <td>0.812</td>\n",
       "      <td>0.799</td>\n",
       "      <td>0.011</td>\n",
       "      <td>0.024</td>\n",
       "    </tr>\n",
       "    <tr>\n",
       "      <th>3</th>\n",
       "      <td>DT_df_CC</td>\n",
       "      <td>482</td>\n",
       "      <td>337</td>\n",
       "      <td>27</td>\n",
       "      <td>7</td>\n",
       "      <td>0.667</td>\n",
       "      <td>0.683</td>\n",
       "      <td>0.703</td>\n",
       "      <td>0.710</td>\n",
       "      <td>0.724</td>\n",
       "      <td>0.724</td>\n",
       "      <td>0.716</td>\n",
       "      <td>0.010</td>\n",
       "      <td>0.033</td>\n",
       "    </tr>\n",
       "    <tr>\n",
       "      <th>2</th>\n",
       "      <td>BF_df_V</td>\n",
       "      <td>486</td>\n",
       "      <td>340</td>\n",
       "      <td>10</td>\n",
       "      <td>3</td>\n",
       "      <td>0.778</td>\n",
       "      <td>0.760</td>\n",
       "      <td>0.767</td>\n",
       "      <td>0.753</td>\n",
       "      <td>0.747</td>\n",
       "      <td>0.760</td>\n",
       "      <td>0.757</td>\n",
       "      <td>0.009</td>\n",
       "      <td>-0.003</td>\n",
       "    </tr>\n",
       "    <tr>\n",
       "      <th>6</th>\n",
       "      <td>IESR_df</td>\n",
       "      <td>358</td>\n",
       "      <td>250</td>\n",
       "      <td>22</td>\n",
       "      <td>6</td>\n",
       "      <td>0.533</td>\n",
       "      <td>0.935</td>\n",
       "      <td>0.898</td>\n",
       "      <td>0.898</td>\n",
       "      <td>0.898</td>\n",
       "      <td>0.917</td>\n",
       "      <td>0.903</td>\n",
       "      <td>0.009</td>\n",
       "      <td>-0.032</td>\n",
       "    </tr>\n",
       "    <tr>\n",
       "      <th>4</th>\n",
       "      <td>DT_df_JI</td>\n",
       "      <td>864</td>\n",
       "      <td>604</td>\n",
       "      <td>27</td>\n",
       "      <td>7</td>\n",
       "      <td>0.733</td>\n",
       "      <td>0.662</td>\n",
       "      <td>0.600</td>\n",
       "      <td>0.596</td>\n",
       "      <td>0.600</td>\n",
       "      <td>0.608</td>\n",
       "      <td>0.601</td>\n",
       "      <td>0.005</td>\n",
       "      <td>-0.061</td>\n",
       "    </tr>\n",
       "    <tr>\n",
       "      <th>7</th>\n",
       "      <td>NAQ_R_df</td>\n",
       "      <td>712</td>\n",
       "      <td>498</td>\n",
       "      <td>22</td>\n",
       "      <td>6</td>\n",
       "      <td>0.600</td>\n",
       "      <td>0.953</td>\n",
       "      <td>0.967</td>\n",
       "      <td>0.967</td>\n",
       "      <td>0.967</td>\n",
       "      <td>0.977</td>\n",
       "      <td>0.970</td>\n",
       "      <td>0.005</td>\n",
       "      <td>0.016</td>\n",
       "    </tr>\n",
       "    <tr>\n",
       "      <th>12</th>\n",
       "      <td>PRMQ_df</td>\n",
       "      <td>1404</td>\n",
       "      <td>982</td>\n",
       "      <td>16</td>\n",
       "      <td>4</td>\n",
       "      <td>0.833</td>\n",
       "      <td>0.908</td>\n",
       "      <td>0.886</td>\n",
       "      <td>0.886</td>\n",
       "      <td>0.877</td>\n",
       "      <td>0.886</td>\n",
       "      <td>0.884</td>\n",
       "      <td>0.005</td>\n",
       "      <td>-0.024</td>\n",
       "    </tr>\n",
       "    <tr>\n",
       "      <th>14</th>\n",
       "      <td>R_NEO_PI</td>\n",
       "      <td>77687</td>\n",
       "      <td>54380</td>\n",
       "      <td>30</td>\n",
       "      <td>8</td>\n",
       "      <td>0.533</td>\n",
       "      <td>0.907</td>\n",
       "      <td>0.898</td>\n",
       "      <td>0.896</td>\n",
       "      <td>0.901</td>\n",
       "      <td>0.901</td>\n",
       "      <td>0.899</td>\n",
       "      <td>0.002</td>\n",
       "      <td>-0.008</td>\n",
       "    </tr>\n",
       "    <tr>\n",
       "      <th>15</th>\n",
       "      <td>sPID-5_df</td>\n",
       "      <td>1038</td>\n",
       "      <td>726</td>\n",
       "      <td>25</td>\n",
       "      <td>6</td>\n",
       "      <td>0.667</td>\n",
       "      <td>0.962</td>\n",
       "      <td>0.949</td>\n",
       "      <td>0.952</td>\n",
       "      <td>0.949</td>\n",
       "      <td>0.952</td>\n",
       "      <td>0.950</td>\n",
       "      <td>0.002</td>\n",
       "      <td>-0.011</td>\n",
       "    </tr>\n",
       "    <tr>\n",
       "      <th>9</th>\n",
       "      <td>PHQ9_GAD7_df</td>\n",
       "      <td>1118</td>\n",
       "      <td>782</td>\n",
       "      <td>16</td>\n",
       "      <td>4</td>\n",
       "      <td>0.833</td>\n",
       "      <td>0.991</td>\n",
       "      <td>0.973</td>\n",
       "      <td>0.973</td>\n",
       "      <td>0.973</td>\n",
       "      <td>0.970</td>\n",
       "      <td>0.972</td>\n",
       "      <td>0.001</td>\n",
       "      <td>-0.019</td>\n",
       "    </tr>\n",
       "    <tr>\n",
       "      <th>5</th>\n",
       "      <td>IADQ_df</td>\n",
       "      <td>450</td>\n",
       "      <td>315</td>\n",
       "      <td>9</td>\n",
       "      <td>2</td>\n",
       "      <td>0.667</td>\n",
       "      <td>0.852</td>\n",
       "      <td>0.844</td>\n",
       "      <td>0.844</td>\n",
       "      <td>0.844</td>\n",
       "      <td>0.844</td>\n",
       "      <td>0.844</td>\n",
       "      <td>0.000</td>\n",
       "      <td>-0.007</td>\n",
       "    </tr>\n",
       "    <tr>\n",
       "      <th>13</th>\n",
       "      <td>RAW_DDDT</td>\n",
       "      <td>986</td>\n",
       "      <td>690</td>\n",
       "      <td>12</td>\n",
       "      <td>3</td>\n",
       "      <td>0.444</td>\n",
       "      <td>0.747</td>\n",
       "      <td>0.743</td>\n",
       "      <td>0.743</td>\n",
       "      <td>0.743</td>\n",
       "      <td>0.743</td>\n",
       "      <td>0.743</td>\n",
       "      <td>0.000</td>\n",
       "      <td>-0.003</td>\n",
       "    </tr>\n",
       "  </tbody>\n",
       "</table>\n",
       "</div>"
      ],
      "text/plain": [
       "    Dataset name  Sample size  Training size  Number of Features  \\\n",
       "8        PCL5_df          402            281                  20   \n",
       "10       PID5_df          824            576                 220   \n",
       "1       BF_df_OU          460            322                  10   \n",
       "11       PRFQ_df          678            474                  18   \n",
       "0      BF_df_CTU          442            309                  10   \n",
       "3       DT_df_CC          482            337                  27   \n",
       "2        BF_df_V          486            340                  10   \n",
       "6        IESR_df          358            250                  22   \n",
       "4       DT_df_JI          864            604                  27   \n",
       "7       NAQ_R_df          712            498                  22   \n",
       "12       PRMQ_df         1404            982                  16   \n",
       "14      R_NEO_PI        77687          54380                  30   \n",
       "15     sPID-5_df         1038            726                  25   \n",
       "9   PHQ9_GAD7_df         1118            782                  16   \n",
       "5        IADQ_df          450            315                   9   \n",
       "13      RAW_DDDT          986            690                  12   \n",
       "\n",
       "    Selected Features  Feat. Stability  Accuracy - Logit all features  \\\n",
       "8                   5            0.867                          0.810   \n",
       "10                 55            0.333                          0.960   \n",
       "1                   3            0.778                          0.833   \n",
       "11                  5            0.400                          0.936   \n",
       "0                   3            0.556                          0.774   \n",
       "3                   7            0.667                          0.683   \n",
       "2                   3            0.778                          0.760   \n",
       "6                   6            0.533                          0.935   \n",
       "4                   7            0.733                          0.662   \n",
       "7                   6            0.600                          0.953   \n",
       "12                  4            0.833                          0.908   \n",
       "14                  8            0.533                          0.907   \n",
       "15                  6            0.667                          0.962   \n",
       "9                   4            0.833                          0.991   \n",
       "5                   2            0.667                          0.852   \n",
       "13                  3            0.444                          0.747   \n",
       "\n",
       "    Accuracy - Logit  Accuracy - SVM  Accuracy - RF  Accuracy - MLP  \\\n",
       "8              0.793           0.843          0.826           0.835   \n",
       "10             0.935           0.927          0.964           0.964   \n",
       "1              0.812           0.797          0.783           0.819   \n",
       "11             0.892           0.897          0.917           0.912   \n",
       "0              0.789           0.789          0.805           0.812   \n",
       "3              0.703           0.710          0.724           0.724   \n",
       "2              0.767           0.753          0.747           0.760   \n",
       "6              0.898           0.898          0.898           0.917   \n",
       "4              0.600           0.596          0.600           0.608   \n",
       "7              0.967           0.967          0.967           0.977   \n",
       "12             0.886           0.886          0.877           0.886   \n",
       "14             0.898           0.896          0.901           0.901   \n",
       "15             0.949           0.952          0.949           0.952   \n",
       "9              0.973           0.973          0.973           0.970   \n",
       "5              0.844           0.844          0.844           0.844   \n",
       "13             0.743           0.743          0.743           0.743   \n",
       "\n",
       "    Avg Acc. on selected features  Accuracy Std on selected features  \\\n",
       "8                           0.824                              0.022   \n",
       "10                          0.948                              0.019   \n",
       "1                           0.803                              0.016   \n",
       "11                          0.904                              0.012   \n",
       "0                           0.799                              0.011   \n",
       "3                           0.716                              0.010   \n",
       "2                           0.757                              0.009   \n",
       "6                           0.903                              0.009   \n",
       "4                           0.601                              0.005   \n",
       "7                           0.970                              0.005   \n",
       "12                          0.884                              0.005   \n",
       "14                          0.899                              0.002   \n",
       "15                          0.950                              0.002   \n",
       "9                           0.972                              0.001   \n",
       "5                           0.844                              0.000   \n",
       "13                          0.743                              0.000   \n",
       "\n",
       "    Acc. diff. wrt Full logit  \n",
       "8                       0.014  \n",
       "10                     -0.012  \n",
       "1                      -0.031  \n",
       "11                     -0.032  \n",
       "0                       0.024  \n",
       "3                       0.033  \n",
       "2                      -0.003  \n",
       "6                      -0.032  \n",
       "4                      -0.061  \n",
       "7                       0.016  \n",
       "12                     -0.024  \n",
       "14                     -0.008  \n",
       "15                     -0.011  \n",
       "9                      -0.019  \n",
       "5                      -0.007  \n",
       "13                     -0.003  "
      ]
     },
     "execution_count": 5,
     "metadata": {},
     "output_type": "execute_result"
    }
   ],
   "source": [
    "summary = evaluation.summary_table(datasets)\n",
    "summary.sort_values(\"Accuracy Std on selected features\", ascending = False)"
   ]
  },
  {
   "cell_type": "code",
   "execution_count": 17,
   "id": "caefe5b7",
   "metadata": {
    "ExecuteTime": {
     "end_time": "2022-12-08T21:49:40.422225Z",
     "start_time": "2022-12-08T21:49:40.016426Z"
    }
   },
   "outputs": [
    {
     "data": {
      "image/png": "[encoded data removed]",
      "text/plain": [
       "<Figure size 1296x504 with 1 Axes>"
      ]
     },
     "metadata": {
      "needs_background": "light"
     },
     "output_type": "display_data"
    }
   ],
   "source": [
    "summary_graphs.accuracy_barplot(summary, save = False, prefix = \"MIS\")"
   ]
  },
  {
   "cell_type": "code",
   "execution_count": 20,
   "id": "4bfa6541",
   "metadata": {
    "ExecuteTime": {
     "end_time": "2022-12-08T21:50:48.816592Z",
     "start_time": "2022-12-08T21:50:48.000118Z"
    }
   },
   "outputs": [
    {
     "data": {
      "image/png": "[encoded data removed]",
      "text/plain": [
       "<Figure size 1296x432 with 1 Axes>"
      ]
     },
     "metadata": {
      "needs_background": "light"
     },
     "output_type": "display_data"
    }
   ],
   "source": [
    "summary_graphs.accuracy_std(summary, save = False, prefix = \"MIS\")"
   ]
  },
  {
   "cell_type": "code",
   "execution_count": 24,
   "id": "125fef48",
   "metadata": {
    "ExecuteTime": {
     "end_time": "2022-12-08T22:02:11.532393Z",
     "start_time": "2022-12-08T22:02:11.277711Z"
    }
   },
   "outputs": [],
   "source": [
    "faking_type = {\"BF_df_CTU\":\"FAKING GOOD\",\n",
    "               \"BF_df_OU\":\"FAKING GOOD\",\n",
    "               \"BF_df_V\":\"FAKING GOOD\",\n",
    "               \"DT_df_CC\":\"FAKING GOOD\",\n",
    "               \"DT_df_JI\":\"FAKING GOOD\",\n",
    "               \"IADQ_df\":\"FAKING BAD\",\n",
    "               \"IESR_df\":\"FAKING BAD\",\n",
    "               \"NAQ_R_df\":\"FAKING BAD\",\n",
    "               \"PCL5_df\":\"FAKING BAD\",\n",
    "               \"PHQ9_GAD7_df\":\"FAKING BAD\",\n",
    "               \"PID5_df\":\"FAKING BAD\",\n",
    "               \"PRFQ_df\":\"FAKING GOOD\",\n",
    "               \"PRMQ_df\":\"FAKING BAD\",\n",
    "               \"RAW_DDDT\":\"FAKING BAD\",\n",
    "               \"R_NEO_PI\":\"FAKING GOOD\",\n",
    "               \"sPID-5_df\":\"FAKING GOOD\"}"
   ]
  },
  {
   "cell_type": "code",
   "execution_count": 25,
   "id": "fe1ec05c",
   "metadata": {
    "ExecuteTime": {
     "end_time": "2022-12-08T22:02:11.856142Z",
     "start_time": "2022-12-08T22:02:11.583994Z"
    }
   },
   "outputs": [],
   "source": [
    "summary2 = summary.copy()\n",
    "summary2[\"Faking Type\"] = summary2[\"Dataset name\"].map(faking_type)"
   ]
  },
  {
   "cell_type": "code",
   "execution_count": 56,
   "id": "c81221d3",
   "metadata": {
    "ExecuteTime": {
     "end_time": "2022-12-08T22:32:39.344146Z",
     "start_time": "2022-12-08T22:32:37.851959Z"
    }
   },
   "outputs": [
    {
     "data": {
      "image/png": "[encoded data removed]",
      "text/plain": [
       "<Figure size 1296x720 with 2 Axes>"
      ]
     },
     "metadata": {
      "needs_background": "light"
     },
     "output_type": "display_data"
    }
   ],
   "source": [
    "summary_graphs.faking_type_comparison(summary, prefix = \"MIS\", save = True)"
   ]
  },
  {
   "cell_type": "markdown",
   "id": "c591a9f9",
   "metadata": {},
   "source": [
    "---\n",
    "---\n",
    "---"
   ]
  }
 ],
 "metadata": {
  "kernelspec": {
   "display_name": "Python 3 (ipykernel)",
   "language": "python",
   "name": "python3"
  },
  "language_info": {
   "codemirror_mode": {
    "name": "ipython",
    "version": 3
   },
   "file_extension": ".py",
   "mimetype": "text/x-python",
   "name": "python",
   "nbconvert_exporter": "python",
   "pygments_lexer": "ipython3",
   "version": "3.9.12"
  }
 },
 "nbformat": 4,
 "nbformat_minor": 5
}
