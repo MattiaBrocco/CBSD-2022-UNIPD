{
 "cells": [
  {
   "cell_type": "code",
   "execution_count": null,
   "id": "32e62a31",
   "metadata": {
    "ExecuteTime": {
     "end_time": "2022-11-24T19:53:54.234352Z",
     "start_time": "2022-11-24T19:53:44.307899Z"
    }
   },
   "outputs": [],
   "source": [
    "import os\n",
    "import sys\n",
    "import numpy as np\n",
    "import pandas as pd\n",
    "import seaborn as sns\n",
    "import matplotlib.pyplot as plt\n",
    "\n",
    "import support\n",
    "import evaluation\n",
    "\n",
    "%load_ext autoreload\n",
    "%autoreload 2"
   ]
  },
  {
   "cell_type": "markdown",
   "id": "e9ee1c78",
   "metadata": {
    "ExecuteTime": {
     "end_time": "2022-11-24T19:53:56.832024Z",
     "start_time": "2022-11-24T19:53:56.600293Z"
    }
   },
   "source": [
    "### Datasets at hand"
   ]
  },
  {
   "cell_type": "code",
   "execution_count": null,
   "id": "04c64b7c",
   "metadata": {
    "ExecuteTime": {
     "end_time": "2022-11-24T19:54:16.752934Z",
     "start_time": "2022-11-24T19:54:16.311229Z"
    }
   },
   "outputs": [],
   "source": [
    "# Organize datasets\n",
    "datasets = {}\n",
    "for dataset in [f for f in os.listdir(\".\\\\data\") if \"parquet\" in f]:\n",
    "    datasets[dataset.split(\".\")[0]] = pd.read_parquet(f\".\\\\data\\\\{dataset}\")"
   ]
  },
  {
   "cell_type": "code",
   "execution_count": null,
   "id": "064ecd41",
   "metadata": {
    "ExecuteTime": {
     "end_time": "2022-11-24T19:59:44.416590Z",
     "start_time": "2022-11-24T19:59:44.137291Z"
    }
   },
   "outputs": [],
   "source": [
    "from sklearn.feature_selection import SelectKBest\n",
    "from sklearn.feature_selection import VarianceThreshold\n",
    "from sklearn.feature_selection import mutual_info_classif"
   ]
  },
  {
   "cell_type": "code",
   "execution_count": null,
   "id": "adc0b6db",
   "metadata": {
    "ExecuteTime": {
     "end_time": "2022-11-24T20:03:09.333259Z",
     "start_time": "2022-11-24T20:03:09.114896Z"
    }
   },
   "outputs": [],
   "source": [
    "X = datasets[\"DT_df_JI\"].drop(\"CONDITION\", axis = 1).copy()"
   ]
  },
  {
   "cell_type": "code",
   "execution_count": null,
   "id": "8b57cab9",
   "metadata": {
    "ExecuteTime": {
     "end_time": "2022-11-24T21:05:17.965500Z",
     "start_time": "2022-11-24T21:05:10.915019Z"
    }
   },
   "outputs": [],
   "source": [
    "var_treshs = {}\n",
    "for k, v in datasets.items():\n",
    "    dat = v.drop(\"CONDITION\", axis = 1).copy()\n",
    "    feats = []\n",
    "    for t in np.linspace(0, round(np.quantile(dat.std()**2, .95), 3), 100):\n",
    "        p = VarianceThreshold(threshold = t)\n",
    "        p.fit(dat)\n",
    "\n",
    "        feats += [dat[dat.columns[p.get_support()]].shape[1]]\n",
    "    \n",
    "    var_treshs[k] = feats"
   ]
  },
  {
   "cell_type": "code",
   "execution_count": null,
   "id": "309a962a",
   "metadata": {},
   "outputs": [],
   "source": []
  },
  {
   "cell_type": "code",
   "execution_count": null,
   "id": "3d56b742",
   "metadata": {
    "ExecuteTime": {
     "end_time": "2022-11-24T22:05:29.069591Z",
     "start_time": "2022-11-24T22:05:28.770003Z"
    }
   },
   "outputs": [],
   "source": [
    "from sklearn.linear_model import LogisticRegression\n",
    "from sklearn.inspection import permutation_importance\n",
    "\n",
    "X = datasets[\"BF_df_CTU\"].drop(\"CONDITION\", axis = 1)\n",
    "X_red = X.iloc[:, [2, 4, 6, 7]]\n",
    "\n",
    "y = datasets[\"BF_df_CTU\"][\"CONDITION\"]\n",
    "\n",
    "lr = LogisticRegression(random_state = 42, n_jobs = -1,\n",
    "                        solver = \"saga\", max_iter = 3e3)\n",
    "lr.fit(X, y)\n",
    "\n",
    "lr_red = LogisticRegression(random_state = 42, n_jobs = -1,\n",
    "                            solver = \"saga\", max_iter = 3e3)\n",
    "lr_red.fit(X_red, y)"
   ]
  },
  {
   "cell_type": "code",
   "execution_count": null,
   "id": "422cda59",
   "metadata": {},
   "outputs": [],
   "source": [
    "to_categorical(y.apply(lambda v: 1 if v == \"HONEST\"\n",
    "                             or v == \"H\" else 0))"
   ]
  },
  {
   "cell_type": "code",
   "execution_count": null,
   "id": "28c91547",
   "metadata": {
    "ExecuteTime": {
     "end_time": "2022-11-24T22:39:33.474648Z",
     "start_time": "2022-11-24T22:39:33.230523Z"
    }
   },
   "outputs": [],
   "source": []
  },
  {
   "cell_type": "code",
   "execution_count": null,
   "id": "9cd7d272",
   "metadata": {
    "ExecuteTime": {
     "end_time": "2022-11-24T22:41:57.518622Z",
     "start_time": "2022-11-24T22:41:56.117073Z"
    }
   },
   "outputs": [],
   "source": [
    "mlp = support.build_MLP(X, pd.get_dummies(y).values.astype(np.float32),\n",
    "                        {\"Features\": [2, 4, 6, 7]})"
   ]
  },
  {
   "cell_type": "code",
   "execution_count": null,
   "id": "f8c6d767",
   "metadata": {
    "ExecuteTime": {
     "end_time": "2022-11-24T22:42:58.047165Z",
     "start_time": "2022-11-24T22:42:57.790284Z"
    }
   },
   "outputs": [],
   "source": [
    "mlp.summary()"
   ]
  },
  {
   "cell_type": "code",
   "execution_count": null,
   "id": "a84132cd",
   "metadata": {
    "ExecuteTime": {
     "end_time": "2022-11-24T22:42:07.864222Z",
     "start_time": "2022-11-24T22:42:07.033308Z"
    }
   },
   "outputs": [],
   "source": [
    "import shap"
   ]
  },
  {
   "cell_type": "code",
   "execution_count": null,
   "id": "466c4c1d",
   "metadata": {
    "ExecuteTime": {
     "end_time": "2022-11-24T23:01:17.740442Z",
     "start_time": "2022-11-24T23:01:17.478222Z"
    }
   },
   "outputs": [],
   "source": [
    "X[np.random.randint()].shape"
   ]
  },
  {
   "cell_type": "code",
   "execution_count": null,
   "id": "ebcf796d",
   "metadata": {
    "ExecuteTime": {
     "end_time": "2022-11-24T22:57:58.884161Z",
     "start_time": "2022-11-24T22:57:58.550559Z"
    }
   },
   "outputs": [],
   "source": [
    "plt.bar(x = range(4), height = sorted())"
   ]
  },
  {
   "cell_type": "code",
   "execution_count": null,
   "id": "bd860684",
   "metadata": {
    "ExecuteTime": {
     "end_time": "2022-11-24T22:57:36.271334Z",
     "start_time": "2022-11-24T22:57:36.035825Z"
    }
   },
   "outputs": [],
   "source": [
    "np.abs(a[0]).mean(axis = 0)"
   ]
  },
  {
   "cell_type": "code",
   "execution_count": null,
   "id": "80006c13",
   "metadata": {
    "ExecuteTime": {
     "end_time": "2022-11-24T23:02:54.090429Z",
     "start_time": "2022-11-24T23:02:53.830392Z"
    }
   },
   "outputs": [],
   "source": [
    "X.iloc[:5, [2, 4, 6, 7]]"
   ]
  },
  {
   "cell_type": "code",
   "execution_count": null,
   "id": "bfd89cf9",
   "metadata": {
    "ExecuteTime": {
     "end_time": "2022-11-24T23:05:32.921463Z",
     "start_time": "2022-11-24T23:05:32.678050Z"
    }
   },
   "outputs": [],
   "source": [
    "np.c_[[2, 4, 6, 7], np.abs(a)[0].mean(axis = 0) + np.abs(a)[1].mean(axis = 0)]"
   ]
  },
  {
   "cell_type": "code",
   "execution_count": null,
   "id": "f4260f31",
   "metadata": {
    "ExecuteTime": {
     "end_time": "2022-11-24T23:04:59.597264Z",
     "start_time": "2022-11-24T23:04:59.353365Z"
    }
   },
   "outputs": [],
   "source": [
    "a[0].shape"
   ]
  },
  {
   "cell_type": "code",
   "execution_count": null,
   "id": "23f29c85",
   "metadata": {},
   "outputs": [],
   "source": [
    "np.c_[features, imps[\"importances_mean\"]]"
   ]
  },
  {
   "cell_type": "code",
   "execution_count": null,
   "id": "3c30cd50",
   "metadata": {
    "ExecuteTime": {
     "end_time": "2022-11-24T23:03:11.770300Z",
     "start_time": "2022-11-24T23:03:11.434708Z"
    }
   },
   "outputs": [],
   "source": [
    "shap.summary_plot(a, X.iloc[:, [2, 4, 6, 7]], plot_type=\"bar\")"
   ]
  },
  {
   "cell_type": "code",
   "execution_count": null,
   "id": "4f499f22",
   "metadata": {},
   "outputs": [],
   "source": []
  },
  {
   "cell_type": "code",
   "execution_count": null,
   "id": "bc5bbdb7",
   "metadata": {},
   "outputs": [],
   "source": []
  },
  {
   "cell_type": "code",
   "execution_count": null,
   "id": "0c999db9",
   "metadata": {
    "ExecuteTime": {
     "end_time": "2022-11-24T22:05:31.971759Z",
     "start_time": "2022-11-24T22:05:31.040710Z"
    }
   },
   "outputs": [],
   "source": [
    "pimp = permutation_importance(lr, X, y, scoring = \"accuracy\",\n",
    "                              random_state = 42, n_repeats = 30)\n",
    "\n",
    "pimp_red = permutation_importance(lr_red, X_red, y, scoring = \"accuracy\",\n",
    "                                  random_state = 42, n_repeats = 30)"
   ]
  },
  {
   "cell_type": "code",
   "execution_count": null,
   "id": "82d99f20",
   "metadata": {},
   "outputs": [],
   "source": []
  },
  {
   "cell_type": "code",
   "execution_count": null,
   "id": "cafd122e",
   "metadata": {
    "ExecuteTime": {
     "end_time": "2022-11-24T22:09:50.148419Z",
     "start_time": "2022-11-24T22:09:49.928684Z"
    }
   },
   "outputs": [],
   "source": [
    "a = np.c_[[2, 4, 6, 7], pimp_red[\"importances_mean\"]]\n",
    "a"
   ]
  },
  {
   "cell_type": "code",
   "execution_count": null,
   "id": "a10c1835",
   "metadata": {
    "ExecuteTime": {
     "end_time": "2022-11-24T22:11:01.947685Z",
     "start_time": "2022-11-24T22:11:01.717116Z"
    }
   },
   "outputs": [],
   "source": []
  },
  {
   "cell_type": "code",
   "execution_count": null,
   "id": "8b4cbd7a",
   "metadata": {
    "ExecuteTime": {
     "end_time": "2022-11-24T22:11:19.629525Z",
     "start_time": "2022-11-24T22:11:19.412587Z"
    }
   },
   "outputs": [],
   "source": [
    "sorted_full = sorted(range(len(pimp[\"importances_mean\"])),\n",
    "                     key = lambda k: pimp[\"importances_mean\"][k],\n",
    "                     reverse = True)\n",
    "sorted_red = a[a[:, 1].argsort()[::-1]][:, 0]"
   ]
  },
  {
   "cell_type": "code",
   "execution_count": null,
   "id": "0d9bd364",
   "metadata": {
    "ExecuteTime": {
     "end_time": "2022-11-24T22:16:33.824330Z",
     "start_time": "2022-11-24T22:16:33.590326Z"
    }
   },
   "outputs": [],
   "source": [
    "pd.DataFrame(np.c_[[1, 5, 6], np.random.randint(0, 10, size = (3, 5))])"
   ]
  },
  {
   "cell_type": "code",
   "execution_count": null,
   "id": "7fd3dcd1",
   "metadata": {
    "ExecuteTime": {
     "end_time": "2022-11-24T22:13:44.731293Z",
     "start_time": "2022-11-24T22:13:44.487633Z"
    }
   },
   "outputs": [],
   "source": [
    "X.iloc[:, sorted_red.astype(int)]"
   ]
  },
  {
   "cell_type": "code",
   "execution_count": null,
   "id": "81a44a64",
   "metadata": {
    "ExecuteTime": {
     "end_time": "2022-11-24T22:07:10.807526Z",
     "start_time": "2022-11-24T22:07:10.566022Z"
    }
   },
   "outputs": [],
   "source": [
    "sorted_full"
   ]
  },
  {
   "cell_type": "code",
   "execution_count": null,
   "id": "d6888961",
   "metadata": {
    "ExecuteTime": {
     "end_time": "2022-11-24T22:02:50.876414Z",
     "start_time": "2022-11-24T22:02:50.653685Z"
    }
   },
   "outputs": [],
   "source": [
    "datasets[\"BF_df_CTU\"].shape"
   ]
  },
  {
   "cell_type": "code",
   "execution_count": null,
   "id": "eadb466d",
   "metadata": {},
   "outputs": [],
   "source": []
  },
  {
   "cell_type": "code",
   "execution_count": null,
   "id": "69ad9797",
   "metadata": {
    "ExecuteTime": {
     "end_time": "2022-11-24T21:53:31.987994Z",
     "start_time": "2022-11-24T21:53:31.747200Z"
    }
   },
   "outputs": [],
   "source": []
  },
  {
   "cell_type": "code",
   "execution_count": null,
   "id": "8c21eb2f",
   "metadata": {
    "ExecuteTime": {
     "end_time": "2022-11-24T21:51:32.485663Z",
     "start_time": "2022-11-24T21:51:32.144586Z"
    }
   },
   "outputs": [],
   "source": [
    "plt.bar(x = range(len(pimp[\"importances_mean\"])),\n",
    "        height = pimp[\"importances_mean\"],\n",
    "        yerr = pimp[\"importances_std\"],\n",
    "        alpha = .7)"
   ]
  },
  {
   "cell_type": "code",
   "execution_count": null,
   "id": "986effb6",
   "metadata": {},
   "outputs": [],
   "source": []
  },
  {
   "cell_type": "code",
   "execution_count": null,
   "id": "b28c994c",
   "metadata": {},
   "outputs": [],
   "source": []
  },
  {
   "cell_type": "code",
   "execution_count": null,
   "id": "f7f92e8f",
   "metadata": {},
   "outputs": [],
   "source": []
  },
  {
   "cell_type": "code",
   "execution_count": null,
   "id": "1f13b374",
   "metadata": {
    "ExecuteTime": {
     "end_time": "2022-11-24T21:16:00.225132Z",
     "start_time": "2022-11-24T21:15:59.802027Z"
    }
   },
   "outputs": [],
   "source": [
    "pd.DataFrame(var_treshs).plot(figsize = (20, 10))\n",
    "plt.show()"
   ]
  },
  {
   "cell_type": "code",
   "execution_count": null,
   "id": "a3ea0d39",
   "metadata": {
    "ExecuteTime": {
     "end_time": "2022-11-24T20:07:24.354386Z",
     "start_time": "2022-11-24T20:07:24.015031Z"
    }
   },
   "outputs": [],
   "source": [
    "plt.plot(feats)"
   ]
  }
 ],
 "metadata": {
  "kernelspec": {
   "display_name": "Python 3 (ipykernel)",
   "language": "python",
   "name": "python3"
  },
  "language_info": {
   "codemirror_mode": {
    "name": "ipython",
    "version": 3
   },
   "file_extension": ".py",
   "mimetype": "text/x-python",
   "name": "python",
   "nbconvert_exporter": "python",
   "pygments_lexer": "ipython3",
   "version": "3.9.12"
  }
 },
 "nbformat": 4,
 "nbformat_minor": 5
}
