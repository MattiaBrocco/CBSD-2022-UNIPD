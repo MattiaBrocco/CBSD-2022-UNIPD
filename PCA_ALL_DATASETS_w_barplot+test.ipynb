{
  "cells": [
    {
      "cell_type": "code",
      "execution_count": 1,
      "id": "2b751281",
      "metadata": {
        "id": "2b751281"
      },
      "outputs": [],
      "source": [
        "import numpy as np\n",
        "import pandas as pd\n",
        "from sklearn.linear_model import LassoCV\n",
        "from sklearn.model_selection import train_test_split\n",
        "from sklearn.linear_model import LogisticRegression\n",
        "from sklearn.metrics import accuracy_score\n",
        "from sklearn.tree import DecisionTreeClassifier\n",
        "from matplotlib import pyplot\n",
        "from sklearn.ensemble import RandomForestClassifier\n",
        "from sklearn.decomposition import PCA\n",
        "from sklearn.preprocessing import StandardScaler\n",
        "import matplotlib.pyplot as plt\n",
        "from sklearn.preprocessing import MinMaxScaler\n",
        "from sklearn.tree import DecisionTreeClassifier\n",
        "from sklearn.svm import LinearSVC\n",
        "from scipy.stats import mannwhitneyu"
      ]
    },
    {
      "cell_type": "code",
      "execution_count": 2,
      "id": "8cd313cf",
      "metadata": {
        "id": "8cd313cf"
      },
      "outputs": [],
      "source": [
        "BF_df_CTU = pd.read_feather(\"BF_df_CTU.feather\")\n",
        "BF_df_OU = pd.read_feather(\"BF_df_OU.feather\")\n",
        "BF_df_V = pd.read_feather(\"BF_df_V.feather\")\n",
        "DT_df_CC = pd.read_feather(\"DT_df_CC.feather\")\n",
        "DT_df_JI = pd.read_feather(\"DT_df_JI.feather\")\n",
        "IADQ_df = pd.read_feather(\"IADQ_df.feather\")\n",
        "IESR_df = pd.read_feather(\"IESR_df.feather\")\n",
        "NAQ_R_df = pd.read_feather(\"NAQ_R_df.feather\")\n",
        "PCL5_df = pd.read_feather(\"PCL5_df.feather\")\n",
        "PHQ9_GAD7_df = pd.read_feather(\"PHQ9_GAD7_df.feather\")\n",
        "PID5_df = pd.read_feather(\"PID5_df.feather\")\n",
        "PRFQ_df = pd.read_feather(\"PRFQ_df.feather\")\n",
        "PRMQ_df = pd.read_feather(\"PRMQ_df.feather\")\n",
        "R_NEO_PI = pd.read_feather(\"R_NEO_PI.feather\")\n",
        "RAW_DDDT = pd.read_feather(\"RAW_DDDT.feather\")\n",
        "sPID_5_df = pd.read_feather(\"sPID-5_df.feather\")"
      ]
    },
    {
      "cell_type": "code",
      "execution_count": 3,
      "id": "dc305fb1",
      "metadata": {
        "id": "dc305fb1"
      },
      "outputs": [],
      "source": [
        "dfs = [BF_df_CTU, BF_df_OU, BF_df_V, DT_df_CC, DT_df_JI, IADQ_df, IESR_df, NAQ_R_df, PCL5_df, PHQ9_GAD7_df, PID5_df, PRFQ_df, PRMQ_df, R_NEO_PI, RAW_DDDT, sPID_5_df]"
      ]
    },
    {
      "cell_type": "code",
      "execution_count": 4,
      "id": "1b428729",
      "metadata": {
        "id": "1b428729"
      },
      "outputs": [],
      "source": [
        "dfs_2 = [BF_df_CTU, BF_df_OU, BF_df_V, DT_df_CC, DT_df_JI, IADQ_df, IESR_df, NAQ_R_df, PCL5_df, PHQ9_GAD7_df, PID5_df, PRFQ_df, PRMQ_df, R_NEO_PI, RAW_DDDT, sPID_5_df]"
      ]
    },
    {
      "cell_type": "code",
      "execution_count": 5,
      "id": "eq5rQgPx0N9h",
      "metadata": {
        "id": "eq5rQgPx0N9h"
      },
      "outputs": [],
      "source": [
        "dfs_names = ['BF_df_CTU', 'BF_df_OU', 'BF_df_V', 'DT_df_CC', 'DF_df_JI', 'IADQ_df', 'IESR_df', 'NAQ_R_df', 'PCL5_df', 'PHQ9_GAD7_df', 'PID5_df', 'PRFQ_df', 'PRMQ_df', 'R_NEO_PI', 'RAQ_DDDT', 'sPID-5_df']"
      ]
    },
    {
      "cell_type": "code",
      "execution_count": null,
      "id": "95f1cbe8",
      "metadata": {
        "id": "95f1cbe8"
      },
      "outputs": [],
      "source": [
        "for i in dfs:\n",
        "    n, p = i.shape\n",
        "    print(n, p)"
      ]
    },
    {
      "cell_type": "code",
      "execution_count": 6,
      "id": "87f9ccdd",
      "metadata": {
        "id": "87f9ccdd"
      },
      "outputs": [],
      "source": [
        "for i in dfs:\n",
        "    i['CONDITION'] = i['CONDITION'].replace(['H', 'D', 'HONEST', 'DISHONEST', 'FAKE'], ['1', '0', '1', '0', '0'])"
      ]
    },
    {
      "cell_type": "markdown",
      "id": "4d4f1c2d",
      "metadata": {
        "id": "4d4f1c2d"
      },
      "source": [
        "### Accuracy of complete datasets"
      ]
    },
    {
      "cell_type": "code",
      "execution_count": 7,
      "id": "02b2102e",
      "metadata": {
        "id": "02b2102e"
      },
      "outputs": [],
      "source": [
        "def complete_ds_acc(dfs, dfs_names, data):\n",
        "    for i in range(len(dfs)):\n",
        "        \n",
        "        X = dfs[i].iloc[:,:-1]\n",
        "        y = dfs[i].iloc[:,-1]\n",
        "        center_function = lambda x: x - x.mean()\n",
        "        X = center_function(X)\n",
        "        X_train, X_test, y_train, y_test = train_test_split(X, y, test_size=0.3, random_state=42)\n",
        "\n",
        "        # LOGISTIC REGRESSION\n",
        "        lr = LogisticRegression(C=0.01, random_state=42)\n",
        "        lr.fit(X_train, y_train)\n",
        "        y_lr_pred = lr.predict(X_test)\n",
        "        acc_lr = accuracy_score(y_test, y_lr_pred)\n",
        "\n",
        "        # RANDOM FOREST\n",
        "        rf = RandomForestClassifier(random_state=42)\n",
        "        rf.fit(X_train, y_train)\n",
        "        y_rf_pred = rf.predict(X_test)\n",
        "        acc_rf = accuracy_score(y_test, y_rf_pred)\n",
        "\n",
        "        #SVM\n",
        "        svm = LinearSVC(loss='hinge',random_state=42, max_iter = 100000)\n",
        "        svm.fit(X_train, y_train)\n",
        "        y_pred_svm = svm.predict(X_test)\n",
        "        acc_svm = accuracy_score(y_pred_svm,y_test)\n",
        "\n",
        "        data[dfs_names[i]] = [acc_lr,acc_rf, acc_svm]\n",
        "\n",
        "        \n",
        "    return data"
      ]
    },
    {
      "cell_type": "code",
      "execution_count": 8,
      "id": "3f46ed43",
      "metadata": {
        "colab": {
          "base_uri": "https://localhost:8080/",
          "height": 178
        },
        "id": "3f46ed43",
        "outputId": "4a719c07-eba7-4e5b-dd02-70e98e72d8ed"
      },
      "outputs": [
        {
          "output_type": "stream",
          "name": "stderr",
          "text": [
            "/usr/local/lib/python3.7/dist-packages/sklearn/svm/_base.py:1208: ConvergenceWarning: Liblinear failed to converge, increase the number of iterations.\n",
            "  ConvergenceWarning,\n"
          ]
        },
        {
          "output_type": "execute_result",
          "data": {
            "text/plain": [
              "   BF_df_CTU  BF_df_OU  BF_df_V  DT_df_CC  DF_df_JI  IADQ_df  IESR_df  \\\n",
              "0      0.797     0.841    0.740     0.717     0.665    0.844    0.963   \n",
              "1      0.827     0.877    0.747     0.731     0.608    0.807    0.907   \n",
              "2      0.805     0.826    0.733     0.683     0.662    0.844    0.898   \n",
              "\n",
              "   NAQ_R_df  PCL5_df  PHQ9_GAD7_df  PID5_df  PRFQ_df  PRMQ_df  R_NEO_PI  \\\n",
              "0     0.977    0.835         0.988    0.972    0.931    0.912     0.907   \n",
              "1     0.958    0.843         0.982    0.972    0.926    0.931     0.914   \n",
              "2     0.972    0.851         0.985    0.931    0.936    0.903     0.907   \n",
              "\n",
              "   RAQ_DDDT  sPID-5_df  \n",
              "0     0.747      0.968  \n",
              "1     0.743      0.965  \n",
              "2     0.753      0.968  "
            ],
            "text/html": [
              "\n",
              "  <div id=\"df-62898fd9-6567-4f48-9e9b-615cce5b4d69\">\n",
              "    <div class=\"colab-df-container\">\n",
              "      <div>\n",
              "<style scoped>\n",
              "    .dataframe tbody tr th:only-of-type {\n",
              "        vertical-align: middle;\n",
              "    }\n",
              "\n",
              "    .dataframe tbody tr th {\n",
              "        vertical-align: top;\n",
              "    }\n",
              "\n",
              "    .dataframe thead th {\n",
              "        text-align: right;\n",
              "    }\n",
              "</style>\n",
              "<table border=\"1\" class=\"dataframe\">\n",
              "  <thead>\n",
              "    <tr style=\"text-align: right;\">\n",
              "      <th></th>\n",
              "      <th>BF_df_CTU</th>\n",
              "      <th>BF_df_OU</th>\n",
              "      <th>BF_df_V</th>\n",
              "      <th>DT_df_CC</th>\n",
              "      <th>DF_df_JI</th>\n",
              "      <th>IADQ_df</th>\n",
              "      <th>IESR_df</th>\n",
              "      <th>NAQ_R_df</th>\n",
              "      <th>PCL5_df</th>\n",
              "      <th>PHQ9_GAD7_df</th>\n",
              "      <th>PID5_df</th>\n",
              "      <th>PRFQ_df</th>\n",
              "      <th>PRMQ_df</th>\n",
              "      <th>R_NEO_PI</th>\n",
              "      <th>RAQ_DDDT</th>\n",
              "      <th>sPID-5_df</th>\n",
              "    </tr>\n",
              "  </thead>\n",
              "  <tbody>\n",
              "    <tr>\n",
              "      <th>0</th>\n",
              "      <td>0.797</td>\n",
              "      <td>0.841</td>\n",
              "      <td>0.740</td>\n",
              "      <td>0.717</td>\n",
              "      <td>0.665</td>\n",
              "      <td>0.844</td>\n",
              "      <td>0.963</td>\n",
              "      <td>0.977</td>\n",
              "      <td>0.835</td>\n",
              "      <td>0.988</td>\n",
              "      <td>0.972</td>\n",
              "      <td>0.931</td>\n",
              "      <td>0.912</td>\n",
              "      <td>0.907</td>\n",
              "      <td>0.747</td>\n",
              "      <td>0.968</td>\n",
              "    </tr>\n",
              "    <tr>\n",
              "      <th>1</th>\n",
              "      <td>0.827</td>\n",
              "      <td>0.877</td>\n",
              "      <td>0.747</td>\n",
              "      <td>0.731</td>\n",
              "      <td>0.608</td>\n",
              "      <td>0.807</td>\n",
              "      <td>0.907</td>\n",
              "      <td>0.958</td>\n",
              "      <td>0.843</td>\n",
              "      <td>0.982</td>\n",
              "      <td>0.972</td>\n",
              "      <td>0.926</td>\n",
              "      <td>0.931</td>\n",
              "      <td>0.914</td>\n",
              "      <td>0.743</td>\n",
              "      <td>0.965</td>\n",
              "    </tr>\n",
              "    <tr>\n",
              "      <th>2</th>\n",
              "      <td>0.805</td>\n",
              "      <td>0.826</td>\n",
              "      <td>0.733</td>\n",
              "      <td>0.683</td>\n",
              "      <td>0.662</td>\n",
              "      <td>0.844</td>\n",
              "      <td>0.898</td>\n",
              "      <td>0.972</td>\n",
              "      <td>0.851</td>\n",
              "      <td>0.985</td>\n",
              "      <td>0.931</td>\n",
              "      <td>0.936</td>\n",
              "      <td>0.903</td>\n",
              "      <td>0.907</td>\n",
              "      <td>0.753</td>\n",
              "      <td>0.968</td>\n",
              "    </tr>\n",
              "  </tbody>\n",
              "</table>\n",
              "</div>\n",
              "      <button class=\"colab-df-convert\" onclick=\"convertToInteractive('df-62898fd9-6567-4f48-9e9b-615cce5b4d69')\"\n",
              "              title=\"Convert this dataframe to an interactive table.\"\n",
              "              style=\"display:none;\">\n",
              "        \n",
              "  <svg xmlns=\"http://www.w3.org/2000/svg\" height=\"24px\"viewBox=\"0 0 24 24\"\n",
              "       width=\"24px\">\n",
              "    <path d=\"M0 0h24v24H0V0z\" fill=\"none\"/>\n",
              "    <path d=\"M18.56 5.44l.94 2.06.94-2.06 2.06-.94-2.06-.94-.94-2.06-.94 2.06-2.06.94zm-11 1L8.5 8.5l.94-2.06 2.06-.94-2.06-.94L8.5 2.5l-.94 2.06-2.06.94zm10 10l.94 2.06.94-2.06 2.06-.94-2.06-.94-.94-2.06-.94 2.06-2.06.94z\"/><path d=\"M17.41 7.96l-1.37-1.37c-.4-.4-.92-.59-1.43-.59-.52 0-1.04.2-1.43.59L10.3 9.45l-7.72 7.72c-.78.78-.78 2.05 0 2.83L4 21.41c.39.39.9.59 1.41.59.51 0 1.02-.2 1.41-.59l7.78-7.78 2.81-2.81c.8-.78.8-2.07 0-2.86zM5.41 20L4 18.59l7.72-7.72 1.47 1.35L5.41 20z\"/>\n",
              "  </svg>\n",
              "      </button>\n",
              "      \n",
              "  <style>\n",
              "    .colab-df-container {\n",
              "      display:flex;\n",
              "      flex-wrap:wrap;\n",
              "      gap: 12px;\n",
              "    }\n",
              "\n",
              "    .colab-df-convert {\n",
              "      background-color: #E8F0FE;\n",
              "      border: none;\n",
              "      border-radius: 50%;\n",
              "      cursor: pointer;\n",
              "      display: none;\n",
              "      fill: #1967D2;\n",
              "      height: 32px;\n",
              "      padding: 0 0 0 0;\n",
              "      width: 32px;\n",
              "    }\n",
              "\n",
              "    .colab-df-convert:hover {\n",
              "      background-color: #E2EBFA;\n",
              "      box-shadow: 0px 1px 2px rgba(60, 64, 67, 0.3), 0px 1px 3px 1px rgba(60, 64, 67, 0.15);\n",
              "      fill: #174EA6;\n",
              "    }\n",
              "\n",
              "    [theme=dark] .colab-df-convert {\n",
              "      background-color: #3B4455;\n",
              "      fill: #D2E3FC;\n",
              "    }\n",
              "\n",
              "    [theme=dark] .colab-df-convert:hover {\n",
              "      background-color: #434B5C;\n",
              "      box-shadow: 0px 1px 3px 1px rgba(0, 0, 0, 0.15);\n",
              "      filter: drop-shadow(0px 1px 2px rgba(0, 0, 0, 0.3));\n",
              "      fill: #FFFFFF;\n",
              "    }\n",
              "  </style>\n",
              "\n",
              "      <script>\n",
              "        const buttonEl =\n",
              "          document.querySelector('#df-62898fd9-6567-4f48-9e9b-615cce5b4d69 button.colab-df-convert');\n",
              "        buttonEl.style.display =\n",
              "          google.colab.kernel.accessAllowed ? 'block' : 'none';\n",
              "\n",
              "        async function convertToInteractive(key) {\n",
              "          const element = document.querySelector('#df-62898fd9-6567-4f48-9e9b-615cce5b4d69');\n",
              "          const dataTable =\n",
              "            await google.colab.kernel.invokeFunction('convertToInteractive',\n",
              "                                                     [key], {});\n",
              "          if (!dataTable) return;\n",
              "\n",
              "          const docLinkHtml = 'Like what you see? Visit the ' +\n",
              "            '<a target=\"_blank\" href=https://colab.research.google.com/notebooks/data_table.ipynb>data table notebook</a>'\n",
              "            + ' to learn more about interactive tables.';\n",
              "          element.innerHTML = '';\n",
              "          dataTable['output_type'] = 'display_data';\n",
              "          await google.colab.output.renderOutput(dataTable, element);\n",
              "          const docLink = document.createElement('div');\n",
              "          docLink.innerHTML = docLinkHtml;\n",
              "          element.appendChild(docLink);\n",
              "        }\n",
              "      </script>\n",
              "    </div>\n",
              "  </div>\n",
              "  "
            ]
          },
          "metadata": {},
          "execution_count": 8
        }
      ],
      "source": [
        "dic_acc = {}\n",
        "results_acc = complete_ds_acc(dfs_2, dfs_names, dic_acc)\n",
        "acc_df = pd.DataFrame(results_acc)\n",
        "acc_df.round(3)"
      ]
    },
    {
      "cell_type": "markdown",
      "id": "2a64f36d",
      "metadata": {
        "id": "2a64f36d"
      },
      "source": [
        "### Mann-Whitney U test"
      ]
    },
    {
      "cell_type": "code",
      "execution_count": null,
      "id": "9eda071c",
      "metadata": {
        "id": "9eda071c"
      },
      "outputs": [],
      "source": [
        "### soglia 0.01 o 0.05 ? \n",
        "\n",
        "\n",
        "for i in range(len(dfs)):\n",
        "    n, p = dfs[i].shape\n",
        "    print(p-1)\n",
        "    X_honest = dfs[i][dfs[i]['CONDITION'] == '1'].iloc[:, :-1]\n",
        "    X_dishonest = dfs[i][dfs[i]['CONDITION'] == '0'].iloc[:, :-1]\n",
        "    indices = []\n",
        "    for k in range(0, (p-1)):\n",
        "        U1, s = mannwhitneyu(X_honest.iloc[:, k], X_dishonest.iloc[:, k])\n",
        "        if s < 0.01:\n",
        "            indices.append(k)\n",
        "    print(len(indices))\n",
        "    print(' ')"
      ]
    },
    {
      "cell_type": "code",
      "execution_count": null,
      "id": "9c0307f5",
      "metadata": {
        "id": "9c0307f5"
      },
      "outputs": [],
      "source": [
        "def new_mwu_data(dfs):\n",
        "    for i in range(len(dfs)):\n",
        "        n, p = dfs[i].shape\n",
        "        X_honest = dfs[i][dfs[i]['CONDITION'] == '1'].iloc[:, :-1]\n",
        "        X_dishonest = dfs[i][dfs[i]['CONDITION'] == '0'].iloc[:, :-1]\n",
        "        indices = []\n",
        "        for k in range(0, (p-1)):\n",
        "            U1, s = mannwhitneyu(X_honest.iloc[:, k], X_dishonest.iloc[:, k])\n",
        "            if s < 0.01:\n",
        "                indices.append(k)\n",
        "        indices.append(-1)\n",
        "        dfs[i] = dfs[i].iloc[:, indices]\n",
        "        print(dfs[i])"
      ]
    },
    {
      "cell_type": "code",
      "execution_count": null,
      "id": "5f2420f1",
      "metadata": {
        "id": "5f2420f1"
      },
      "outputs": [],
      "source": [
        "new_mwu_data(dfs)"
      ]
    },
    {
      "cell_type": "markdown",
      "id": "bf2453c2",
      "metadata": {
        "id": "bf2453c2"
      },
      "source": [
        "### PCA plots"
      ]
    },
    {
      "cell_type": "code",
      "execution_count": null,
      "id": "03e08fe1",
      "metadata": {
        "id": "03e08fe1"
      },
      "outputs": [],
      "source": [
        "for i in dfs:\n",
        "    X = i.iloc[:,:-1]\n",
        "    y = i.iloc[:,-1]\n",
        "    center_function = lambda x: x - x.mean()\n",
        "    X = center_function(X)\n",
        "    X_train, X_test, y_train, y_test = train_test_split(X, y, test_size=0.3, random_state=42)\n",
        "    pca = PCA(0.70)\n",
        "    X_train_pca = pca.fit_transform(X_train)\n",
        "    X_test_pca = pca.transform(X_test)\n",
        "    \n",
        "    print(pca.explained_variance_ratio_)\n",
        "    plt.bar(\n",
        "    range(1,len(pca.explained_variance_)+1),\n",
        "    pca.explained_variance_\n",
        "    )\n",
        " \n",
        "    plt.plot(\n",
        "    range(1,len(pca.explained_variance_ )+1),\n",
        "    np.cumsum(pca.explained_variance_),\n",
        "    c='red',\n",
        "    label='Cumulative Explained Variance')\n",
        " \n",
        "    plt.legend(loc='upper left')\n",
        "    plt.xlabel('Number of components')\n",
        "    plt.ylabel('Explained variance (eignenvalues)')\n",
        "    plt.title('Scree plot')\n",
        " \n",
        "    plt.show()"
      ]
    },
    {
      "cell_type": "markdown",
      "id": "43df2a59",
      "metadata": {
        "id": "43df2a59"
      },
      "source": [
        "### Accuracy of datasets after PCA"
      ]
    },
    {
      "cell_type": "code",
      "execution_count": null,
      "id": "3fdd764f",
      "metadata": {
        "id": "3fdd764f"
      },
      "outputs": [],
      "source": [
        "def pca_ds_acc(dfs,dfs_names,data):\n",
        "    for i in range(len(dfs)):\n",
        "        \n",
        "        X = dfs[i].iloc[:,:-1]\n",
        "        y = dfs[i].iloc[:,-1]\n",
        "        center_function = lambda x: x - x.mean()\n",
        "        X = center_function(X)\n",
        "        X_train, X_test, y_train, y_test = train_test_split(X, y, test_size=0.3, random_state=42)\n",
        "        pca = PCA(0.70)\n",
        "        X_train_pca = pca.fit_transform(X_train)\n",
        "        X_test_pca = pca.transform(X_test)\n",
        "\n",
        "        n_pcs= pca.components_.shape[0]\n",
        "        pca_comp = [abs(pca.components_[x]) for x in range(n_pcs)]\n",
        "        pca_comp = [list(pca_comp[l]) for l in range(n_pcs)]\n",
        "        pca_comp_sort = [sorted(pca_comp[p])[-3:] for p in range(n_pcs)]\n",
        "\n",
        "        most_important_index = []\n",
        "        for k in range(len(pca_comp_sort)):\n",
        "          for j in range(len(pca_comp_sort[k])):\n",
        "            most_important_index.append(pca_comp[k].index(pca_comp_sort[k][j]))\n",
        "        \n",
        "        initial_feature_names = dfs[i].columns\n",
        "        most_important_index = list(set(most_important_index))\n",
        "        most_important_names = [initial_feature_names[most_important_index[q]] for q in range(len(most_important_index))]\n",
        "        \n",
        "        sub_col = list(most_important_names)\n",
        "        sub_col.append(\"CONDITION\")\n",
        "        df_5 = dfs[i][sub_col]    \n",
        "        print(dfs_names[i])\n",
        "        print([dfs[i].columns.get_loc(sub_col[j]) for j in range(len(sub_col))])\n",
        "\n",
        "        X_sub = df_5.iloc[:,:-1]\n",
        "        y_sub = df_5.iloc[:,-1]\n",
        "        X_sub_train, X_sub_test, y_train, y_test = train_test_split(X_sub, y_sub, test_size=0.3, random_state=42)\n",
        "\n",
        "        # LOGISTIC REGRESSION\n",
        "        lr = LogisticRegression(C=0.01, random_state=42)\n",
        "        lr.fit(X_sub_train, y_train)\n",
        "        y_lr_pred = lr.predict(X_sub_test)\n",
        "        acc_lr = accuracy_score(y_test, y_lr_pred)\n",
        "        #feture importance LR \n",
        "        importances = pd.DataFrame(data={\n",
        "            'Attribute': X_sub_train.columns,\n",
        "            'Importance': lr.coef_[0]\n",
        "        })\n",
        "        importances = importances.sort_values(by='Importance', ascending=False)\n",
        "        plt.bar(x=importances['Attribute'], height=importances['Importance'], color='#087E8B')\n",
        "        plt.title('Feature importances obtained from coefficients- LOGISTIC REGRESSION', size=20)\n",
        "        plt.xticks(rotation='vertical')\n",
        "        plt.show()\n",
        "\n",
        "        # RANDOM FOREST\n",
        "        rf = RandomForestClassifier(random_state=42)\n",
        "        rf.fit(X_sub_train, y_train)\n",
        "        y_rf_pred = rf.predict(X_sub_test)\n",
        "        acc_rf = accuracy_score(y_test, y_rf_pred)\n",
        "        #feture importance RF\n",
        "        importance = rf.feature_importances_\n",
        "\n",
        "        print(pd.DataFrame(np.c_[X_sub_train.columns, rf.feature_importances_],\n",
        "                          columns = [\"Feature\", \"Importance\"]).sort_values(\"Importance\", ascending = False))\n",
        "        plt.bar(X_sub_train.columns, importance)\n",
        "        plt.xticks(rotation='vertical')\n",
        "        plt.show()\n",
        "\n",
        "        #SVM\n",
        "        svm = LinearSVC(loss='hinge',random_state=42)\n",
        "        svm.fit(X_sub_train, y_train)\n",
        "        y_pred_svm = svm.predict(X_sub_test)\n",
        "        acc_svm = accuracy_score(y_pred_svm,y_test)\n",
        "        importances = pd.DataFrame(data={\n",
        "            'Attribute': X_sub_train.columns,\n",
        "            'Importance': svm.coef_[0]\n",
        "        })\n",
        "        #feture importance SVM\n",
        "        importances = importances.sort_values(by='Importance', ascending=False)\n",
        "        plt.bar(x=importances['Attribute'], height=importances['Importance'], color='#087E8B')\n",
        "        plt.title('Feature importances obtained from coefficients- SVM', size=20)\n",
        "        plt.xticks(rotation='vertical')\n",
        "        plt.show()\n",
        "\n",
        "        data[dfs_names[i]] = [acc_lr,acc_rf, acc_svm]\n",
        "\n",
        "        \n",
        "    return data\n"
      ]
    },
    {
      "cell_type": "code",
      "execution_count": null,
      "id": "6387e190",
      "metadata": {
        "id": "6387e190"
      },
      "outputs": [],
      "source": [
        "data = {}\n",
        "results_acc = pca_ds_acc(dfs,dfs_names,data)\n",
        "print(results_acc)"
      ]
    },
    {
      "cell_type": "code",
      "execution_count": null,
      "id": "KrJLcB7m2hUX",
      "metadata": {
        "id": "KrJLcB7m2hUX"
      },
      "outputs": [],
      "source": [
        "acc_df = pd.DataFrame(results_acc)\n",
        "acc_df"
      ]
    },
    {
      "cell_type": "code",
      "execution_count": null,
      "id": "x_9lP0fw23lc",
      "metadata": {
        "id": "x_9lP0fw23lc"
      },
      "outputs": [],
      "source": [
        "mean_acc_df = acc_df.mean()\n",
        "mean_acc_df"
      ]
    },
    {
      "cell_type": "code",
      "execution_count": null,
      "id": "rZZrWfbP3L14",
      "metadata": {
        "id": "rZZrWfbP3L14"
      },
      "outputs": [],
      "source": [
        "X_axis = np.arange(len(dfs_names))\n",
        "X_axis"
      ]
    },
    {
      "cell_type": "code",
      "execution_count": null,
      "id": "1yjXidrr3PpW",
      "metadata": {
        "id": "1yjXidrr3PpW"
      },
      "outputs": [],
      "source": [
        "std_acc = acc_df.std()\n",
        "std_acc"
      ]
    },
    {
      "cell_type": "code",
      "execution_count": null,
      "id": "zexckWGP3X58",
      "metadata": {
        "id": "zexckWGP3X58"
      },
      "outputs": [],
      "source": [
        "f = plt.figure()\n",
        "f.set_figwidth(24)\n",
        "f.set_figheight(10)\n",
        "plt.rc('xtick', labelsize=20) \n",
        "plt.rc('ytick', labelsize=20)\n",
        "plt.bar(X_axis, mean_acc_df,0.4, yerr = std_acc)\n",
        "plt.xticks(X_axis, dfs_names, rotation=90)\n",
        "plt.show()"
      ]
    }
  ],
  "metadata": {
    "colab": {
      "provenance": []
    },
    "kernelspec": {
      "display_name": "Python 3",
      "language": "python",
      "name": "python3"
    },
    "language_info": {
      "codemirror_mode": {
        "name": "ipython",
        "version": 3
      },
      "file_extension": ".py",
      "mimetype": "text/x-python",
      "name": "python",
      "nbconvert_exporter": "python",
      "pygments_lexer": "ipython3",
      "version": "3.8.8"
    }
  },
  "nbformat": 4,
  "nbformat_minor": 5
}