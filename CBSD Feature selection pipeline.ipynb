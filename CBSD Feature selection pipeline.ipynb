{
 "cells": [
  {
   "cell_type": "markdown",
   "id": "c65e68df",
   "metadata": {},
   "source": [
    "# Cognitive, behavioral and social data\n",
    "**Author**: Mattia Brocco"
   ]
  },
  {
   "cell_type": "code",
   "execution_count": 1,
   "id": "3f6cda3e",
   "metadata": {
    "ExecuteTime": {
     "end_time": "2022-12-14T18:45:40.930205Z",
     "start_time": "2022-12-14T18:45:24.780701Z"
    }
   },
   "outputs": [],
   "source": [
    "import os\n",
    "\n",
    "# COPIA QUI LA DIRECTORY DOVE HAI R\n",
    "os.environ[\"R_HOME\"] = r\"C:\\Program Files\\R\\R-4.0.2\"\n",
    "#os.environ[\"R_LIBS_USER\"] = r\"C:/Program Files/R/R-4.0.2/library/stats/libs/x64\"\n",
    "\n",
    "import sys\n",
    "import warnings\n",
    "import numpy as np\n",
    "import pandas as pd\n",
    "import seaborn as sns\n",
    "import matplotlib.pyplot as plt\n",
    "\n",
    "import support\n",
    "import evaluation\n",
    "import pca_engine\n",
    "import summary_graphs\n",
    "from engine import Classification\n",
    "\n",
    "%load_ext autoreload\n",
    "%autoreload 2\n",
    "\n",
    "data_dir = \".\\\\data\"\n",
    "\n",
    "warnings.filterwarnings(\"ignore\")\n",
    "pd.options.display.max_columns = 500"
   ]
  },
  {
   "cell_type": "markdown",
   "id": "83bb0745",
   "metadata": {},
   "source": [
    "### Datasets at hand"
   ]
  },
  {
   "cell_type": "code",
   "execution_count": null,
   "id": "2b0038cd",
   "metadata": {
    "ExecuteTime": {
     "end_time": "2022-12-14T15:36:51.597397Z",
     "start_time": "2022-12-14T15:36:50.910271Z"
    },
    "scrolled": true
   },
   "outputs": [],
   "source": [
    "#data_descr = pd.DataFrame(dict(zip([f for f in os.listdir(data_dir) if \"parquet\" in f],\n",
    "#                                   [pd.read_parquet(f\"{data_dir}\\\\{f}\").shape for f in os.listdir(data_dir)\n",
    "#                                    if \"parquet\" in f]))).T.reset_index()\n",
    "#data_descr = data_descr.rename(columns = {\"index\": \"Data\", 0: \"Sample size\",\n",
    "#                                          1: \"Features\"})\n",
    "#data_descr"
   ]
  },
  {
   "cell_type": "markdown",
   "id": "7b0b0806",
   "metadata": {},
   "source": [
    "## Principal Components Analysis (PCA)"
   ]
  },
  {
   "cell_type": "code",
   "execution_count": 79,
   "id": "d9950039",
   "metadata": {
    "ExecuteTime": {
     "end_time": "2022-12-14T20:58:06.217297Z",
     "start_time": "2022-12-14T20:50:13.932695Z"
    }
   },
   "outputs": [
    {
     "name": "stdout",
     "output_type": "stream",
     "text": [
      "BF_df_CTU\n"
     ]
    },
    {
     "data": {
      "application/vnd.jupyter.widget-view+json": {
       "model_id": "eff9f8e5c7d14696a6ba5c170488d9d2",
       "version_major": 2,
       "version_minor": 0
      },
      "text/plain": [
       "  0%|          | 0/100 [00:00<?, ?it/s]"
      ]
     },
     "metadata": {},
     "output_type": "display_data"
    },
    {
     "name": "stdout",
     "output_type": "stream",
     "text": [
      "5/5 [==============================] - 0s 2ms/step\n",
      "Train size: 309\n",
      "Selected 7 features out of 8\n",
      "BF_df_OU\n"
     ]
    },
    {
     "data": {
      "application/vnd.jupyter.widget-view+json": {
       "model_id": "9832998b29374270a7138b09ed5a272c",
       "version_major": 2,
       "version_minor": 0
      },
      "text/plain": [
       "  0%|          | 0/100 [00:00<?, ?it/s]"
      ]
     },
     "metadata": {},
     "output_type": "display_data"
    },
    {
     "name": "stdout",
     "output_type": "stream",
     "text": [
      "5/5 [==============================] - 0s 1ms/step\n",
      "Train size: 322\n",
      "Selected 8 features out of 9\n",
      "BF_df_V\n"
     ]
    },
    {
     "data": {
      "application/vnd.jupyter.widget-view+json": {
       "model_id": "dedf6b96379a41bd8965e2cdd1d8e722",
       "version_major": 2,
       "version_minor": 0
      },
      "text/plain": [
       "  0%|          | 0/100 [00:00<?, ?it/s]"
      ]
     },
     "metadata": {},
     "output_type": "display_data"
    },
    {
     "name": "stdout",
     "output_type": "stream",
     "text": [
      "5/5 [==============================] - 0s 1ms/step\n",
      "Train size: 340\n",
      "Selected 8 features out of 9\n",
      "DT_df_CC\n"
     ]
    },
    {
     "data": {
      "application/vnd.jupyter.widget-view+json": {
       "model_id": "8a21d86f3352413e8acf852a48bf1af2",
       "version_major": 2,
       "version_minor": 0
      },
      "text/plain": [
       "  0%|          | 0/100 [00:00<?, ?it/s]"
      ]
     },
     "metadata": {},
     "output_type": "display_data"
    },
    {
     "name": "stdout",
     "output_type": "stream",
     "text": [
      "5/5 [==============================] - 0s 1ms/step\n",
      "Train size: 337\n",
      "Selected 14 features out of 18\n",
      "DT_df_JI\n"
     ]
    },
    {
     "data": {
      "application/vnd.jupyter.widget-view+json": {
       "model_id": "d9dfd0b790194f78944d17f11d576577",
       "version_major": 2,
       "version_minor": 0
      },
      "text/plain": [
       "  0%|          | 0/100 [00:00<?, ?it/s]"
      ]
     },
     "metadata": {},
     "output_type": "display_data"
    },
    {
     "name": "stdout",
     "output_type": "stream",
     "text": [
      "9/9 [==============================] - 0s 1ms/step\n",
      "Train size: 604\n",
      "Selected 13 features out of 15\n",
      "IADQ_df\n"
     ]
    },
    {
     "data": {
      "application/vnd.jupyter.widget-view+json": {
       "model_id": "2dd28ee7165544b7bb059f5f62c77781",
       "version_major": 2,
       "version_minor": 0
      },
      "text/plain": [
       "  0%|          | 0/100 [00:00<?, ?it/s]"
      ]
     },
     "metadata": {},
     "output_type": "display_data"
    },
    {
     "name": "stdout",
     "output_type": "stream",
     "text": [
      "5/5 [==============================] - 0s 1ms/step\n",
      "Train size: 315\n",
      "Selected 3 features out of 9\n",
      "IESR_df\n"
     ]
    },
    {
     "data": {
      "application/vnd.jupyter.widget-view+json": {
       "model_id": "435f1c5e899a442781fdd01a7fd2fbcc",
       "version_major": 2,
       "version_minor": 0
      },
      "text/plain": [
       "  0%|          | 0/100 [00:00<?, ?it/s]"
      ]
     },
     "metadata": {},
     "output_type": "display_data"
    },
    {
     "name": "stdout",
     "output_type": "stream",
     "text": [
      "4/4 [==============================] - 0s 2ms/step\n",
      "Train size: 250\n",
      "Selected 6 features out of 21\n",
      "NAQ_R_df\n"
     ]
    },
    {
     "data": {
      "application/vnd.jupyter.widget-view+json": {
       "model_id": "de7fb693d80f4c7da939321e89dc5aa4",
       "version_major": 2,
       "version_minor": 0
      },
      "text/plain": [
       "  0%|          | 0/100 [00:00<?, ?it/s]"
      ]
     },
     "metadata": {},
     "output_type": "display_data"
    },
    {
     "name": "stdout",
     "output_type": "stream",
     "text": [
      "7/7 [==============================] - 0s 1ms/step\n",
      "Train size: 498\n",
      "Selected 3 features out of 22\n",
      "PCL5_df\n"
     ]
    },
    {
     "data": {
      "application/vnd.jupyter.widget-view+json": {
       "model_id": "b0c2336a966149f19c3f2f8f263a5b99",
       "version_major": 2,
       "version_minor": 0
      },
      "text/plain": [
       "  0%|          | 0/100 [00:00<?, ?it/s]"
      ]
     },
     "metadata": {},
     "output_type": "display_data"
    },
    {
     "name": "stdout",
     "output_type": "stream",
     "text": [
      "4/4 [==============================] - 0s 1ms/step\n",
      "Train size: 281\n",
      "Selected 6 features out of 20\n",
      "PHQ9_GAD7_df\n"
     ]
    },
    {
     "data": {
      "application/vnd.jupyter.widget-view+json": {
       "model_id": "d710d93522714af0ab19b1e70fe6befa",
       "version_major": 2,
       "version_minor": 0
      },
      "text/plain": [
       "  0%|          | 0/100 [00:00<?, ?it/s]"
      ]
     },
     "metadata": {},
     "output_type": "display_data"
    },
    {
     "name": "stdout",
     "output_type": "stream",
     "text": [
      "11/11 [==============================] - 0s 1ms/step\n",
      "Train size: 782\n",
      "Selected 9 features out of 16\n",
      "PID5_df\n"
     ]
    },
    {
     "data": {
      "application/vnd.jupyter.widget-view+json": {
       "model_id": "4c195b63f7e845f59004f5f982a38cec",
       "version_major": 2,
       "version_minor": 0
      },
      "text/plain": [
       "  0%|          | 0/100 [00:00<?, ?it/s]"
      ]
     },
     "metadata": {},
     "output_type": "display_data"
    },
    {
     "name": "stdout",
     "output_type": "stream",
     "text": [
      "8/8 [==============================] - 0s 1ms/step\n",
      "Train size: 576\n",
      "Selected 49 features out of 210\n",
      "PRFQ_df\n"
     ]
    },
    {
     "data": {
      "application/vnd.jupyter.widget-view+json": {
       "model_id": "42569aa19426443a93d088338fdd563e",
       "version_major": 2,
       "version_minor": 0
      },
      "text/plain": [
       "  0%|          | 0/100 [00:00<?, ?it/s]"
      ]
     },
     "metadata": {},
     "output_type": "display_data"
    },
    {
     "name": "stdout",
     "output_type": "stream",
     "text": [
      "7/7 [==============================] - 0s 1ms/step\n",
      "Train size: 474\n",
      "Selected 12 features out of 15\n",
      "PRMQ_df\n"
     ]
    },
    {
     "data": {
      "application/vnd.jupyter.widget-view+json": {
       "model_id": "a1cda9c970b74f8fbc788339e91e578d",
       "version_major": 2,
       "version_minor": 0
      },
      "text/plain": [
       "  0%|          | 0/100 [00:00<?, ?it/s]"
      ]
     },
     "metadata": {},
     "output_type": "display_data"
    },
    {
     "name": "stdout",
     "output_type": "stream",
     "text": [
      "14/14 [==============================] - 0s 1ms/step\n",
      "Train size: 982\n",
      "Selected 9 features out of 16\n",
      "RAW_DDDT\n"
     ]
    },
    {
     "data": {
      "application/vnd.jupyter.widget-view+json": {
       "model_id": "31a0bc1a29b249179ffcf0137f4e6311",
       "version_major": 2,
       "version_minor": 0
      },
      "text/plain": [
       "  0%|          | 0/100 [00:00<?, ?it/s]"
      ]
     },
     "metadata": {},
     "output_type": "display_data"
    },
    {
     "name": "stdout",
     "output_type": "stream",
     "text": [
      "10/10 [==============================] - 0s 2ms/step\n",
      "Train size: 690\n",
      "Selected 9 features out of 12\n",
      "R_NEO_PI\n"
     ]
    },
    {
     "data": {
      "application/vnd.jupyter.widget-view+json": {
       "model_id": "2e651f117a564aeca162670e95853082",
       "version_major": 2,
       "version_minor": 0
      },
      "text/plain": [
       "  0%|          | 0/100 [00:00<?, ?it/s]"
      ]
     },
     "metadata": {},
     "output_type": "display_data"
    },
    {
     "name": "stdout",
     "output_type": "stream",
     "text": [
      "729/729 [==============================] - 1s 969us/step\n",
      "Train size: 54380\n",
      "Selected 16 features out of 30\n",
      "sPID-5_df\n"
     ]
    },
    {
     "data": {
      "application/vnd.jupyter.widget-view+json": {
       "model_id": "ed5996d9271a4e8d810c39021e6821d9",
       "version_major": 2,
       "version_minor": 0
      },
      "text/plain": [
       "  0%|          | 0/100 [00:00<?, ?it/s]"
      ]
     },
     "metadata": {},
     "output_type": "display_data"
    },
    {
     "name": "stdout",
     "output_type": "stream",
     "text": [
      "10/10 [==============================] - 0s 1ms/step\n",
      "Train size: 726\n",
      "Selected 12 features out of 25\n"
     ]
    }
   ],
   "source": [
    "data_collection_pca = {}\n",
    "for dataset in [f for f in os.listdir(data_dir) if \"parquet\" in f]:\n",
    "    print(dataset.split(\".\")[0])\n",
    "    \n",
    "    data_iter = pca_engine.prepare_data(f\"{data_dir}\\\\{dataset}\", \"CONDITION\")\n",
    "    data_mwu = pca_engine.new_mwu_data(data_iter)\n",
    "    #pca_engine.scree_plot(data_mwu)\n",
    "    \n",
    "    var_sel = pca_engine.pca_ds_acc(data_mwu)\n",
    "    X_tr, X_ts, y_tr, y_ts = pca_engine.trts_split(data_mwu)\n",
    "    \n",
    "    perfs, stability = Classification().benchmark_models(X_tr, X_ts, y_tr, y_ts, var_sel)\n",
    "    \n",
    "    data_collection_pca[dataset.split(\".\")[0]] = [X_tr, X_ts, y_tr, y_ts, var_sel, perfs, stability]"
   ]
  },
  {
   "cell_type": "code",
   "execution_count": 81,
   "id": "0443129f",
   "metadata": {
    "ExecuteTime": {
     "end_time": "2022-12-14T21:01:52.257202Z",
     "start_time": "2022-12-14T21:01:51.936031Z"
    }
   },
   "outputs": [
    {
     "data": {
      "text/html": [
       "<div>\n",
       "<style scoped>\n",
       "    .dataframe tbody tr th:only-of-type {\n",
       "        vertical-align: middle;\n",
       "    }\n",
       "\n",
       "    .dataframe tbody tr th {\n",
       "        vertical-align: top;\n",
       "    }\n",
       "\n",
       "    .dataframe thead th {\n",
       "        text-align: right;\n",
       "    }\n",
       "</style>\n",
       "<table border=\"1\" class=\"dataframe\">\n",
       "  <thead>\n",
       "    <tr style=\"text-align: right;\">\n",
       "      <th></th>\n",
       "      <th>Dataset name</th>\n",
       "      <th>Sample size</th>\n",
       "      <th>Training size</th>\n",
       "      <th>Number of Features</th>\n",
       "      <th>Selected Features</th>\n",
       "      <th>Feat. Top5-Stability</th>\n",
       "      <th>Accuracy - Logit all features</th>\n",
       "      <th>Accuracy - Logit</th>\n",
       "      <th>Accuracy - SVM</th>\n",
       "      <th>Accuracy - RF</th>\n",
       "      <th>Accuracy - MLP</th>\n",
       "      <th>Avg Acc. on selected features</th>\n",
       "      <th>Accuracy Std on selected features</th>\n",
       "      <th>Acc. diff. wrt Full logit</th>\n",
       "    </tr>\n",
       "  </thead>\n",
       "  <tbody>\n",
       "    <tr>\n",
       "      <th>0</th>\n",
       "      <td>BF_df_CTU</td>\n",
       "      <td>442</td>\n",
       "      <td>309</td>\n",
       "      <td>8</td>\n",
       "      <td>7</td>\n",
       "      <td>0.600</td>\n",
       "      <td>0.774</td>\n",
       "      <td>0.797</td>\n",
       "      <td>0.797</td>\n",
       "      <td>0.835</td>\n",
       "      <td>0.797</td>\n",
       "      <td>0.806</td>\n",
       "      <td>0.019</td>\n",
       "      <td>0.032</td>\n",
       "    </tr>\n",
       "    <tr>\n",
       "      <th>1</th>\n",
       "      <td>BF_df_OU</td>\n",
       "      <td>460</td>\n",
       "      <td>322</td>\n",
       "      <td>9</td>\n",
       "      <td>8</td>\n",
       "      <td>0.467</td>\n",
       "      <td>0.833</td>\n",
       "      <td>0.826</td>\n",
       "      <td>0.833</td>\n",
       "      <td>0.833</td>\n",
       "      <td>0.522</td>\n",
       "      <td>0.754</td>\n",
       "      <td>0.155</td>\n",
       "      <td>-0.080</td>\n",
       "    </tr>\n",
       "    <tr>\n",
       "      <th>2</th>\n",
       "      <td>BF_df_V</td>\n",
       "      <td>486</td>\n",
       "      <td>340</td>\n",
       "      <td>9</td>\n",
       "      <td>8</td>\n",
       "      <td>0.533</td>\n",
       "      <td>0.753</td>\n",
       "      <td>0.767</td>\n",
       "      <td>0.760</td>\n",
       "      <td>0.760</td>\n",
       "      <td>0.548</td>\n",
       "      <td>0.709</td>\n",
       "      <td>0.107</td>\n",
       "      <td>-0.045</td>\n",
       "    </tr>\n",
       "    <tr>\n",
       "      <th>3</th>\n",
       "      <td>DT_df_CC</td>\n",
       "      <td>482</td>\n",
       "      <td>337</td>\n",
       "      <td>18</td>\n",
       "      <td>14</td>\n",
       "      <td>0.400</td>\n",
       "      <td>0.703</td>\n",
       "      <td>0.724</td>\n",
       "      <td>0.731</td>\n",
       "      <td>0.738</td>\n",
       "      <td>0.717</td>\n",
       "      <td>0.728</td>\n",
       "      <td>0.009</td>\n",
       "      <td>0.024</td>\n",
       "    </tr>\n",
       "    <tr>\n",
       "      <th>4</th>\n",
       "      <td>DT_df_JI</td>\n",
       "      <td>864</td>\n",
       "      <td>604</td>\n",
       "      <td>15</td>\n",
       "      <td>13</td>\n",
       "      <td>0.333</td>\n",
       "      <td>0.654</td>\n",
       "      <td>0.654</td>\n",
       "      <td>0.662</td>\n",
       "      <td>0.623</td>\n",
       "      <td>0.608</td>\n",
       "      <td>0.637</td>\n",
       "      <td>0.025</td>\n",
       "      <td>-0.017</td>\n",
       "    </tr>\n",
       "    <tr>\n",
       "      <th>5</th>\n",
       "      <td>IADQ_df</td>\n",
       "      <td>450</td>\n",
       "      <td>315</td>\n",
       "      <td>9</td>\n",
       "      <td>3</td>\n",
       "      <td>0.667</td>\n",
       "      <td>0.844</td>\n",
       "      <td>0.859</td>\n",
       "      <td>0.859</td>\n",
       "      <td>0.852</td>\n",
       "      <td>0.793</td>\n",
       "      <td>0.841</td>\n",
       "      <td>0.032</td>\n",
       "      <td>-0.004</td>\n",
       "    </tr>\n",
       "    <tr>\n",
       "      <th>6</th>\n",
       "      <td>IESR_df</td>\n",
       "      <td>358</td>\n",
       "      <td>250</td>\n",
       "      <td>21</td>\n",
       "      <td>6</td>\n",
       "      <td>0.667</td>\n",
       "      <td>0.926</td>\n",
       "      <td>0.935</td>\n",
       "      <td>0.935</td>\n",
       "      <td>0.944</td>\n",
       "      <td>0.917</td>\n",
       "      <td>0.933</td>\n",
       "      <td>0.012</td>\n",
       "      <td>0.007</td>\n",
       "    </tr>\n",
       "    <tr>\n",
       "      <th>7</th>\n",
       "      <td>NAQ_R_df</td>\n",
       "      <td>712</td>\n",
       "      <td>498</td>\n",
       "      <td>22</td>\n",
       "      <td>3</td>\n",
       "      <td>0.556</td>\n",
       "      <td>0.949</td>\n",
       "      <td>0.963</td>\n",
       "      <td>0.958</td>\n",
       "      <td>0.944</td>\n",
       "      <td>0.963</td>\n",
       "      <td>0.957</td>\n",
       "      <td>0.009</td>\n",
       "      <td>0.008</td>\n",
       "    </tr>\n",
       "    <tr>\n",
       "      <th>8</th>\n",
       "      <td>PCL5_df</td>\n",
       "      <td>402</td>\n",
       "      <td>281</td>\n",
       "      <td>20</td>\n",
       "      <td>6</td>\n",
       "      <td>0.533</td>\n",
       "      <td>0.785</td>\n",
       "      <td>0.802</td>\n",
       "      <td>0.810</td>\n",
       "      <td>0.810</td>\n",
       "      <td>0.802</td>\n",
       "      <td>0.806</td>\n",
       "      <td>0.005</td>\n",
       "      <td>0.021</td>\n",
       "    </tr>\n",
       "    <tr>\n",
       "      <th>9</th>\n",
       "      <td>PHQ9_GAD7_df</td>\n",
       "      <td>1118</td>\n",
       "      <td>782</td>\n",
       "      <td>16</td>\n",
       "      <td>9</td>\n",
       "      <td>0.600</td>\n",
       "      <td>0.988</td>\n",
       "      <td>0.982</td>\n",
       "      <td>0.985</td>\n",
       "      <td>0.976</td>\n",
       "      <td>0.976</td>\n",
       "      <td>0.980</td>\n",
       "      <td>0.004</td>\n",
       "      <td>-0.008</td>\n",
       "    </tr>\n",
       "    <tr>\n",
       "      <th>10</th>\n",
       "      <td>PID5_df</td>\n",
       "      <td>824</td>\n",
       "      <td>576</td>\n",
       "      <td>210</td>\n",
       "      <td>49</td>\n",
       "      <td>0.533</td>\n",
       "      <td>0.956</td>\n",
       "      <td>0.887</td>\n",
       "      <td>0.883</td>\n",
       "      <td>0.923</td>\n",
       "      <td>0.907</td>\n",
       "      <td>0.900</td>\n",
       "      <td>0.019</td>\n",
       "      <td>-0.055</td>\n",
       "    </tr>\n",
       "    <tr>\n",
       "      <th>11</th>\n",
       "      <td>PRFQ_df</td>\n",
       "      <td>678</td>\n",
       "      <td>474</td>\n",
       "      <td>15</td>\n",
       "      <td>12</td>\n",
       "      <td>0.600</td>\n",
       "      <td>0.907</td>\n",
       "      <td>0.887</td>\n",
       "      <td>0.902</td>\n",
       "      <td>0.912</td>\n",
       "      <td>0.873</td>\n",
       "      <td>0.893</td>\n",
       "      <td>0.017</td>\n",
       "      <td>-0.013</td>\n",
       "    </tr>\n",
       "    <tr>\n",
       "      <th>12</th>\n",
       "      <td>PRMQ_df</td>\n",
       "      <td>1404</td>\n",
       "      <td>982</td>\n",
       "      <td>16</td>\n",
       "      <td>9</td>\n",
       "      <td>0.667</td>\n",
       "      <td>0.908</td>\n",
       "      <td>0.891</td>\n",
       "      <td>0.898</td>\n",
       "      <td>0.908</td>\n",
       "      <td>0.889</td>\n",
       "      <td>0.896</td>\n",
       "      <td>0.009</td>\n",
       "      <td>-0.011</td>\n",
       "    </tr>\n",
       "    <tr>\n",
       "      <th>13</th>\n",
       "      <td>RAW_DDDT</td>\n",
       "      <td>986</td>\n",
       "      <td>690</td>\n",
       "      <td>12</td>\n",
       "      <td>9</td>\n",
       "      <td>0.400</td>\n",
       "      <td>0.747</td>\n",
       "      <td>0.720</td>\n",
       "      <td>0.726</td>\n",
       "      <td>0.797</td>\n",
       "      <td>0.693</td>\n",
       "      <td>0.734</td>\n",
       "      <td>0.045</td>\n",
       "      <td>-0.013</td>\n",
       "    </tr>\n",
       "    <tr>\n",
       "      <th>14</th>\n",
       "      <td>R_NEO_PI</td>\n",
       "      <td>77687</td>\n",
       "      <td>54380</td>\n",
       "      <td>30</td>\n",
       "      <td>16</td>\n",
       "      <td>0.600</td>\n",
       "      <td>0.907</td>\n",
       "      <td>0.903</td>\n",
       "      <td>0.899</td>\n",
       "      <td>0.909</td>\n",
       "      <td>0.908</td>\n",
       "      <td>0.905</td>\n",
       "      <td>0.004</td>\n",
       "      <td>-0.002</td>\n",
       "    </tr>\n",
       "    <tr>\n",
       "      <th>15</th>\n",
       "      <td>sPID-5_df</td>\n",
       "      <td>1038</td>\n",
       "      <td>726</td>\n",
       "      <td>25</td>\n",
       "      <td>12</td>\n",
       "      <td>0.733</td>\n",
       "      <td>0.958</td>\n",
       "      <td>0.939</td>\n",
       "      <td>0.939</td>\n",
       "      <td>0.955</td>\n",
       "      <td>0.936</td>\n",
       "      <td>0.942</td>\n",
       "      <td>0.009</td>\n",
       "      <td>-0.016</td>\n",
       "    </tr>\n",
       "  </tbody>\n",
       "</table>\n",
       "</div>"
      ],
      "text/plain": [
       "    Dataset name  Sample size  Training size  Number of Features  \\\n",
       "0      BF_df_CTU          442            309                   8   \n",
       "1       BF_df_OU          460            322                   9   \n",
       "2        BF_df_V          486            340                   9   \n",
       "3       DT_df_CC          482            337                  18   \n",
       "4       DT_df_JI          864            604                  15   \n",
       "5        IADQ_df          450            315                   9   \n",
       "6        IESR_df          358            250                  21   \n",
       "7       NAQ_R_df          712            498                  22   \n",
       "8        PCL5_df          402            281                  20   \n",
       "9   PHQ9_GAD7_df         1118            782                  16   \n",
       "10       PID5_df          824            576                 210   \n",
       "11       PRFQ_df          678            474                  15   \n",
       "12       PRMQ_df         1404            982                  16   \n",
       "13      RAW_DDDT          986            690                  12   \n",
       "14      R_NEO_PI        77687          54380                  30   \n",
       "15     sPID-5_df         1038            726                  25   \n",
       "\n",
       "    Selected Features  Feat. Top5-Stability  Accuracy - Logit all features  \\\n",
       "0                   7                 0.600                          0.774   \n",
       "1                   8                 0.467                          0.833   \n",
       "2                   8                 0.533                          0.753   \n",
       "3                  14                 0.400                          0.703   \n",
       "4                  13                 0.333                          0.654   \n",
       "5                   3                 0.667                          0.844   \n",
       "6                   6                 0.667                          0.926   \n",
       "7                   3                 0.556                          0.949   \n",
       "8                   6                 0.533                          0.785   \n",
       "9                   9                 0.600                          0.988   \n",
       "10                 49                 0.533                          0.956   \n",
       "11                 12                 0.600                          0.907   \n",
       "12                  9                 0.667                          0.908   \n",
       "13                  9                 0.400                          0.747   \n",
       "14                 16                 0.600                          0.907   \n",
       "15                 12                 0.733                          0.958   \n",
       "\n",
       "    Accuracy - Logit  Accuracy - SVM  Accuracy - RF  Accuracy - MLP  \\\n",
       "0              0.797           0.797          0.835           0.797   \n",
       "1              0.826           0.833          0.833           0.522   \n",
       "2              0.767           0.760          0.760           0.548   \n",
       "3              0.724           0.731          0.738           0.717   \n",
       "4              0.654           0.662          0.623           0.608   \n",
       "5              0.859           0.859          0.852           0.793   \n",
       "6              0.935           0.935          0.944           0.917   \n",
       "7              0.963           0.958          0.944           0.963   \n",
       "8              0.802           0.810          0.810           0.802   \n",
       "9              0.982           0.985          0.976           0.976   \n",
       "10             0.887           0.883          0.923           0.907   \n",
       "11             0.887           0.902          0.912           0.873   \n",
       "12             0.891           0.898          0.908           0.889   \n",
       "13             0.720           0.726          0.797           0.693   \n",
       "14             0.903           0.899          0.909           0.908   \n",
       "15             0.939           0.939          0.955           0.936   \n",
       "\n",
       "    Avg Acc. on selected features  Accuracy Std on selected features  \\\n",
       "0                           0.806                              0.019   \n",
       "1                           0.754                              0.155   \n",
       "2                           0.709                              0.107   \n",
       "3                           0.728                              0.009   \n",
       "4                           0.637                              0.025   \n",
       "5                           0.841                              0.032   \n",
       "6                           0.933                              0.012   \n",
       "7                           0.957                              0.009   \n",
       "8                           0.806                              0.005   \n",
       "9                           0.980                              0.004   \n",
       "10                          0.900                              0.019   \n",
       "11                          0.893                              0.017   \n",
       "12                          0.896                              0.009   \n",
       "13                          0.734                              0.045   \n",
       "14                          0.905                              0.004   \n",
       "15                          0.942                              0.009   \n",
       "\n",
       "    Acc. diff. wrt Full logit  \n",
       "0                       0.032  \n",
       "1                      -0.080  \n",
       "2                      -0.045  \n",
       "3                       0.024  \n",
       "4                      -0.017  \n",
       "5                      -0.004  \n",
       "6                       0.007  \n",
       "7                       0.008  \n",
       "8                       0.021  \n",
       "9                      -0.008  \n",
       "10                     -0.055  \n",
       "11                     -0.013  \n",
       "12                     -0.011  \n",
       "13                     -0.013  \n",
       "14                     -0.002  \n",
       "15                     -0.016  "
      ]
     },
     "execution_count": 81,
     "metadata": {},
     "output_type": "execute_result"
    }
   ],
   "source": [
    "pca_summary = evaluation.summary_table(data_collection_pca, stability = True, neural_net = True)\n",
    "pca_summary"
   ]
  },
  {
   "cell_type": "code",
   "execution_count": 83,
   "id": "c69b4d57",
   "metadata": {
    "ExecuteTime": {
     "end_time": "2022-12-14T21:02:40.066213Z",
     "start_time": "2022-12-14T21:02:39.589353Z"
    }
   },
   "outputs": [
    {
     "data": {
      "image/png": "[encoded data removed]",
      "text/plain": [
       "<Figure size 1296x504 with 1 Axes>"
      ]
     },
     "metadata": {
      "needs_background": "light"
     },
     "output_type": "display_data"
    }
   ],
   "source": [
    "summary_graphs.accuracy_barplot(pca_summary, save = False, prefix = \"PCA\")"
   ]
  },
  {
   "cell_type": "code",
   "execution_count": 84,
   "id": "670ea8f5",
   "metadata": {
    "ExecuteTime": {
     "end_time": "2022-12-14T21:02:45.322846Z",
     "start_time": "2022-12-14T21:02:44.803237Z"
    }
   },
   "outputs": [
    {
     "data": {
      "image/png": "[encoded data removed]",
      "text/plain": [
       "<Figure size 1296x432 with 1 Axes>"
      ]
     },
     "metadata": {
      "needs_background": "light"
     },
     "output_type": "display_data"
    }
   ],
   "source": [
    "summary_graphs.accuracy_std(pca_summary, save = False, prefix = \"PCA\")"
   ]
  },
  {
   "cell_type": "code",
   "execution_count": 85,
   "id": "554a4dc8",
   "metadata": {
    "ExecuteTime": {
     "end_time": "2022-12-14T21:03:17.541289Z",
     "start_time": "2022-12-14T21:03:16.448082Z"
    }
   },
   "outputs": [
    {
     "data": {
      "image/png": "[encoded data removed]",
      "text/plain": [
       "<Figure size 1296x720 with 2 Axes>"
      ]
     },
     "metadata": {
      "needs_background": "light"
     },
     "output_type": "display_data"
    }
   ],
   "source": [
    "summary_graphs.faking_type_comparison(pca_summary, prefix = \"PCA\", save = False)"
   ]
  },
  {
   "cell_type": "markdown",
   "id": "f2f32564",
   "metadata": {},
   "source": [
    "## Permutation Importance\n",
    "***\n",
    "\n",
    "The goal is to find a stable subset of features across datasets that performs roughly the same across different classifiers. Accoringly, we can define a \"good\" feature selection procedure, one that does not depend on a specific model, but that allows models to perform roughly the same, and for all the datasets within the scope.\n",
    "\n",
    "##### DESCRIPTION\n",
    "1. A given dataset is split in training and test. For every feature, the mean and the standard deviation are computed in order to scale that feauture: $Z=\\frac{X-\\mu}{\\sigma}$. Scaling on the test set is carried out using the same values computed for training data.\n",
    "2. The actual phase of the selection of a subset of features occurs through a 3-step process:  \n",
    "    * Train a Decision Tree and apply minimal cost-complexity pruning. <sup>[1]</sup>  \n",
    "    * Train a Random Forest that expolits gradient boosting <sup>[2]</sup>, in which each tree retains the cost-complexity parameter obtained in the previous step.  \n",
    "    * Compute permutation importance on this Random Forest <sup>[3]</sup>.  \n",
    "    * Perform a one-sample test on the mean, given the distribution obtained for each feature importance (with confidence level at 99.999%). This way only features whose importance is significantly greater than zero are retained, all the others are discarded. We call this subset of feature $A^*$  \n",
    "    * Perform a Wilks test <sup>[4]</sup> comparing two logistic regressions, one fitted with the full set of features, the other with $A^*$. By accepting the null hypothesis of the test (at 95% confidence level), the assertion \"the ration  between the likelihoods of the two (nested) models is one\".  \n",
    "    * Train an arbitrary amount of different models in order to assess the quality of the feature selection procedure. If all models show very close accuracy, then the procedure proves to provide a model-indifferent subset $A^*$ of features.\n",
    "\n",
    "\n",
    "##### SOURCES\n",
    "* [How can I get statistics to compare nested models in a logistic regression in SPSS?](https://www.ibm.com/support/pages/how-can-i-get-statistics-compare-nested-models-logistic-regression-spss)\n",
    "* [Likelihood-ratio test](https://en.wikipedia.org/wiki/Likelihood-ratio_test)\n",
    "\n",
    "##### SUPPORTING PAPERS\n",
    "[1] L. Breiman, J. Friedman, R. Olshen, and C. Stone. *Classification and Regression Trees*. Wadsworth, Belmont, CA, 1984.  \n",
    "[2] J. Friedman, Greedy Function Approximation: *A Gradient Boosting Machine*, The Annals of Statistics, Vol. 29, No. 5, 2001  \n",
    "[3] Leo Breiman. Random forests. *Machine learning*, 45(1):5-32, 2001.  \n",
    "[4] Li, Bing; Babu, G. Jogesh (2019). *A Graduate Course on Statistical Inference*. Springer. p. 331"
   ]
  },
  {
   "cell_type": "code",
   "execution_count": 8,
   "id": "23cb893e",
   "metadata": {
    "ExecuteTime": {
     "end_time": "2022-12-14T18:58:28.120069Z",
     "start_time": "2022-12-14T18:51:37.817647Z"
    },
    "scrolled": true
   },
   "outputs": [
    {
     "name": "stdout",
     "output_type": "stream",
     "text": [
      "BF_df_CTU\n"
     ]
    },
    {
     "data": {
      "application/vnd.jupyter.widget-view+json": {
       "model_id": "bbf78821c7194cf98256ec2396152144",
       "version_major": 2,
       "version_minor": 0
      },
      "text/plain": [
       "  0%|          | 0/100 [00:00<?, ?it/s]"
      ]
     },
     "metadata": {},
     "output_type": "display_data"
    },
    {
     "name": "stdout",
     "output_type": "stream",
     "text": [
      "5/5 [==============================] - 0s 4ms/step\n",
      "Train size: 309\n",
      "Selected 4 features out of 10\n",
      "{'Features': [2, 4, 6, 7], 'Wilks test p-value': 0.9893064, 'High correlation': False}\n",
      "                     Accuracy  FI 1  FI 2  FI 3  FI 4\n",
      "Full Logit           0.774436   NaN   NaN   NaN   NaN\n",
      "Logistic Regression  0.812030   6.0   2.0   4.0   7.0\n",
      "SVC                  0.812030   6.0   2.0   4.0   7.0\n",
      "Random Forest        0.827068   6.0   7.0   2.0   4.0\n",
      "Neural Network       0.827068   4.0   6.0   7.0   2.0\n",
      "\n",
      "==> TOP5 STABILITY SCORE: 0.417\n",
      "----------------------------------------------------------------------------------------------------\n",
      "----------------------------------------------------------------------------------------------------\n",
      "----------------------------------------------------------------------------------------------------\n",
      "\n",
      "BF_df_OU\n"
     ]
    },
    {
     "data": {
      "application/vnd.jupyter.widget-view+json": {
       "model_id": "f00b2ae10fa34b8991b4a9cca3ca580d",
       "version_major": 2,
       "version_minor": 0
      },
      "text/plain": [
       "  0%|          | 0/100 [00:00<?, ?it/s]"
      ]
     },
     "metadata": {},
     "output_type": "display_data"
    },
    {
     "name": "stdout",
     "output_type": "stream",
     "text": [
      "5/5 [==============================] - 0s 2ms/step\n",
      "Train size: 322\n",
      "Selected 3 features out of 10\n",
      "{'Features': [4, 6, 7], 'Wilks test p-value': 1.0, 'High correlation': False}\n",
      "                     Accuracy  FI 1  FI 2  FI 3\n",
      "Full Logit           0.833333   NaN   NaN   NaN\n",
      "Logistic Regression  0.811594   6.0   4.0   7.0\n",
      "SVC                  0.797101   6.0   4.0   7.0\n",
      "Random Forest        0.782609   6.0   4.0   7.0\n",
      "Neural Network       0.818841   6.0   7.0   4.0\n",
      "\n",
      "==> TOP5 STABILITY SCORE: 0.778\n",
      "----------------------------------------------------------------------------------------------------\n",
      "----------------------------------------------------------------------------------------------------\n",
      "----------------------------------------------------------------------------------------------------\n",
      "\n",
      "BF_df_V\n"
     ]
    },
    {
     "data": {
      "application/vnd.jupyter.widget-view+json": {
       "model_id": "0e2dd89619bc403d8c5b03d653b682b2",
       "version_major": 2,
       "version_minor": 0
      },
      "text/plain": [
       "  0%|          | 0/100 [00:00<?, ?it/s]"
      ]
     },
     "metadata": {},
     "output_type": "display_data"
    },
    {
     "name": "stdout",
     "output_type": "stream",
     "text": [
      "5/5 [==============================] - 0s 1ms/step\n",
      "Train size: 340\n",
      "Selected 1 features out of 10\n",
      "{'Features': [7], 'Wilks test p-value': 1.0, 'High correlation': False}\n",
      "                     Accuracy  FI 1\n",
      "Full Logit           0.760274   NaN\n",
      "Logistic Regression  0.684932   7.0\n",
      "SVC                  0.684932   7.0\n",
      "Random Forest        0.684932   7.0\n",
      "Neural Network       0.684932   7.0\n",
      "\n",
      "==> TOP5 STABILITY SCORE: 1.0\n",
      "----------------------------------------------------------------------------------------------------\n",
      "----------------------------------------------------------------------------------------------------\n",
      "----------------------------------------------------------------------------------------------------\n",
      "\n",
      "DT_df_CC\n"
     ]
    },
    {
     "data": {
      "application/vnd.jupyter.widget-view+json": {
       "model_id": "a8bc21cb90f04d6cb84798a6ddd02981",
       "version_major": 2,
       "version_minor": 0
      },
      "text/plain": [
       "  0%|          | 0/100 [00:00<?, ?it/s]"
      ]
     },
     "metadata": {},
     "output_type": "display_data"
    },
    {
     "name": "stdout",
     "output_type": "stream",
     "text": [
      "5/5 [==============================] - 0s 1ms/step\n",
      "Train size: 337\n",
      "Selected 3 features out of 27\n",
      "{'Features': [9, 10, 13], 'Wilks test p-value': 1.0, 'High correlation': False}\n",
      "                     Accuracy  FI 1  FI 2  FI 3\n",
      "Full Logit           0.682759   NaN   NaN   NaN\n",
      "Logistic Regression  0.731034  13.0  10.0   9.0\n",
      "SVC                  0.731034  13.0  10.0   9.0\n",
      "Random Forest        0.710345  13.0  10.0   9.0\n",
      "Neural Network       0.731034  13.0   9.0  10.0\n",
      "\n",
      "==> TOP5 STABILITY SCORE: 0.778\n",
      "----------------------------------------------------------------------------------------------------\n",
      "----------------------------------------------------------------------------------------------------\n",
      "----------------------------------------------------------------------------------------------------\n",
      "\n",
      "DT_df_JI\n"
     ]
    },
    {
     "data": {
      "application/vnd.jupyter.widget-view+json": {
       "model_id": "86055c9f051a45da8e8e82e8ac62e269",
       "version_major": 2,
       "version_minor": 0
      },
      "text/plain": [
       "  0%|          | 0/100 [00:00<?, ?it/s]"
      ]
     },
     "metadata": {},
     "output_type": "display_data"
    },
    {
     "name": "stdout",
     "output_type": "stream",
     "text": [
      "9/9 [==============================] - 0s 2ms/step\n",
      "Train size: 604\n",
      "Selected 5 features out of 27\n",
      "{'Features': [2, 3, 6, 15, 18], 'Wilks test p-value': 1.0, 'High correlation': False}\n",
      "                     Accuracy  FI 1  FI 2  FI 3  FI 4  FI 5\n",
      "Full Logit           0.661538   NaN   NaN   NaN   NaN   NaN\n",
      "Logistic Regression  0.653846   2.0  18.0   6.0  15.0   3.0\n",
      "SVC                  0.661538   2.0  18.0   6.0  15.0   3.0\n",
      "Random Forest        0.607692  18.0  15.0   6.0   2.0   3.0\n",
      "Neural Network       0.657692  18.0   6.0   2.0  15.0   3.0\n",
      "\n",
      "==> TOP5 STABILITY SCORE: 0.667\n",
      "----------------------------------------------------------------------------------------------------\n",
      "----------------------------------------------------------------------------------------------------\n",
      "----------------------------------------------------------------------------------------------------\n",
      "\n",
      "IADQ_df\n"
     ]
    },
    {
     "data": {
      "application/vnd.jupyter.widget-view+json": {
       "model_id": "5b72a37d97664ecebc5366134dfcbd67",
       "version_major": 2,
       "version_minor": 0
      },
      "text/plain": [
       "  0%|          | 0/100 [00:00<?, ?it/s]"
      ]
     },
     "metadata": {},
     "output_type": "display_data"
    },
    {
     "name": "stdout",
     "output_type": "stream",
     "text": [
      "5/5 [==============================] - 0s 2ms/step\n",
      "Train size: 315\n",
      "Selected 2 features out of 9\n",
      "{'Features': [4, 6], 'Wilks test p-value': 1.0, 'High correlation': False}\n",
      "                     Accuracy  FI 1  FI 2\n",
      "Full Logit           0.851852   NaN   NaN\n",
      "Logistic Regression  0.829630   6.0   4.0\n",
      "SVC                  0.829630   6.0   4.0\n",
      "Random Forest        0.814815   4.0   6.0\n",
      "Neural Network       0.822222   4.0   6.0\n",
      "\n",
      "==> TOP5 STABILITY SCORE: 0.667\n",
      "----------------------------------------------------------------------------------------------------\n",
      "----------------------------------------------------------------------------------------------------\n",
      "----------------------------------------------------------------------------------------------------\n",
      "\n",
      "IESR_df\n"
     ]
    },
    {
     "data": {
      "application/vnd.jupyter.widget-view+json": {
       "model_id": "ef77fea723ca4f9f892cfaea851c6916",
       "version_major": 2,
       "version_minor": 0
      },
      "text/plain": [
       "  0%|          | 0/100 [00:00<?, ?it/s]"
      ]
     },
     "metadata": {},
     "output_type": "display_data"
    },
    {
     "name": "stdout",
     "output_type": "stream",
     "text": [
      "4/4 [==============================] - 0s 1ms/step\n",
      "Train size: 250\n",
      "Selected 4 features out of 22\n",
      "{'Features': [8, 13, 18, 19], 'Wilks test p-value': 1.0, 'High correlation': True}\n",
      "                     Accuracy  FI 1  FI 2  FI 3  FI 4\n",
      "Full Logit           0.935185   NaN   NaN   NaN   NaN\n",
      "Logistic Regression  0.888889   8.0  18.0  19.0  13.0\n",
      "SVC                  0.907407   8.0  18.0  19.0  13.0\n",
      "Random Forest        0.907407  18.0  13.0   8.0  19.0\n",
      "Neural Network       0.916667  13.0  18.0   8.0  19.0\n",
      "\n",
      "==> TOP5 STABILITY SCORE: 0.583\n",
      "----------------------------------------------------------------------------------------------------\n",
      "----------------------------------------------------------------------------------------------------\n",
      "----------------------------------------------------------------------------------------------------\n",
      "\n",
      "NAQ_R_df\n"
     ]
    },
    {
     "data": {
      "application/vnd.jupyter.widget-view+json": {
       "model_id": "8c6d946cdda94f09bb6e4de95e2f1f52",
       "version_major": 2,
       "version_minor": 0
      },
      "text/plain": [
       "  0%|          | 0/100 [00:00<?, ?it/s]"
      ]
     },
     "metadata": {},
     "output_type": "display_data"
    },
    {
     "name": "stdout",
     "output_type": "stream",
     "text": [
      "7/7 [==============================] - 0s 3ms/step\n",
      "Train size: 498\n",
      "Selected 1 features out of 22\n",
      "{'Features': [9], 'Wilks test p-value': 1.0, 'High correlation': True}\n",
      "                     Accuracy  FI 1\n",
      "Full Logit           0.953271   NaN\n",
      "Logistic Regression  0.929907   9.0\n",
      "SVC                  0.929907   9.0\n",
      "Random Forest        0.929907   9.0\n",
      "Neural Network       0.929907   9.0\n",
      "\n",
      "==> TOP5 STABILITY SCORE: 1.0\n",
      "----------------------------------------------------------------------------------------------------\n",
      "----------------------------------------------------------------------------------------------------\n",
      "----------------------------------------------------------------------------------------------------\n",
      "\n",
      "PCL5_df\n"
     ]
    },
    {
     "data": {
      "application/vnd.jupyter.widget-view+json": {
       "model_id": "99e24d35e2cb477880fb3bc54d64b9a9",
       "version_major": 2,
       "version_minor": 0
      },
      "text/plain": [
       "  0%|          | 0/100 [00:00<?, ?it/s]"
      ]
     },
     "metadata": {},
     "output_type": "display_data"
    },
    {
     "name": "stdout",
     "output_type": "stream",
     "text": [
      "4/4 [==============================] - 0s 2ms/step\n",
      "Train size: 281\n",
      "Selected 2 features out of 20\n",
      "{'Features': [1, 4], 'Wilks test p-value': 1.0, 'High correlation': False}\n",
      "                     Accuracy  FI 1  FI 2\n",
      "Full Logit           0.809917   NaN   NaN\n",
      "Logistic Regression  0.826446   4.0   1.0\n",
      "SVC                  0.826446   4.0   1.0\n",
      "Random Forest        0.818182   1.0   4.0\n",
      "Neural Network       0.826446   4.0   1.0\n",
      "\n",
      "==> TOP5 STABILITY SCORE: 0.667\n",
      "----------------------------------------------------------------------------------------------------\n",
      "----------------------------------------------------------------------------------------------------\n",
      "----------------------------------------------------------------------------------------------------\n",
      "\n",
      "PHQ9_GAD7_df\n"
     ]
    },
    {
     "data": {
      "application/vnd.jupyter.widget-view+json": {
       "model_id": "83a1b8d22d054f64b52e1000539926d4",
       "version_major": 2,
       "version_minor": 0
      },
      "text/plain": [
       "  0%|          | 0/100 [00:00<?, ?it/s]"
      ]
     },
     "metadata": {},
     "output_type": "display_data"
    },
    {
     "name": "stdout",
     "output_type": "stream",
     "text": [
      "11/11 [==============================] - 0s 1ms/step\n",
      "Train size: 782\n",
      "Selected 4 features out of 16\n",
      "{'Features': [0, 1, 6, 7], 'Wilks test p-value': 1.0, 'High correlation': True}\n",
      "                     Accuracy  FI 1  FI 2  FI 3  FI 4\n",
      "Full Logit           0.991071   NaN   NaN   NaN   NaN\n",
      "Logistic Regression  0.982143   7.0   1.0   6.0   0.0\n",
      "SVC                  0.982143   7.0   1.0   6.0   0.0\n",
      "Random Forest        0.973214   7.0   1.0   6.0   0.0\n",
      "Neural Network       0.979167   7.0   1.0   6.0   0.0\n",
      "\n",
      "==> TOP5 STABILITY SCORE: 1.0\n",
      "----------------------------------------------------------------------------------------------------\n",
      "----------------------------------------------------------------------------------------------------\n",
      "----------------------------------------------------------------------------------------------------\n",
      "\n",
      "PID5_df\n"
     ]
    },
    {
     "data": {
      "application/vnd.jupyter.widget-view+json": {
       "model_id": "40c0fb8340d74ef2b04780e36c7aedc7",
       "version_major": 2,
       "version_minor": 0
      },
      "text/plain": [
       "  0%|          | 0/100 [00:00<?, ?it/s]"
      ]
     },
     "metadata": {},
     "output_type": "display_data"
    },
    {
     "name": "stdout",
     "output_type": "stream",
     "text": [
      "8/8 [==============================] - 0s 2ms/step\n",
      "Train size: 576\n",
      "Selected 3 features out of 220\n",
      "{'Features': [1, 53, 191], 'Wilks test p-value': 1.0, 'High correlation': True}\n",
      "                     Accuracy  FI 1   FI 2   FI 3\n",
      "Full Logit           0.959677   NaN    NaN    NaN\n",
      "Logistic Regression  0.927419   1.0  191.0   53.0\n",
      "SVC                  0.927419   1.0  191.0   53.0\n",
      "Random Forest        0.923387   1.0  191.0   53.0\n",
      "Neural Network       0.931452   1.0   53.0  191.0\n",
      "\n",
      "==> TOP5 STABILITY SCORE: 0.778\n",
      "----------------------------------------------------------------------------------------------------\n",
      "----------------------------------------------------------------------------------------------------\n",
      "----------------------------------------------------------------------------------------------------\n",
      "\n",
      "PRFQ_df\n"
     ]
    },
    {
     "data": {
      "application/vnd.jupyter.widget-view+json": {
       "model_id": "300c4f70c11e4c258352d97ac76f1678",
       "version_major": 2,
       "version_minor": 0
      },
      "text/plain": [
       "  0%|          | 0/100 [00:00<?, ?it/s]"
      ]
     },
     "metadata": {},
     "output_type": "display_data"
    },
    {
     "name": "stdout",
     "output_type": "stream",
     "text": [
      "7/7 [==============================] - 0s 1ms/step\n",
      "Train size: 474\n",
      "Selected 4 features out of 18\n",
      "{'Features': [6, 7, 8, 11], 'Wilks test p-value': 1.0, 'High correlation': False}\n",
      "                     Accuracy  FI 1  FI 2  FI 3  FI 4\n",
      "Full Logit           0.936275   NaN   NaN   NaN   NaN\n",
      "Logistic Regression  0.892157  11.0   6.0   7.0   8.0\n",
      "SVC                  0.892157  11.0   6.0   7.0   8.0\n",
      "Random Forest        0.916667   6.0  11.0   7.0   8.0\n",
      "Neural Network       0.897059  11.0   8.0   7.0   6.0\n",
      "\n",
      "==> TOP5 STABILITY SCORE: 0.667\n",
      "----------------------------------------------------------------------------------------------------\n",
      "----------------------------------------------------------------------------------------------------\n",
      "----------------------------------------------------------------------------------------------------\n",
      "\n",
      "PRMQ_df\n"
     ]
    },
    {
     "data": {
      "application/vnd.jupyter.widget-view+json": {
       "model_id": "b050a2aa036b437ea189d53983159175",
       "version_major": 2,
       "version_minor": 0
      },
      "text/plain": [
       "  0%|          | 0/100 [00:00<?, ?it/s]"
      ]
     },
     "metadata": {},
     "output_type": "display_data"
    },
    {
     "name": "stdout",
     "output_type": "stream",
     "text": [
      "14/14 [==============================] - 0s 1ms/step\n",
      "Train size: 982\n",
      "Selected 5 features out of 16\n",
      "{'Features': [1, 4, 7, 12, 14], 'Wilks test p-value': 1.0, 'High correlation': False}\n",
      "                     Accuracy  FI 1  FI 2  FI 3  FI 4  FI 5\n",
      "Full Logit           0.907583   NaN   NaN   NaN   NaN   NaN\n",
      "Logistic Regression  0.890995   1.0  12.0   7.0   4.0  14.0\n",
      "SVC                  0.890995   1.0  12.0   7.0   4.0  14.0\n",
      "Random Forest        0.888626   1.0   7.0  12.0   4.0  14.0\n",
      "Neural Network       0.895735   1.0   7.0  12.0   4.0  14.0\n",
      "\n",
      "==> TOP5 STABILITY SCORE: 0.867\n",
      "----------------------------------------------------------------------------------------------------\n",
      "----------------------------------------------------------------------------------------------------\n",
      "----------------------------------------------------------------------------------------------------\n",
      "\n",
      "RAW_DDDT\n"
     ]
    },
    {
     "data": {
      "application/vnd.jupyter.widget-view+json": {
       "model_id": "30393b52accd437ab246bb7cddd7baf4",
       "version_major": 2,
       "version_minor": 0
      },
      "text/plain": [
       "  0%|          | 0/100 [00:00<?, ?it/s]"
      ]
     },
     "metadata": {},
     "output_type": "display_data"
    },
    {
     "name": "stdout",
     "output_type": "stream",
     "text": [
      "10/10 [==============================] - 0s 1ms/step\n",
      "Train size: 690\n",
      "Selected 4 features out of 12\n",
      "{'Features': [0, 1, 9, 10], 'Wilks test p-value': 1.0, 'High correlation': False}\n",
      "                     Accuracy  FI 1  FI 2  FI 3  FI 4\n",
      "Full Logit           0.746622   NaN   NaN   NaN   NaN\n",
      "Logistic Regression  0.746622   1.0  10.0   9.0   0.0\n",
      "SVC                  0.743243   1.0  10.0   9.0   0.0\n",
      "Random Forest        0.760135  10.0   1.0   0.0   9.0\n",
      "Neural Network       0.743243   1.0  10.0   0.0   9.0\n",
      "\n",
      "==> TOP5 STABILITY SCORE: 0.667\n",
      "----------------------------------------------------------------------------------------------------\n",
      "----------------------------------------------------------------------------------------------------\n",
      "----------------------------------------------------------------------------------------------------\n",
      "\n",
      "R_NEO_PI\n"
     ]
    },
    {
     "data": {
      "application/vnd.jupyter.widget-view+json": {
       "model_id": "2fbdb3baf94e4669b46c0501e91dcc55",
       "version_major": 2,
       "version_minor": 0
      },
      "text/plain": [
       "  0%|          | 0/100 [00:00<?, ?it/s]"
      ]
     },
     "metadata": {},
     "output_type": "display_data"
    },
    {
     "name": "stdout",
     "output_type": "stream",
     "text": [
      "729/729 [==============================] - 2s 2ms/step\n",
      "Train size: 54380\n",
      "Selected 19 features out of 30\n",
      "{'Features': [1, 2, 3, 4, 5, 6, 7, 8, 10, 11, 13, 14, 15, 18, 21, 22, 26, 27, 29], 'Wilks test p-value': 1.0, 'High correlation': False}\n",
      "                     Accuracy  FI 1  FI 2  FI 3  FI 4  FI 5\n",
      "Full Logit           0.906938   NaN   NaN   NaN   NaN   NaN\n",
      "Logistic Regression  0.907109  21.0  13.0   5.0  29.0  11.0\n",
      "SVC                  0.905565  21.0  13.0   5.0  29.0  14.0\n",
      "Random Forest        0.911185  21.0  29.0  13.0   5.0  22.0\n",
      "Neural Network       0.914189  21.0   5.0  13.0  29.0   1.0\n",
      "\n",
      "==> TOP5 STABILITY SCORE: 0.533\n",
      "----------------------------------------------------------------------------------------------------\n",
      "----------------------------------------------------------------------------------------------------\n",
      "----------------------------------------------------------------------------------------------------\n",
      "\n",
      "sPID-5_df\n"
     ]
    },
    {
     "data": {
      "application/vnd.jupyter.widget-view+json": {
       "model_id": "babef212385d4aa2910213a93155df5a",
       "version_major": 2,
       "version_minor": 0
      },
      "text/plain": [
       "  0%|          | 0/100 [00:00<?, ?it/s]"
      ]
     },
     "metadata": {},
     "output_type": "display_data"
    },
    {
     "name": "stdout",
     "output_type": "stream",
     "text": [
      "10/10 [==============================] - 0s 1ms/step\n",
      "Train size: 726\n",
      "Selected 7 features out of 25\n",
      "{'Features': [2, 4, 11, 14, 16, 20, 23], 'Wilks test p-value': 1.0, 'High correlation': True}\n",
      "                     Accuracy  FI 1  FI 2  FI 3  FI 4  FI 5\n",
      "Full Logit           0.961538   NaN   NaN   NaN   NaN   NaN\n",
      "Logistic Regression  0.971154  23.0  14.0  11.0   4.0  16.0\n",
      "SVC                  0.971154  23.0  14.0   4.0  11.0  16.0\n",
      "Random Forest        0.958333  23.0  20.0   4.0  14.0  16.0\n",
      "Neural Network       0.967949  23.0   4.0  11.0  20.0   2.0\n",
      "\n",
      "==> TOP5 STABILITY SCORE: 0.533\n",
      "----------------------------------------------------------------------------------------------------\n",
      "----------------------------------------------------------------------------------------------------\n",
      "----------------------------------------------------------------------------------------------------\n",
      "\n"
     ]
    }
   ],
   "source": [
    "### PIPELINE\n",
    "# Organize datasets\n",
    "data_collection = {}\n",
    "for dataset in [f for f in os.listdir(data_dir) if \"parquet\" in f]:\n",
    "    print(dataset.split(\".\")[0])\n",
    "    X_tr, X_ts, y_tr, y_ts = Classification().prepare_data(f\"{data_dir}\\\\{dataset}\", \"CONDITION\")\n",
    "    var_sel = Classification().variable_selection(X_tr, X_ts, y_tr, y_ts)\n",
    "    perfs, stability = Classification().benchmark_models(X_tr, X_ts, y_tr, y_ts, var_sel)\n",
    "    data_collection[dataset.split(\".\")[0]] = [X_tr, X_ts, y_tr, y_ts, var_sel, perfs, stability]\n",
    "    print(var_sel)\n",
    "    print(perfs)\n",
    "    print()\n",
    "    print(\"==> TOP5 STABILITY SCORE: {}\".format(stability))\n",
    "    print(\"-\" * 100)\n",
    "    print(\"-\" * 100)\n",
    "    print(\"-\" * 100)\n",
    "    print()"
   ]
  },
  {
   "cell_type": "markdown",
   "id": "02e026d5",
   "metadata": {
    "ExecuteTime": {
     "end_time": "2022-11-21T10:43:57.660751Z",
     "start_time": "2022-11-21T10:43:57.429876Z"
    }
   },
   "source": [
    "## Assess quality of analysis\n",
    "***"
   ]
  },
  {
   "cell_type": "code",
   "execution_count": null,
   "id": "10ee78dd",
   "metadata": {
    "ExecuteTime": {
     "end_time": "2022-12-05T16:44:50.326794Z",
     "start_time": "2022-12-05T16:44:41.578715Z"
    }
   },
   "outputs": [],
   "source": [
    "# Compare with correlation matrices\n",
    "# The greener the higher the correlation\n",
    "f0, ax0 = plt.subplots(4, 4, figsize = (20, 24))\n",
    "for n, k in enumerate(data_collection.keys()):\n",
    "    \n",
    "    sns.heatmap(pd.DataFrame(data_collection[k][0]).corr().abs(),\n",
    "                vmin = 0, vmax = 1, cmap = \"YlGn\",\n",
    "                cbar = False, ax = ax0[n//4, n%4])\n",
    "    ax0[n//4, n%4].set_title(\"{} - {} selected\"\\\n",
    "                             .format(k, len(data_collection[k][-3][\"Features\"])))\n",
    "plt.show()"
   ]
  },
  {
   "cell_type": "code",
   "execution_count": null,
   "id": "fb1baa89",
   "metadata": {
    "ExecuteTime": {
     "end_time": "2022-12-05T16:45:22.542184Z",
     "start_time": "2022-12-05T16:45:17.374507Z"
    }
   },
   "outputs": [],
   "source": [
    "# Correlation matrices of only selected features\n",
    "# The greener the higher the correlation\n",
    "f1, ax1 = plt.subplots(4, 4, figsize = (20, 24))\n",
    "for n, k in enumerate(data_collection.keys()):\n",
    "    \n",
    "    feats = data_collection[k][-3][\"Features\"]\n",
    "    \n",
    "    annotation = True if len(feats) < 7 else False\n",
    "    \n",
    "    sns.heatmap(pd.DataFrame(data_collection[k][0][:,feats]).corr().abs(),\n",
    "                vmin = 0, vmax = 1, cmap = \"YlGn\", annot = annotation,\n",
    "                cbar = False, ax = ax1[n//4, n%4])\n",
    "\n",
    "    ax1[n//4, n%4].set_title(k)\n",
    "    \n",
    "plt.show()"
   ]
  },
  {
   "cell_type": "code",
   "execution_count": null,
   "id": "7dce20af",
   "metadata": {
    "ExecuteTime": {
     "end_time": "2022-12-05T16:54:29.373996Z",
     "start_time": "2022-12-05T16:54:29.132339Z"
    }
   },
   "outputs": [],
   "source": [
    "benchmark = evaluation.lasso_benchmark(data_collection)\n",
    "\n",
    "benchmark_df = pd.DataFrame(benchmark,\n",
    "                            columns = [\"Dataset\", \"Algo\", \"λ min\", \"λ 1se\",\n",
    "                                       \"Zero coeffs at λ min\",\n",
    "                                       \"Delta accuracy\"]).drop(\"Algo\", axis = 1)\n",
    "\n",
    "benchmark_df[\"Delta accuracy\"] = benchmark_df[\"Delta accuracy\"].apply(lambda s: s.loc[\"Accuracy\"])\n",
    "benchmark_df"
   ]
  },
  {
   "cell_type": "code",
   "execution_count": null,
   "id": "ef45610b",
   "metadata": {
    "ExecuteTime": {
     "end_time": "2022-11-24T19:53:04.846707Z",
     "start_time": "2022-11-24T19:53:04.624064Z"
    }
   },
   "outputs": [],
   "source": [
    "#evaluation.graphical_lasso_benchmark(benchmark[7])"
   ]
  },
  {
   "cell_type": "markdown",
   "id": "b1745d9a",
   "metadata": {},
   "source": [
    "## Summarize results\n",
    "***"
   ]
  },
  {
   "cell_type": "code",
   "execution_count": 9,
   "id": "a9dbf5ae",
   "metadata": {
    "ExecuteTime": {
     "end_time": "2022-12-14T18:58:28.876064Z",
     "start_time": "2022-12-14T18:58:28.123063Z"
    }
   },
   "outputs": [
    {
     "data": {
      "text/html": [
       "<div>\n",
       "<style scoped>\n",
       "    .dataframe tbody tr th:only-of-type {\n",
       "        vertical-align: middle;\n",
       "    }\n",
       "\n",
       "    .dataframe tbody tr th {\n",
       "        vertical-align: top;\n",
       "    }\n",
       "\n",
       "    .dataframe thead th {\n",
       "        text-align: right;\n",
       "    }\n",
       "</style>\n",
       "<table border=\"1\" class=\"dataframe\">\n",
       "  <thead>\n",
       "    <tr style=\"text-align: right;\">\n",
       "      <th></th>\n",
       "      <th>Dataset name</th>\n",
       "      <th>Sample size</th>\n",
       "      <th>Training size</th>\n",
       "      <th>Number of Features</th>\n",
       "      <th>Selected Features</th>\n",
       "      <th>Feat. Top5-Stability</th>\n",
       "      <th>Accuracy - Logit all features</th>\n",
       "      <th>Accuracy - Logit</th>\n",
       "      <th>Accuracy - SVM</th>\n",
       "      <th>Accuracy - RF</th>\n",
       "      <th>Accuracy - MLP</th>\n",
       "      <th>Avg Acc. on selected features</th>\n",
       "      <th>Accuracy Std on selected features</th>\n",
       "      <th>Acc. diff. wrt Full logit</th>\n",
       "    </tr>\n",
       "  </thead>\n",
       "  <tbody>\n",
       "    <tr>\n",
       "      <th>0</th>\n",
       "      <td>BF_df_CTU</td>\n",
       "      <td>442</td>\n",
       "      <td>309</td>\n",
       "      <td>10</td>\n",
       "      <td>4</td>\n",
       "      <td>0.417</td>\n",
       "      <td>0.774</td>\n",
       "      <td>0.812</td>\n",
       "      <td>0.812</td>\n",
       "      <td>0.827</td>\n",
       "      <td>0.827</td>\n",
       "      <td>0.820</td>\n",
       "      <td>0.009</td>\n",
       "      <td>0.045</td>\n",
       "    </tr>\n",
       "    <tr>\n",
       "      <th>1</th>\n",
       "      <td>BF_df_OU</td>\n",
       "      <td>460</td>\n",
       "      <td>322</td>\n",
       "      <td>10</td>\n",
       "      <td>3</td>\n",
       "      <td>0.778</td>\n",
       "      <td>0.833</td>\n",
       "      <td>0.812</td>\n",
       "      <td>0.797</td>\n",
       "      <td>0.783</td>\n",
       "      <td>0.819</td>\n",
       "      <td>0.803</td>\n",
       "      <td>0.016</td>\n",
       "      <td>-0.031</td>\n",
       "    </tr>\n",
       "    <tr>\n",
       "      <th>2</th>\n",
       "      <td>BF_df_V</td>\n",
       "      <td>486</td>\n",
       "      <td>340</td>\n",
       "      <td>10</td>\n",
       "      <td>1</td>\n",
       "      <td>1.000</td>\n",
       "      <td>0.760</td>\n",
       "      <td>0.685</td>\n",
       "      <td>0.685</td>\n",
       "      <td>0.685</td>\n",
       "      <td>0.685</td>\n",
       "      <td>0.685</td>\n",
       "      <td>0.000</td>\n",
       "      <td>-0.075</td>\n",
       "    </tr>\n",
       "    <tr>\n",
       "      <th>3</th>\n",
       "      <td>DT_df_CC</td>\n",
       "      <td>482</td>\n",
       "      <td>337</td>\n",
       "      <td>27</td>\n",
       "      <td>3</td>\n",
       "      <td>0.778</td>\n",
       "      <td>0.683</td>\n",
       "      <td>0.731</td>\n",
       "      <td>0.731</td>\n",
       "      <td>0.710</td>\n",
       "      <td>0.731</td>\n",
       "      <td>0.726</td>\n",
       "      <td>0.010</td>\n",
       "      <td>0.043</td>\n",
       "    </tr>\n",
       "    <tr>\n",
       "      <th>4</th>\n",
       "      <td>DT_df_JI</td>\n",
       "      <td>864</td>\n",
       "      <td>604</td>\n",
       "      <td>27</td>\n",
       "      <td>5</td>\n",
       "      <td>0.667</td>\n",
       "      <td>0.662</td>\n",
       "      <td>0.654</td>\n",
       "      <td>0.662</td>\n",
       "      <td>0.608</td>\n",
       "      <td>0.658</td>\n",
       "      <td>0.645</td>\n",
       "      <td>0.025</td>\n",
       "      <td>-0.016</td>\n",
       "    </tr>\n",
       "    <tr>\n",
       "      <th>5</th>\n",
       "      <td>IADQ_df</td>\n",
       "      <td>450</td>\n",
       "      <td>315</td>\n",
       "      <td>9</td>\n",
       "      <td>2</td>\n",
       "      <td>0.667</td>\n",
       "      <td>0.852</td>\n",
       "      <td>0.830</td>\n",
       "      <td>0.830</td>\n",
       "      <td>0.815</td>\n",
       "      <td>0.822</td>\n",
       "      <td>0.824</td>\n",
       "      <td>0.007</td>\n",
       "      <td>-0.028</td>\n",
       "    </tr>\n",
       "    <tr>\n",
       "      <th>6</th>\n",
       "      <td>IESR_df</td>\n",
       "      <td>358</td>\n",
       "      <td>250</td>\n",
       "      <td>22</td>\n",
       "      <td>4</td>\n",
       "      <td>0.583</td>\n",
       "      <td>0.935</td>\n",
       "      <td>0.889</td>\n",
       "      <td>0.907</td>\n",
       "      <td>0.907</td>\n",
       "      <td>0.917</td>\n",
       "      <td>0.905</td>\n",
       "      <td>0.012</td>\n",
       "      <td>-0.030</td>\n",
       "    </tr>\n",
       "    <tr>\n",
       "      <th>7</th>\n",
       "      <td>NAQ_R_df</td>\n",
       "      <td>712</td>\n",
       "      <td>498</td>\n",
       "      <td>22</td>\n",
       "      <td>1</td>\n",
       "      <td>1.000</td>\n",
       "      <td>0.953</td>\n",
       "      <td>0.930</td>\n",
       "      <td>0.930</td>\n",
       "      <td>0.930</td>\n",
       "      <td>0.930</td>\n",
       "      <td>0.930</td>\n",
       "      <td>0.000</td>\n",
       "      <td>-0.023</td>\n",
       "    </tr>\n",
       "    <tr>\n",
       "      <th>8</th>\n",
       "      <td>PCL5_df</td>\n",
       "      <td>402</td>\n",
       "      <td>281</td>\n",
       "      <td>20</td>\n",
       "      <td>2</td>\n",
       "      <td>0.667</td>\n",
       "      <td>0.810</td>\n",
       "      <td>0.826</td>\n",
       "      <td>0.826</td>\n",
       "      <td>0.818</td>\n",
       "      <td>0.826</td>\n",
       "      <td>0.824</td>\n",
       "      <td>0.004</td>\n",
       "      <td>0.014</td>\n",
       "    </tr>\n",
       "    <tr>\n",
       "      <th>9</th>\n",
       "      <td>PHQ9_GAD7_df</td>\n",
       "      <td>1118</td>\n",
       "      <td>782</td>\n",
       "      <td>16</td>\n",
       "      <td>4</td>\n",
       "      <td>1.000</td>\n",
       "      <td>0.991</td>\n",
       "      <td>0.982</td>\n",
       "      <td>0.982</td>\n",
       "      <td>0.973</td>\n",
       "      <td>0.979</td>\n",
       "      <td>0.979</td>\n",
       "      <td>0.004</td>\n",
       "      <td>-0.012</td>\n",
       "    </tr>\n",
       "    <tr>\n",
       "      <th>10</th>\n",
       "      <td>PID5_df</td>\n",
       "      <td>824</td>\n",
       "      <td>576</td>\n",
       "      <td>220</td>\n",
       "      <td>3</td>\n",
       "      <td>0.778</td>\n",
       "      <td>0.960</td>\n",
       "      <td>0.927</td>\n",
       "      <td>0.927</td>\n",
       "      <td>0.923</td>\n",
       "      <td>0.931</td>\n",
       "      <td>0.927</td>\n",
       "      <td>0.003</td>\n",
       "      <td>-0.032</td>\n",
       "    </tr>\n",
       "    <tr>\n",
       "      <th>11</th>\n",
       "      <td>PRFQ_df</td>\n",
       "      <td>678</td>\n",
       "      <td>474</td>\n",
       "      <td>18</td>\n",
       "      <td>4</td>\n",
       "      <td>0.667</td>\n",
       "      <td>0.936</td>\n",
       "      <td>0.892</td>\n",
       "      <td>0.892</td>\n",
       "      <td>0.917</td>\n",
       "      <td>0.897</td>\n",
       "      <td>0.900</td>\n",
       "      <td>0.012</td>\n",
       "      <td>-0.037</td>\n",
       "    </tr>\n",
       "    <tr>\n",
       "      <th>12</th>\n",
       "      <td>PRMQ_df</td>\n",
       "      <td>1404</td>\n",
       "      <td>982</td>\n",
       "      <td>16</td>\n",
       "      <td>5</td>\n",
       "      <td>0.867</td>\n",
       "      <td>0.908</td>\n",
       "      <td>0.891</td>\n",
       "      <td>0.891</td>\n",
       "      <td>0.889</td>\n",
       "      <td>0.896</td>\n",
       "      <td>0.892</td>\n",
       "      <td>0.003</td>\n",
       "      <td>-0.016</td>\n",
       "    </tr>\n",
       "    <tr>\n",
       "      <th>13</th>\n",
       "      <td>RAW_DDDT</td>\n",
       "      <td>986</td>\n",
       "      <td>690</td>\n",
       "      <td>12</td>\n",
       "      <td>4</td>\n",
       "      <td>0.667</td>\n",
       "      <td>0.747</td>\n",
       "      <td>0.747</td>\n",
       "      <td>0.743</td>\n",
       "      <td>0.760</td>\n",
       "      <td>0.743</td>\n",
       "      <td>0.748</td>\n",
       "      <td>0.008</td>\n",
       "      <td>0.002</td>\n",
       "    </tr>\n",
       "    <tr>\n",
       "      <th>14</th>\n",
       "      <td>R_NEO_PI</td>\n",
       "      <td>77687</td>\n",
       "      <td>54380</td>\n",
       "      <td>30</td>\n",
       "      <td>19</td>\n",
       "      <td>0.533</td>\n",
       "      <td>0.907</td>\n",
       "      <td>0.907</td>\n",
       "      <td>0.906</td>\n",
       "      <td>0.911</td>\n",
       "      <td>0.914</td>\n",
       "      <td>0.910</td>\n",
       "      <td>0.004</td>\n",
       "      <td>0.003</td>\n",
       "    </tr>\n",
       "    <tr>\n",
       "      <th>15</th>\n",
       "      <td>sPID-5_df</td>\n",
       "      <td>1038</td>\n",
       "      <td>726</td>\n",
       "      <td>25</td>\n",
       "      <td>7</td>\n",
       "      <td>0.533</td>\n",
       "      <td>0.962</td>\n",
       "      <td>0.971</td>\n",
       "      <td>0.971</td>\n",
       "      <td>0.958</td>\n",
       "      <td>0.968</td>\n",
       "      <td>0.967</td>\n",
       "      <td>0.006</td>\n",
       "      <td>0.006</td>\n",
       "    </tr>\n",
       "  </tbody>\n",
       "</table>\n",
       "</div>"
      ],
      "text/plain": [
       "    Dataset name  Sample size  Training size  Number of Features  \\\n",
       "0      BF_df_CTU          442            309                  10   \n",
       "1       BF_df_OU          460            322                  10   \n",
       "2        BF_df_V          486            340                  10   \n",
       "3       DT_df_CC          482            337                  27   \n",
       "4       DT_df_JI          864            604                  27   \n",
       "5        IADQ_df          450            315                   9   \n",
       "6        IESR_df          358            250                  22   \n",
       "7       NAQ_R_df          712            498                  22   \n",
       "8        PCL5_df          402            281                  20   \n",
       "9   PHQ9_GAD7_df         1118            782                  16   \n",
       "10       PID5_df          824            576                 220   \n",
       "11       PRFQ_df          678            474                  18   \n",
       "12       PRMQ_df         1404            982                  16   \n",
       "13      RAW_DDDT          986            690                  12   \n",
       "14      R_NEO_PI        77687          54380                  30   \n",
       "15     sPID-5_df         1038            726                  25   \n",
       "\n",
       "    Selected Features  Feat. Top5-Stability  Accuracy - Logit all features  \\\n",
       "0                   4                 0.417                          0.774   \n",
       "1                   3                 0.778                          0.833   \n",
       "2                   1                 1.000                          0.760   \n",
       "3                   3                 0.778                          0.683   \n",
       "4                   5                 0.667                          0.662   \n",
       "5                   2                 0.667                          0.852   \n",
       "6                   4                 0.583                          0.935   \n",
       "7                   1                 1.000                          0.953   \n",
       "8                   2                 0.667                          0.810   \n",
       "9                   4                 1.000                          0.991   \n",
       "10                  3                 0.778                          0.960   \n",
       "11                  4                 0.667                          0.936   \n",
       "12                  5                 0.867                          0.908   \n",
       "13                  4                 0.667                          0.747   \n",
       "14                 19                 0.533                          0.907   \n",
       "15                  7                 0.533                          0.962   \n",
       "\n",
       "    Accuracy - Logit  Accuracy - SVM  Accuracy - RF  Accuracy - MLP  \\\n",
       "0              0.812           0.812          0.827           0.827   \n",
       "1              0.812           0.797          0.783           0.819   \n",
       "2              0.685           0.685          0.685           0.685   \n",
       "3              0.731           0.731          0.710           0.731   \n",
       "4              0.654           0.662          0.608           0.658   \n",
       "5              0.830           0.830          0.815           0.822   \n",
       "6              0.889           0.907          0.907           0.917   \n",
       "7              0.930           0.930          0.930           0.930   \n",
       "8              0.826           0.826          0.818           0.826   \n",
       "9              0.982           0.982          0.973           0.979   \n",
       "10             0.927           0.927          0.923           0.931   \n",
       "11             0.892           0.892          0.917           0.897   \n",
       "12             0.891           0.891          0.889           0.896   \n",
       "13             0.747           0.743          0.760           0.743   \n",
       "14             0.907           0.906          0.911           0.914   \n",
       "15             0.971           0.971          0.958           0.968   \n",
       "\n",
       "    Avg Acc. on selected features  Accuracy Std on selected features  \\\n",
       "0                           0.820                              0.009   \n",
       "1                           0.803                              0.016   \n",
       "2                           0.685                              0.000   \n",
       "3                           0.726                              0.010   \n",
       "4                           0.645                              0.025   \n",
       "5                           0.824                              0.007   \n",
       "6                           0.905                              0.012   \n",
       "7                           0.930                              0.000   \n",
       "8                           0.824                              0.004   \n",
       "9                           0.979                              0.004   \n",
       "10                          0.927                              0.003   \n",
       "11                          0.900                              0.012   \n",
       "12                          0.892                              0.003   \n",
       "13                          0.748                              0.008   \n",
       "14                          0.910                              0.004   \n",
       "15                          0.967                              0.006   \n",
       "\n",
       "    Acc. diff. wrt Full logit  \n",
       "0                       0.045  \n",
       "1                      -0.031  \n",
       "2                      -0.075  \n",
       "3                       0.043  \n",
       "4                      -0.016  \n",
       "5                      -0.028  \n",
       "6                      -0.030  \n",
       "7                      -0.023  \n",
       "8                       0.014  \n",
       "9                      -0.012  \n",
       "10                     -0.032  \n",
       "11                     -0.037  \n",
       "12                     -0.016  \n",
       "13                      0.002  \n",
       "14                      0.003  \n",
       "15                      0.006  "
      ]
     },
     "execution_count": 9,
     "metadata": {},
     "output_type": "execute_result"
    }
   ],
   "source": [
    "pimp_summary = evaluation.summary_table(data_collection, stability = True, neural_net = True)\n",
    "pimp_summary"
   ]
  },
  {
   "cell_type": "code",
   "execution_count": 11,
   "id": "1a87c35a",
   "metadata": {
    "ExecuteTime": {
     "end_time": "2022-12-14T18:58:30.029673Z",
     "start_time": "2022-12-14T18:58:29.477227Z"
    }
   },
   "outputs": [
    {
     "data": {
      "image/png": "[encoded data removed]",
      "text/plain": [
       "<Figure size 1296x504 with 1 Axes>"
      ]
     },
     "metadata": {
      "needs_background": "light"
     },
     "output_type": "display_data"
    }
   ],
   "source": [
    "summary_graphs.accuracy_barplot(pimp_summary, save = False, prefix = \"PERMIMP\")"
   ]
  },
  {
   "cell_type": "code",
   "execution_count": 12,
   "id": "fe0e0a56",
   "metadata": {
    "ExecuteTime": {
     "end_time": "2022-12-14T18:58:30.646366Z",
     "start_time": "2022-12-14T18:58:30.031669Z"
    }
   },
   "outputs": [
    {
     "data": {
      "image/png": "[encoded data removed]",
      "text/plain": [
       "<Figure size 1296x432 with 1 Axes>"
      ]
     },
     "metadata": {
      "needs_background": "light"
     },
     "output_type": "display_data"
    }
   ],
   "source": [
    "summary_graphs.accuracy_std(pimp_summary, save = False, prefix = \"PERMIMP\")"
   ]
  },
  {
   "cell_type": "code",
   "execution_count": 13,
   "id": "5c6118b9",
   "metadata": {
    "ExecuteTime": {
     "end_time": "2022-12-14T18:58:31.555000Z",
     "start_time": "2022-12-14T18:58:30.649267Z"
    }
   },
   "outputs": [
    {
     "data": {
      "image/png": "[encoded data removed]",
      "text/plain": [
       "<Figure size 1296x720 with 2 Axes>"
      ]
     },
     "metadata": {
      "needs_background": "light"
     },
     "output_type": "display_data"
    }
   ],
   "source": [
    "summary_graphs.faking_type_comparison(pimp_summary, prefix = \"PERMIMP\", save = False)"
   ]
  },
  {
   "cell_type": "markdown",
   "id": "c0594f98",
   "metadata": {},
   "source": [
    "---\n",
    "---\n",
    "---"
   ]
  },
  {
   "cell_type": "markdown",
   "id": "fb4fb8dc",
   "metadata": {},
   "source": [
    "## Mutual Information (JMIM)\n",
    "##### SUPPORTING PAPERS\n",
    "[1] A. Kraskov, H. Stogbauer and P. Grassberger, “Estimating mutual information”. Phys. Rev. E 69, 2004.  \n",
    "[2] B. C. Ross “Mutual Information between Discrete and Continuous Data Sets”. PLoS ONE 9(2), 2014.  \n",
    "[3] L. F. Kozachenko, N. N. Leonenko, “Sample Estimate of the Entropy of a Random Vector:, Probl. Peredachi Inf., 23:2 (1987), 9-16"
   ]
  },
  {
   "cell_type": "code",
   "execution_count": 2,
   "id": "c63d1bd7",
   "metadata": {
    "ExecuteTime": {
     "end_time": "2022-12-14T18:50:58.890888Z",
     "start_time": "2022-12-14T18:45:40.931873Z"
    },
    "scrolled": true
   },
   "outputs": [
    {
     "name": "stdout",
     "output_type": "stream",
     "text": [
      "BF_df_CTU\n"
     ]
    },
    {
     "data": {
      "application/vnd.jupyter.widget-view+json": {
       "model_id": "e3316943a22c4140bdb3a785898e8199",
       "version_major": 2,
       "version_minor": 0
      },
      "text/plain": [
       "  0%|          | 0/100 [00:00<?, ?it/s]"
      ]
     },
     "metadata": {},
     "output_type": "display_data"
    },
    {
     "name": "stdout",
     "output_type": "stream",
     "text": [
      "5/5 [==============================] - 0s 2ms/step\n",
      "Train size: 309\n",
      "Selected 3 features out of 10\n",
      "[4, 7, 2]\n",
      "                     Accuracy  FI 1  FI 2  FI 3\n",
      "Full Logit           0.774436   NaN   NaN   NaN\n",
      "Logistic Regression  0.819549   7.0   2.0   4.0\n",
      "SVC                  0.819549   7.0   2.0   4.0\n",
      "Random Forest        0.804511   7.0   4.0   2.0\n",
      "Neural Network       0.842105   7.0   4.0   2.0\n",
      "\n",
      "==> TOP5 STABILITY SCORE: 0.778\n",
      "----------------------------------------------------------------------------------------------------\n",
      "----------------------------------------------------------------------------------------------------\n",
      "----------------------------------------------------------------------------------------------------\n",
      "\n",
      "BF_df_OU\n"
     ]
    },
    {
     "data": {
      "application/vnd.jupyter.widget-view+json": {
       "model_id": "b61bf2cafdf843bdbae7629e5cbf0d60",
       "version_major": 2,
       "version_minor": 0
      },
      "text/plain": [
       "  0%|          | 0/100 [00:00<?, ?it/s]"
      ]
     },
     "metadata": {},
     "output_type": "display_data"
    },
    {
     "name": "stdout",
     "output_type": "stream",
     "text": [
      "5/5 [==============================] - 0s 1ms/step\n",
      "Train size: 322\n",
      "Selected 2 features out of 10\n",
      "[0, 7]\n",
      "                     Accuracy  FI 1  FI 2\n",
      "Full Logit           0.833333   NaN   NaN\n",
      "Logistic Regression  0.746377   7.0   0.0\n",
      "SVC                  0.753623   7.0   0.0\n",
      "Random Forest        0.768116   7.0   0.0\n",
      "Neural Network       0.760870   7.0   0.0\n",
      "\n",
      "==> TOP5 STABILITY SCORE: 1.0\n",
      "----------------------------------------------------------------------------------------------------\n",
      "----------------------------------------------------------------------------------------------------\n",
      "----------------------------------------------------------------------------------------------------\n",
      "\n",
      "BF_df_V\n"
     ]
    },
    {
     "data": {
      "application/vnd.jupyter.widget-view+json": {
       "model_id": "2797c8f704284417a4021457d19b7c5b",
       "version_major": 2,
       "version_minor": 0
      },
      "text/plain": [
       "  0%|          | 0/100 [00:00<?, ?it/s]"
      ]
     },
     "metadata": {},
     "output_type": "display_data"
    },
    {
     "name": "stdout",
     "output_type": "stream",
     "text": [
      "5/5 [==============================] - 0s 2ms/step\n",
      "Train size: 340\n",
      "Selected 3 features out of 10\n",
      "[4, 0, 6]\n",
      "                     Accuracy  FI 1  FI 2  FI 3\n",
      "Full Logit           0.760274   NaN   NaN   NaN\n",
      "Logistic Regression  0.760274   6.0   0.0   4.0\n",
      "SVC                  0.760274   6.0   0.0   4.0\n",
      "Random Forest        0.760274   6.0   4.0   0.0\n",
      "Neural Network       0.760274   4.0   0.0   6.0\n",
      "\n",
      "==> TOP5 STABILITY SCORE: 0.556\n",
      "----------------------------------------------------------------------------------------------------\n",
      "----------------------------------------------------------------------------------------------------\n",
      "----------------------------------------------------------------------------------------------------\n",
      "\n",
      "DT_df_CC\n"
     ]
    },
    {
     "data": {
      "application/vnd.jupyter.widget-view+json": {
       "model_id": "8d46ff4071984af4a46cb64867a5e837",
       "version_major": 2,
       "version_minor": 0
      },
      "text/plain": [
       "  0%|          | 0/100 [00:00<?, ?it/s]"
      ]
     },
     "metadata": {},
     "output_type": "display_data"
    },
    {
     "name": "stdout",
     "output_type": "stream",
     "text": [
      "5/5 [==============================] - 0s 3ms/step\n",
      "Train size: 337\n",
      "Selected 2 features out of 27\n",
      "[10, 6]\n",
      "                     Accuracy  FI 1  FI 2\n",
      "Full Logit           0.682759   NaN   NaN\n",
      "Logistic Regression  0.689655  10.0   6.0\n",
      "SVC                  0.689655  10.0   6.0\n",
      "Random Forest        0.689655  10.0   6.0\n",
      "Neural Network       0.689655   6.0  10.0\n",
      "\n",
      "==> TOP5 STABILITY SCORE: 0.667\n",
      "----------------------------------------------------------------------------------------------------\n",
      "----------------------------------------------------------------------------------------------------\n",
      "----------------------------------------------------------------------------------------------------\n",
      "\n",
      "DT_df_JI\n"
     ]
    },
    {
     "data": {
      "application/vnd.jupyter.widget-view+json": {
       "model_id": "962dfc45626c4bd78c63afb4a5926f0c",
       "version_major": 2,
       "version_minor": 0
      },
      "text/plain": [
       "  0%|          | 0/100 [00:00<?, ?it/s]"
      ]
     },
     "metadata": {},
     "output_type": "display_data"
    },
    {
     "name": "stdout",
     "output_type": "stream",
     "text": [
      "9/9 [==============================] - 0s 1ms/step\n",
      "Train size: 604\n",
      "Selected 2 features out of 27\n",
      "[2, 6]\n",
      "                     Accuracy  FI 1  FI 2\n",
      "Full Logit           0.661538   NaN   NaN\n",
      "Logistic Regression  0.642308   2.0   6.0\n",
      "SVC                  0.642308   2.0   6.0\n",
      "Random Forest        0.623077   2.0   6.0\n",
      "Neural Network       0.642308   2.0   6.0\n",
      "\n",
      "==> TOP5 STABILITY SCORE: 1.0\n",
      "----------------------------------------------------------------------------------------------------\n",
      "----------------------------------------------------------------------------------------------------\n",
      "----------------------------------------------------------------------------------------------------\n",
      "\n",
      "IADQ_df\n"
     ]
    },
    {
     "data": {
      "application/vnd.jupyter.widget-view+json": {
       "model_id": "46b955cdd61546cabf042aa271206319",
       "version_major": 2,
       "version_minor": 0
      },
      "text/plain": [
       "  0%|          | 0/100 [00:00<?, ?it/s]"
      ]
     },
     "metadata": {},
     "output_type": "display_data"
    },
    {
     "name": "stdout",
     "output_type": "stream",
     "text": [
      "5/5 [==============================] - 0s 2ms/step\n",
      "Train size: 315\n",
      "Selected 6 features out of 9\n",
      "[1, 4, 8, 2, 6, 3]\n",
      "                     Accuracy  FI 1  FI 2  FI 3  FI 4  FI 5\n",
      "Full Logit           0.851852   NaN   NaN   NaN   NaN   NaN\n",
      "Logistic Regression  0.844444   3.0   1.0   4.0   8.0   6.0\n",
      "SVC                  0.844444   3.0   1.0   8.0   4.0   2.0\n",
      "Random Forest        0.829630   8.0   4.0   3.0   1.0   6.0\n",
      "Neural Network       0.829630   8.0   2.0   1.0   6.0   4.0\n",
      "\n",
      "==> TOP5 STABILITY SCORE: 0.267\n",
      "----------------------------------------------------------------------------------------------------\n",
      "----------------------------------------------------------------------------------------------------\n",
      "----------------------------------------------------------------------------------------------------\n",
      "\n",
      "IESR_df\n"
     ]
    },
    {
     "data": {
      "application/vnd.jupyter.widget-view+json": {
       "model_id": "5a9cd16c7eca4919afa1beada339835c",
       "version_major": 2,
       "version_minor": 0
      },
      "text/plain": [
       "  0%|          | 0/100 [00:00<?, ?it/s]"
      ]
     },
     "metadata": {},
     "output_type": "display_data"
    },
    {
     "name": "stdout",
     "output_type": "stream",
     "text": [
      "4/4 [==============================] - 0s 1ms/step\n",
      "Train size: 250\n",
      "Selected 11 features out of 22\n",
      "[17, 8, 18, 15, 16, 19, 11, 14, 13, 7, 5]\n",
      "                     Accuracy  FI 1  FI 2  FI 3  FI 4  FI 5\n",
      "Full Logit           0.935185   NaN   NaN   NaN   NaN   NaN\n",
      "Logistic Regression  0.907407   8.0  18.0  19.0  13.0  14.0\n",
      "SVC                  0.888889   8.0  18.0  19.0  13.0  14.0\n",
      "Random Forest        0.898148   8.0  13.0   7.0  19.0  17.0\n",
      "Neural Network       0.925926  13.0  14.0  18.0   7.0   8.0\n",
      "\n",
      "==> TOP5 STABILITY SCORE: 0.4\n",
      "----------------------------------------------------------------------------------------------------\n",
      "----------------------------------------------------------------------------------------------------\n",
      "----------------------------------------------------------------------------------------------------\n",
      "\n",
      "NAQ_R_df\n"
     ]
    },
    {
     "data": {
      "application/vnd.jupyter.widget-view+json": {
       "model_id": "6199fdb5f78a41e1bfc13a23b0a8eb1d",
       "version_major": 2,
       "version_minor": 0
      },
      "text/plain": [
       "  0%|          | 0/100 [00:00<?, ?it/s]"
      ]
     },
     "metadata": {},
     "output_type": "display_data"
    },
    {
     "name": "stdout",
     "output_type": "stream",
     "text": [
      "7/7 [==============================] - 0s 1ms/step\n",
      "Train size: 498\n",
      "Selected 21 features out of 22\n",
      "[1, 15, 12, 5, 16, 10, 17, 19, 8, 6, 13, 21, 9, 7, 18, 11, 3, 14, 4, 0, 20]\n",
      "                     Accuracy  FI 1  FI 2  FI 3  FI 4  FI 5\n",
      "Full Logit           0.953271   NaN   NaN   NaN   NaN   NaN\n",
      "Logistic Regression  0.971963   9.0  21.0  12.0   8.0   5.0\n",
      "SVC                  0.962617   9.0  21.0   5.0  12.0   3.0\n",
      "Random Forest        0.962617  21.0  15.0  11.0   6.0   3.0\n",
      "Neural Network       0.962617  19.0  10.0  13.0  12.0   7.0\n",
      "\n",
      "==> TOP5 STABILITY SCORE: 0.267\n",
      "----------------------------------------------------------------------------------------------------\n",
      "----------------------------------------------------------------------------------------------------\n",
      "----------------------------------------------------------------------------------------------------\n",
      "\n",
      "PCL5_df\n"
     ]
    },
    {
     "data": {
      "application/vnd.jupyter.widget-view+json": {
       "model_id": "ae0e3d3999ab4762b3d822e0c0a7a63e",
       "version_major": 2,
       "version_minor": 0
      },
      "text/plain": [
       "  0%|          | 0/100 [00:00<?, ?it/s]"
      ]
     },
     "metadata": {},
     "output_type": "display_data"
    },
    {
     "name": "stdout",
     "output_type": "stream",
     "text": [
      "4/4 [==============================] - 0s 2ms/step\n",
      "Train size: 281\n",
      "Selected 5 features out of 20\n",
      "[18, 1, 13, 2, 10]\n",
      "                     Accuracy  FI 1  FI 2  FI 3  FI 4  FI 5\n",
      "Full Logit           0.809917   NaN   NaN   NaN   NaN   NaN\n",
      "Logistic Regression  0.768595   1.0  13.0   2.0  10.0  18.0\n",
      "SVC                  0.776860   1.0  13.0  10.0   2.0  18.0\n",
      "Random Forest        0.760331  13.0   1.0   2.0  10.0  18.0\n",
      "Neural Network       0.834711   2.0  13.0   1.0  10.0  18.0\n",
      "\n",
      "==> TOP5 STABILITY SCORE: 0.6\n",
      "----------------------------------------------------------------------------------------------------\n",
      "----------------------------------------------------------------------------------------------------\n",
      "----------------------------------------------------------------------------------------------------\n",
      "\n",
      "PHQ9_GAD7_df\n"
     ]
    },
    {
     "data": {
      "application/vnd.jupyter.widget-view+json": {
       "model_id": "42c5da54bb7e499690f6b7c317ec0e1c",
       "version_major": 2,
       "version_minor": 0
      },
      "text/plain": [
       "  0%|          | 0/100 [00:00<?, ?it/s]"
      ]
     },
     "metadata": {},
     "output_type": "display_data"
    },
    {
     "name": "stdout",
     "output_type": "stream",
     "text": [
      "11/11 [==============================] - 0s 3ms/step\n",
      "Train size: 782\n",
      "Selected 7 features out of 16\n",
      "[1, 6, 9, 0, 5, 7, 12]\n",
      "                     Accuracy  FI 1  FI 2  FI 3  FI 4  FI 5\n",
      "Full Logit           0.991071   NaN   NaN   NaN   NaN   NaN\n",
      "Logistic Regression  0.982143   7.0   6.0   1.0   9.0   5.0\n",
      "SVC                  0.982143   7.0   1.0   6.0   0.0   9.0\n",
      "Random Forest        0.973214   7.0   1.0  12.0   6.0   0.0\n",
      "Neural Network       0.982143   7.0   6.0   5.0   1.0   9.0\n",
      "\n",
      "==> TOP5 STABILITY SCORE: 0.4\n",
      "----------------------------------------------------------------------------------------------------\n",
      "----------------------------------------------------------------------------------------------------\n",
      "----------------------------------------------------------------------------------------------------\n",
      "\n",
      "PID5_df\n"
     ]
    },
    {
     "data": {
      "application/vnd.jupyter.widget-view+json": {
       "model_id": "acff92d1191243c0ad77f909471eb8cf",
       "version_major": 2,
       "version_minor": 0
      },
      "text/plain": [
       "  0%|          | 0/100 [00:00<?, ?it/s]"
      ]
     },
     "metadata": {},
     "output_type": "display_data"
    },
    {
     "name": "stdout",
     "output_type": "stream",
     "text": [
      "8/8 [==============================] - 0s 2ms/step\n",
      "Train size: 576\n",
      "Selected 13 features out of 220\n",
      "[165, 132, 191, 171, 151, 57, 138, 1, 189, 177, 216, 135, 35]\n",
      "                     Accuracy   FI 1   FI 2   FI 3   FI 4   FI 5\n",
      "Full Logit           0.959677    NaN    NaN    NaN    NaN    NaN\n",
      "Logistic Regression  0.955645    1.0  165.0  191.0  177.0   57.0\n",
      "SVC                  0.955645    1.0  165.0  191.0  177.0  171.0\n",
      "Random Forest        0.947581    1.0  165.0  132.0   57.0  171.0\n",
      "Neural Network       0.947581  165.0  135.0  191.0    1.0   35.0\n",
      "\n",
      "==> TOP5 STABILITY SCORE: 0.533\n",
      "----------------------------------------------------------------------------------------------------\n",
      "----------------------------------------------------------------------------------------------------\n",
      "----------------------------------------------------------------------------------------------------\n",
      "\n",
      "PRFQ_df\n"
     ]
    },
    {
     "data": {
      "application/vnd.jupyter.widget-view+json": {
       "model_id": "31fe65463b024ffd919c85c67b862bad",
       "version_major": 2,
       "version_minor": 0
      },
      "text/plain": [
       "  0%|          | 0/100 [00:00<?, ?it/s]"
      ]
     },
     "metadata": {},
     "output_type": "display_data"
    },
    {
     "name": "stdout",
     "output_type": "stream",
     "text": [
      "7/7 [==============================] - 0s 2ms/step\n",
      "Train size: 474\n",
      "Selected 4 features out of 18\n",
      "[6, 2, 8, 7]\n",
      "                     Accuracy  FI 1  FI 2  FI 3  FI 4\n",
      "Full Logit           0.936275   NaN   NaN   NaN   NaN\n",
      "Logistic Regression  0.877451   6.0   7.0   8.0   2.0\n",
      "SVC                  0.877451   6.0   7.0   8.0   2.0\n",
      "Random Forest        0.872549   6.0   2.0   8.0   7.0\n",
      "Neural Network       0.911765   7.0   8.0   6.0   2.0\n",
      "\n",
      "==> TOP5 STABILITY SCORE: 0.583\n",
      "----------------------------------------------------------------------------------------------------\n",
      "----------------------------------------------------------------------------------------------------\n",
      "----------------------------------------------------------------------------------------------------\n",
      "\n",
      "PRMQ_df\n"
     ]
    },
    {
     "data": {
      "application/vnd.jupyter.widget-view+json": {
       "model_id": "2546531a9c9d42bbb4f11e4ead64bdb4",
       "version_major": 2,
       "version_minor": 0
      },
      "text/plain": [
       "  0%|          | 0/100 [00:00<?, ?it/s]"
      ]
     },
     "metadata": {},
     "output_type": "display_data"
    },
    {
     "name": "stdout",
     "output_type": "stream",
     "text": [
      "14/14 [==============================] - 0s 2ms/step\n",
      "Train size: 982\n",
      "Selected 5 features out of 16\n",
      "[7, 12, 4, 14, 15]\n",
      "                     Accuracy  FI 1  FI 2  FI 3  FI 4  FI 5\n",
      "Full Logit           0.907583   NaN   NaN   NaN   NaN   NaN\n",
      "Logistic Regression  0.864929  12.0   7.0   4.0  14.0  15.0\n",
      "SVC                  0.862559  12.0   7.0   4.0  14.0  15.0\n",
      "Random Forest        0.864929  12.0   7.0   4.0  14.0  15.0\n",
      "Neural Network       0.879147   7.0  12.0  14.0   4.0  15.0\n",
      "\n",
      "==> TOP5 STABILITY SCORE: 0.733\n",
      "----------------------------------------------------------------------------------------------------\n",
      "----------------------------------------------------------------------------------------------------\n",
      "----------------------------------------------------------------------------------------------------\n",
      "\n",
      "RAW_DDDT\n"
     ]
    },
    {
     "data": {
      "application/vnd.jupyter.widget-view+json": {
       "model_id": "d3719cc779bb451d95ef0f8ceb89d402",
       "version_major": 2,
       "version_minor": 0
      },
      "text/plain": [
       "  0%|          | 0/100 [00:00<?, ?it/s]"
      ]
     },
     "metadata": {},
     "output_type": "display_data"
    },
    {
     "name": "stdout",
     "output_type": "stream",
     "text": [
      "10/10 [==============================] - 0s 1ms/step\n",
      "Train size: 690\n",
      "Selected 3 features out of 12\n",
      "[10, 0, 7]\n",
      "                     Accuracy  FI 1  FI 2  FI 3\n",
      "Full Logit           0.746622   NaN   NaN   NaN\n",
      "Logistic Regression  0.736486   7.0  10.0   0.0\n",
      "SVC                  0.746622   7.0  10.0   0.0\n",
      "Random Forest        0.756757  10.0   7.0   0.0\n",
      "Neural Network       0.739865  10.0   0.0   7.0\n",
      "\n",
      "==> TOP5 STABILITY SCORE: 0.556\n",
      "----------------------------------------------------------------------------------------------------\n",
      "----------------------------------------------------------------------------------------------------\n",
      "----------------------------------------------------------------------------------------------------\n",
      "\n",
      "R_NEO_PI\n"
     ]
    },
    {
     "data": {
      "application/vnd.jupyter.widget-view+json": {
       "model_id": "bc97b7c57f26485b9f5e799f22eaf5b0",
       "version_major": 2,
       "version_minor": 0
      },
      "text/plain": [
       "  0%|          | 0/100 [00:00<?, ?it/s]"
      ]
     },
     "metadata": {},
     "output_type": "display_data"
    },
    {
     "name": "stdout",
     "output_type": "stream",
     "text": [
      "729/729 [==============================] - 1s 962us/step\n",
      "Train size: 54380\n",
      "Selected 6 features out of 30\n",
      "[13, 29, 22, 5, 21, 14]\n",
      "                     Accuracy  FI 1  FI 2  FI 3  FI 4  FI 5\n",
      "Full Logit           0.906938   NaN   NaN   NaN   NaN   NaN\n",
      "Logistic Regression  0.902433  13.0  29.0  21.0   5.0  22.0\n",
      "SVC                  0.900888  13.0  21.0  29.0   5.0  22.0\n",
      "Random Forest        0.906294  29.0  13.0   5.0  21.0  22.0\n",
      "Neural Network       0.904964  29.0  13.0  22.0   5.0  21.0\n",
      "\n",
      "==> TOP5 STABILITY SCORE: 0.467\n",
      "----------------------------------------------------------------------------------------------------\n",
      "----------------------------------------------------------------------------------------------------\n",
      "----------------------------------------------------------------------------------------------------\n",
      "\n",
      "sPID-5_df\n"
     ]
    },
    {
     "data": {
      "application/vnd.jupyter.widget-view+json": {
       "model_id": "f5f60be4b1f64b75806fef240294b75f",
       "version_major": 2,
       "version_minor": 0
      },
      "text/plain": [
       "  0%|          | 0/100 [00:00<?, ?it/s]"
      ]
     },
     "metadata": {},
     "output_type": "display_data"
    },
    {
     "name": "stdout",
     "output_type": "stream",
     "text": [
      "10/10 [==============================] - 0s 1ms/step\n",
      "Train size: 726\n",
      "Selected 10 features out of 25\n",
      "[14, 20, 11, 1, 22, 4, 23, 16, 6, 2]\n",
      "                     Accuracy  FI 1  FI 2  FI 3  FI 4  FI 5\n",
      "Full Logit           0.961538   NaN   NaN   NaN   NaN   NaN\n",
      "Logistic Regression  0.967949  23.0  14.0   4.0  11.0  16.0\n",
      "SVC                  0.971154  23.0  14.0  16.0   4.0  11.0\n",
      "Random Forest        0.964744  23.0  20.0   4.0  16.0  11.0\n",
      "Neural Network       0.971154  23.0  16.0  20.0  14.0  11.0\n",
      "\n",
      "==> TOP5 STABILITY SCORE: 0.467\n",
      "----------------------------------------------------------------------------------------------------\n",
      "----------------------------------------------------------------------------------------------------\n",
      "----------------------------------------------------------------------------------------------------\n",
      "\n"
     ]
    }
   ],
   "source": [
    "# Organize datasets\n",
    "mis_datasets = {}\n",
    "\n",
    "for dataset in [f for f in os.listdir(\".\\\\data\") if \"parquet\" in f]:\n",
    "    print(dataset.split(\".\")[0])\n",
    "    X_tr, X_ts, y_tr, y_ts = Classification().prepare_data(f\".\\\\data\\\\{dataset}\", \"CONDITION\")\n",
    "    \n",
    "    var_sel = Classification().mutual_info(X_tr, y_tr)\n",
    "    perfs, stability = Classification().benchmark_models(X_tr, X_ts, y_tr, y_ts, var_sel)\n",
    "    \n",
    "    mis_datasets[dataset.split(\".\")[0]] = [X_tr, X_ts, y_tr, y_ts, var_sel, perfs, stability]\n",
    "    print(var_sel)\n",
    "    print(perfs)\n",
    "    print()\n",
    "    print(\"==> TOP5 STABILITY SCORE: {}\".format(stability))\n",
    "    print(\"-\" * 100)\n",
    "    print(\"-\" * 100)\n",
    "    print(\"-\" * 100)\n",
    "    print()"
   ]
  },
  {
   "cell_type": "markdown",
   "id": "36b6baff",
   "metadata": {},
   "source": [
    "### Analysis of results"
   ]
  },
  {
   "cell_type": "code",
   "execution_count": 3,
   "id": "502b6593",
   "metadata": {
    "ExecuteTime": {
     "end_time": "2022-12-14T18:51:10.482251Z",
     "start_time": "2022-12-14T18:51:09.901942Z"
    }
   },
   "outputs": [
    {
     "data": {
      "text/html": [
       "<div>\n",
       "<style scoped>\n",
       "    .dataframe tbody tr th:only-of-type {\n",
       "        vertical-align: middle;\n",
       "    }\n",
       "\n",
       "    .dataframe tbody tr th {\n",
       "        vertical-align: top;\n",
       "    }\n",
       "\n",
       "    .dataframe thead th {\n",
       "        text-align: right;\n",
       "    }\n",
       "</style>\n",
       "<table border=\"1\" class=\"dataframe\">\n",
       "  <thead>\n",
       "    <tr style=\"text-align: right;\">\n",
       "      <th></th>\n",
       "      <th>Dataset name</th>\n",
       "      <th>Sample size</th>\n",
       "      <th>Training size</th>\n",
       "      <th>Number of Features</th>\n",
       "      <th>Selected Features</th>\n",
       "      <th>Feat. Top5-Stability</th>\n",
       "      <th>Accuracy - Logit all features</th>\n",
       "      <th>Accuracy - Logit</th>\n",
       "      <th>Accuracy - SVM</th>\n",
       "      <th>Accuracy - RF</th>\n",
       "      <th>Accuracy - MLP</th>\n",
       "      <th>Avg Acc. on selected features</th>\n",
       "      <th>Accuracy Std on selected features</th>\n",
       "      <th>Acc. diff. wrt Full logit</th>\n",
       "    </tr>\n",
       "  </thead>\n",
       "  <tbody>\n",
       "    <tr>\n",
       "      <th>8</th>\n",
       "      <td>PCL5_df</td>\n",
       "      <td>402</td>\n",
       "      <td>281</td>\n",
       "      <td>20</td>\n",
       "      <td>5</td>\n",
       "      <td>0.600</td>\n",
       "      <td>0.810</td>\n",
       "      <td>0.769</td>\n",
       "      <td>0.777</td>\n",
       "      <td>0.760</td>\n",
       "      <td>0.835</td>\n",
       "      <td>0.785</td>\n",
       "      <td>0.034</td>\n",
       "      <td>-0.025</td>\n",
       "    </tr>\n",
       "    <tr>\n",
       "      <th>11</th>\n",
       "      <td>PRFQ_df</td>\n",
       "      <td>678</td>\n",
       "      <td>474</td>\n",
       "      <td>18</td>\n",
       "      <td>4</td>\n",
       "      <td>0.583</td>\n",
       "      <td>0.936</td>\n",
       "      <td>0.877</td>\n",
       "      <td>0.877</td>\n",
       "      <td>0.873</td>\n",
       "      <td>0.912</td>\n",
       "      <td>0.885</td>\n",
       "      <td>0.018</td>\n",
       "      <td>-0.051</td>\n",
       "    </tr>\n",
       "    <tr>\n",
       "      <th>0</th>\n",
       "      <td>BF_df_CTU</td>\n",
       "      <td>442</td>\n",
       "      <td>309</td>\n",
       "      <td>10</td>\n",
       "      <td>3</td>\n",
       "      <td>0.778</td>\n",
       "      <td>0.774</td>\n",
       "      <td>0.820</td>\n",
       "      <td>0.820</td>\n",
       "      <td>0.805</td>\n",
       "      <td>0.842</td>\n",
       "      <td>0.821</td>\n",
       "      <td>0.016</td>\n",
       "      <td>0.047</td>\n",
       "    </tr>\n",
       "    <tr>\n",
       "      <th>6</th>\n",
       "      <td>IESR_df</td>\n",
       "      <td>358</td>\n",
       "      <td>250</td>\n",
       "      <td>22</td>\n",
       "      <td>11</td>\n",
       "      <td>0.400</td>\n",
       "      <td>0.935</td>\n",
       "      <td>0.907</td>\n",
       "      <td>0.889</td>\n",
       "      <td>0.898</td>\n",
       "      <td>0.926</td>\n",
       "      <td>0.905</td>\n",
       "      <td>0.016</td>\n",
       "      <td>-0.030</td>\n",
       "    </tr>\n",
       "    <tr>\n",
       "      <th>4</th>\n",
       "      <td>DT_df_JI</td>\n",
       "      <td>864</td>\n",
       "      <td>604</td>\n",
       "      <td>27</td>\n",
       "      <td>2</td>\n",
       "      <td>1.000</td>\n",
       "      <td>0.662</td>\n",
       "      <td>0.642</td>\n",
       "      <td>0.642</td>\n",
       "      <td>0.623</td>\n",
       "      <td>0.642</td>\n",
       "      <td>0.638</td>\n",
       "      <td>0.010</td>\n",
       "      <td>-0.024</td>\n",
       "    </tr>\n",
       "    <tr>\n",
       "      <th>1</th>\n",
       "      <td>BF_df_OU</td>\n",
       "      <td>460</td>\n",
       "      <td>322</td>\n",
       "      <td>10</td>\n",
       "      <td>2</td>\n",
       "      <td>1.000</td>\n",
       "      <td>0.833</td>\n",
       "      <td>0.746</td>\n",
       "      <td>0.754</td>\n",
       "      <td>0.768</td>\n",
       "      <td>0.761</td>\n",
       "      <td>0.757</td>\n",
       "      <td>0.009</td>\n",
       "      <td>-0.076</td>\n",
       "    </tr>\n",
       "    <tr>\n",
       "      <th>5</th>\n",
       "      <td>IADQ_df</td>\n",
       "      <td>450</td>\n",
       "      <td>315</td>\n",
       "      <td>9</td>\n",
       "      <td>6</td>\n",
       "      <td>0.267</td>\n",
       "      <td>0.852</td>\n",
       "      <td>0.844</td>\n",
       "      <td>0.844</td>\n",
       "      <td>0.830</td>\n",
       "      <td>0.830</td>\n",
       "      <td>0.837</td>\n",
       "      <td>0.009</td>\n",
       "      <td>-0.015</td>\n",
       "    </tr>\n",
       "    <tr>\n",
       "      <th>13</th>\n",
       "      <td>RAW_DDDT</td>\n",
       "      <td>986</td>\n",
       "      <td>690</td>\n",
       "      <td>12</td>\n",
       "      <td>3</td>\n",
       "      <td>0.556</td>\n",
       "      <td>0.747</td>\n",
       "      <td>0.736</td>\n",
       "      <td>0.747</td>\n",
       "      <td>0.757</td>\n",
       "      <td>0.740</td>\n",
       "      <td>0.745</td>\n",
       "      <td>0.009</td>\n",
       "      <td>-0.002</td>\n",
       "    </tr>\n",
       "    <tr>\n",
       "      <th>12</th>\n",
       "      <td>PRMQ_df</td>\n",
       "      <td>1404</td>\n",
       "      <td>982</td>\n",
       "      <td>16</td>\n",
       "      <td>5</td>\n",
       "      <td>0.733</td>\n",
       "      <td>0.908</td>\n",
       "      <td>0.865</td>\n",
       "      <td>0.863</td>\n",
       "      <td>0.865</td>\n",
       "      <td>0.879</td>\n",
       "      <td>0.868</td>\n",
       "      <td>0.008</td>\n",
       "      <td>-0.040</td>\n",
       "    </tr>\n",
       "    <tr>\n",
       "      <th>7</th>\n",
       "      <td>NAQ_R_df</td>\n",
       "      <td>712</td>\n",
       "      <td>498</td>\n",
       "      <td>22</td>\n",
       "      <td>21</td>\n",
       "      <td>0.267</td>\n",
       "      <td>0.953</td>\n",
       "      <td>0.972</td>\n",
       "      <td>0.963</td>\n",
       "      <td>0.963</td>\n",
       "      <td>0.963</td>\n",
       "      <td>0.965</td>\n",
       "      <td>0.005</td>\n",
       "      <td>0.012</td>\n",
       "    </tr>\n",
       "    <tr>\n",
       "      <th>10</th>\n",
       "      <td>PID5_df</td>\n",
       "      <td>824</td>\n",
       "      <td>576</td>\n",
       "      <td>220</td>\n",
       "      <td>13</td>\n",
       "      <td>0.533</td>\n",
       "      <td>0.960</td>\n",
       "      <td>0.956</td>\n",
       "      <td>0.956</td>\n",
       "      <td>0.948</td>\n",
       "      <td>0.948</td>\n",
       "      <td>0.952</td>\n",
       "      <td>0.005</td>\n",
       "      <td>-0.008</td>\n",
       "    </tr>\n",
       "    <tr>\n",
       "      <th>9</th>\n",
       "      <td>PHQ9_GAD7_df</td>\n",
       "      <td>1118</td>\n",
       "      <td>782</td>\n",
       "      <td>16</td>\n",
       "      <td>7</td>\n",
       "      <td>0.400</td>\n",
       "      <td>0.991</td>\n",
       "      <td>0.982</td>\n",
       "      <td>0.982</td>\n",
       "      <td>0.973</td>\n",
       "      <td>0.982</td>\n",
       "      <td>0.980</td>\n",
       "      <td>0.004</td>\n",
       "      <td>-0.011</td>\n",
       "    </tr>\n",
       "    <tr>\n",
       "      <th>15</th>\n",
       "      <td>sPID-5_df</td>\n",
       "      <td>1038</td>\n",
       "      <td>726</td>\n",
       "      <td>25</td>\n",
       "      <td>10</td>\n",
       "      <td>0.467</td>\n",
       "      <td>0.962</td>\n",
       "      <td>0.968</td>\n",
       "      <td>0.971</td>\n",
       "      <td>0.965</td>\n",
       "      <td>0.971</td>\n",
       "      <td>0.969</td>\n",
       "      <td>0.003</td>\n",
       "      <td>0.007</td>\n",
       "    </tr>\n",
       "    <tr>\n",
       "      <th>14</th>\n",
       "      <td>R_NEO_PI</td>\n",
       "      <td>77687</td>\n",
       "      <td>54380</td>\n",
       "      <td>30</td>\n",
       "      <td>6</td>\n",
       "      <td>0.467</td>\n",
       "      <td>0.907</td>\n",
       "      <td>0.902</td>\n",
       "      <td>0.901</td>\n",
       "      <td>0.906</td>\n",
       "      <td>0.905</td>\n",
       "      <td>0.904</td>\n",
       "      <td>0.002</td>\n",
       "      <td>-0.003</td>\n",
       "    </tr>\n",
       "    <tr>\n",
       "      <th>2</th>\n",
       "      <td>BF_df_V</td>\n",
       "      <td>486</td>\n",
       "      <td>340</td>\n",
       "      <td>10</td>\n",
       "      <td>3</td>\n",
       "      <td>0.556</td>\n",
       "      <td>0.760</td>\n",
       "      <td>0.760</td>\n",
       "      <td>0.760</td>\n",
       "      <td>0.760</td>\n",
       "      <td>0.760</td>\n",
       "      <td>0.760</td>\n",
       "      <td>0.000</td>\n",
       "      <td>0.000</td>\n",
       "    </tr>\n",
       "    <tr>\n",
       "      <th>3</th>\n",
       "      <td>DT_df_CC</td>\n",
       "      <td>482</td>\n",
       "      <td>337</td>\n",
       "      <td>27</td>\n",
       "      <td>2</td>\n",
       "      <td>0.667</td>\n",
       "      <td>0.683</td>\n",
       "      <td>0.690</td>\n",
       "      <td>0.690</td>\n",
       "      <td>0.690</td>\n",
       "      <td>0.690</td>\n",
       "      <td>0.690</td>\n",
       "      <td>0.000</td>\n",
       "      <td>0.007</td>\n",
       "    </tr>\n",
       "  </tbody>\n",
       "</table>\n",
       "</div>"
      ],
      "text/plain": [
       "    Dataset name  Sample size  Training size  Number of Features  \\\n",
       "8        PCL5_df          402            281                  20   \n",
       "11       PRFQ_df          678            474                  18   \n",
       "0      BF_df_CTU          442            309                  10   \n",
       "6        IESR_df          358            250                  22   \n",
       "4       DT_df_JI          864            604                  27   \n",
       "1       BF_df_OU          460            322                  10   \n",
       "5        IADQ_df          450            315                   9   \n",
       "13      RAW_DDDT          986            690                  12   \n",
       "12       PRMQ_df         1404            982                  16   \n",
       "7       NAQ_R_df          712            498                  22   \n",
       "10       PID5_df          824            576                 220   \n",
       "9   PHQ9_GAD7_df         1118            782                  16   \n",
       "15     sPID-5_df         1038            726                  25   \n",
       "14      R_NEO_PI        77687          54380                  30   \n",
       "2        BF_df_V          486            340                  10   \n",
       "3       DT_df_CC          482            337                  27   \n",
       "\n",
       "    Selected Features  Feat. Top5-Stability  Accuracy - Logit all features  \\\n",
       "8                   5                 0.600                          0.810   \n",
       "11                  4                 0.583                          0.936   \n",
       "0                   3                 0.778                          0.774   \n",
       "6                  11                 0.400                          0.935   \n",
       "4                   2                 1.000                          0.662   \n",
       "1                   2                 1.000                          0.833   \n",
       "5                   6                 0.267                          0.852   \n",
       "13                  3                 0.556                          0.747   \n",
       "12                  5                 0.733                          0.908   \n",
       "7                  21                 0.267                          0.953   \n",
       "10                 13                 0.533                          0.960   \n",
       "9                   7                 0.400                          0.991   \n",
       "15                 10                 0.467                          0.962   \n",
       "14                  6                 0.467                          0.907   \n",
       "2                   3                 0.556                          0.760   \n",
       "3                   2                 0.667                          0.683   \n",
       "\n",
       "    Accuracy - Logit  Accuracy - SVM  Accuracy - RF  Accuracy - MLP  \\\n",
       "8              0.769           0.777          0.760           0.835   \n",
       "11             0.877           0.877          0.873           0.912   \n",
       "0              0.820           0.820          0.805           0.842   \n",
       "6              0.907           0.889          0.898           0.926   \n",
       "4              0.642           0.642          0.623           0.642   \n",
       "1              0.746           0.754          0.768           0.761   \n",
       "5              0.844           0.844          0.830           0.830   \n",
       "13             0.736           0.747          0.757           0.740   \n",
       "12             0.865           0.863          0.865           0.879   \n",
       "7              0.972           0.963          0.963           0.963   \n",
       "10             0.956           0.956          0.948           0.948   \n",
       "9              0.982           0.982          0.973           0.982   \n",
       "15             0.968           0.971          0.965           0.971   \n",
       "14             0.902           0.901          0.906           0.905   \n",
       "2              0.760           0.760          0.760           0.760   \n",
       "3              0.690           0.690          0.690           0.690   \n",
       "\n",
       "    Avg Acc. on selected features  Accuracy Std on selected features  \\\n",
       "8                           0.785                              0.034   \n",
       "11                          0.885                              0.018   \n",
       "0                           0.821                              0.016   \n",
       "6                           0.905                              0.016   \n",
       "4                           0.638                              0.010   \n",
       "1                           0.757                              0.009   \n",
       "5                           0.837                              0.009   \n",
       "13                          0.745                              0.009   \n",
       "12                          0.868                              0.008   \n",
       "7                           0.965                              0.005   \n",
       "10                          0.952                              0.005   \n",
       "9                           0.980                              0.004   \n",
       "15                          0.969                              0.003   \n",
       "14                          0.904                              0.002   \n",
       "2                           0.760                              0.000   \n",
       "3                           0.690                              0.000   \n",
       "\n",
       "    Acc. diff. wrt Full logit  \n",
       "8                      -0.025  \n",
       "11                     -0.051  \n",
       "0                       0.047  \n",
       "6                      -0.030  \n",
       "4                      -0.024  \n",
       "1                      -0.076  \n",
       "5                      -0.015  \n",
       "13                     -0.002  \n",
       "12                     -0.040  \n",
       "7                       0.012  \n",
       "10                     -0.008  \n",
       "9                      -0.011  \n",
       "15                      0.007  \n",
       "14                     -0.003  \n",
       "2                       0.000  \n",
       "3                       0.007  "
      ]
     },
     "execution_count": 3,
     "metadata": {},
     "output_type": "execute_result"
    }
   ],
   "source": [
    "mis_summary = evaluation.summary_table(mis_datasets, stability = True, neural_net = True)\n",
    "mis_summary.sort_values(\"Accuracy Std on selected features\", ascending = False)"
   ]
  },
  {
   "cell_type": "code",
   "execution_count": 4,
   "id": "3f6fccdc",
   "metadata": {
    "ExecuteTime": {
     "end_time": "2022-12-14T18:51:14.735045Z",
     "start_time": "2022-12-14T18:51:13.786869Z"
    }
   },
   "outputs": [
    {
     "data": {
      "image/png": "[encoded data removed]",
      "text/plain": [
       "<Figure size 1296x504 with 1 Axes>"
      ]
     },
     "metadata": {
      "needs_background": "light"
     },
     "output_type": "display_data"
    }
   ],
   "source": [
    "summary_graphs.accuracy_barplot(mis_summary, save = False, prefix = \"MIS\")"
   ]
  },
  {
   "cell_type": "code",
   "execution_count": 5,
   "id": "f3dc6519",
   "metadata": {
    "ExecuteTime": {
     "end_time": "2022-12-14T18:51:17.808465Z",
     "start_time": "2022-12-14T18:51:17.024793Z"
    }
   },
   "outputs": [
    {
     "data": {
      "image/png": "[encoded data removed]",
      "text/plain": [
       "<Figure size 1296x432 with 1 Axes>"
      ]
     },
     "metadata": {
      "needs_background": "light"
     },
     "output_type": "display_data"
    }
   ],
   "source": [
    "summary_graphs.accuracy_std(mis_summary, save = False, prefix = \"MIS\")"
   ]
  },
  {
   "cell_type": "code",
   "execution_count": 6,
   "id": "41ef01d8",
   "metadata": {
    "ExecuteTime": {
     "end_time": "2022-12-14T18:51:21.217906Z",
     "start_time": "2022-12-14T18:51:19.697049Z"
    }
   },
   "outputs": [
    {
     "data": {
      "image/png": "[encoded data removed]",
      "text/plain": [
       "<Figure size 1296x720 with 2 Axes>"
      ]
     },
     "metadata": {
      "needs_background": "light"
     },
     "output_type": "display_data"
    }
   ],
   "source": [
    "summary_graphs.faking_type_comparison(mis_summary, prefix = \"MIS\", save = False)"
   ]
  },
  {
   "cell_type": "markdown",
   "id": "c23eb6df",
   "metadata": {},
   "source": [
    "### COMPARISON BETWEEN APPROACHES"
   ]
  },
  {
   "cell_type": "code",
   "execution_count": 94,
   "id": "ad989988",
   "metadata": {
    "ExecuteTime": {
     "end_time": "2022-12-14T21:08:39.947823Z",
     "start_time": "2022-12-14T21:08:39.452196Z"
    }
   },
   "outputs": [],
   "source": [
    "summ1 = pca_summary.copy()\n",
    "summ1.columns = [f\"{c}_pca\" if c != \"Dataset name\" else c for c in pca_summary.columns]\n",
    "summ2 = pimp_summary.copy()\n",
    "summ2.columns = [f\"{c}_permimp\" if c != \"Dataset name\" else c for c in pimp_summary.columns]\n",
    "summ3 = mis_summary.copy()\n",
    "summ3.columns = [f\"{c}_mutinfo\" if c != \"Dataset name\" else c for c in mis_summary.columns]"
   ]
  },
  {
   "cell_type": "code",
   "execution_count": 99,
   "id": "2674aa6f",
   "metadata": {
    "ExecuteTime": {
     "end_time": "2022-12-14T21:11:50.440421Z",
     "start_time": "2022-12-14T21:11:48.747966Z"
    }
   },
   "outputs": [
    {
     "data": {
      "image/png": "[encoded data removed]",
      "text/plain": [
       "<Figure size 1008x648 with 4 Axes>"
      ]
     },
     "metadata": {
      "needs_background": "light"
     },
     "output_type": "display_data"
    }
   ],
   "source": [
    "summary_merge = summ1.merge(summ2, on = \"Dataset name\",\n",
    "                            how = \"inner\").merge(summ3, on = \"Dataset name\",\n",
    "                                                 how = \"inner\")\n",
    "\n",
    "xax_labels = summary_merge[\"Dataset name\"].str.replace(\"_\", \" \")\\\n",
    "             .str.replace(\"df\", \"\").str.replace(\"  \", \" \")\n",
    "\n",
    "fig, ax = plt.subplots(2, 2, figsize = (14, 9))\n",
    "summary_merge.rename(columns = {\"Avg Acc. on selected features_pca\": \"PCA\",\n",
    "                                \"Avg Acc. on selected features_mutinfo\": \"Mutual info.\",\n",
    "                                \"Avg Acc. on selected features_permimp\": \"Perm. Import.\"})\\\n",
    "             .plot(x = \"Dataset name\", y = [\"Mutual info.\", \"Perm. Import.\", \"PCA\"],\n",
    "                   kind = \"bar\", rot = 0, ax = ax[0, 0],\n",
    "                   title = \"Avg Acc. on selected features\")\n",
    "\n",
    "summary_merge.rename(columns = {\"Acc. diff. wrt Full logit_pca\": \"PCA\",\n",
    "                                \"Acc. diff. wrt Full logit_mutinfo\": \"Mutual info.\",\n",
    "                                \"Acc. diff. wrt Full logit_permimp\": \"Perm. Import.\"})\\\n",
    "             .plot(x = \"Dataset name\", y = [\"Mutual info.\", \"Perm. Import.\", \"PCA\"],\n",
    "                   kind = \"bar\", rot = 0, ax = ax[0, 1],\n",
    "                   title = \"Acc. diff. wrt Full logit\")\n",
    "\n",
    "summary_merge.rename(columns = {\"Accuracy Std on selected features_pca\": \"PCA\",\n",
    "                                \"Accuracy Std on selected features_mutinfo\": \"Mutual info.\",\n",
    "                                \"Accuracy Std on selected features_permimp\": \"Perm. Import.\"})\\\n",
    "             .plot(x = \"Dataset name\", y = [\"Mutual info.\", \"Perm. Import.\", \"PCA\"],\n",
    "                   kind = \"bar\", rot = 0, ax = ax[1, 0],\n",
    "                   title = \"Accuracy Std on selected features\")\n",
    "\n",
    "summary_merge.rename(columns = {\"Feat. Top5-Stability_pca\": \"PCA\",\n",
    "                                \"Feat. Top5-Stability_mutinfo\": \"Mutual info.\",\n",
    "                                \"Feat. Top5-Stability_permimp\": \"Perm. Import.\"})\\\n",
    "             .plot(x = \"Dataset name\", y = [\"Mutual info.\", \"Perm. Import.\", \"PCA\"],\n",
    "                   kind = \"bar\", rot = 0, ax = ax[1, 1],\n",
    "                   title = \"Feat. Top5-Stability\")\n",
    "\n",
    "ax[0, 0].set_xticklabels(xax_labels, rotation = 42)\n",
    "ax[0, 1].set_xticklabels(xax_labels, rotation = 42)\n",
    "ax[1, 0].set_xticklabels(xax_labels, rotation = 42)\n",
    "ax[1, 1].set_xticklabels(xax_labels, rotation = 42)\n",
    "\n",
    "ax[0, 0].set(xlabel = None)\n",
    "ax[0, 1].set(xlabel = None)\n",
    "ax[1, 0].set(xlabel = None)\n",
    "ax[1, 1].set(xlabel = None)\n",
    "\n",
    "plt.tight_layout()\n",
    "plt.show()"
   ]
  },
  {
   "cell_type": "markdown",
   "id": "963d8e8a",
   "metadata": {},
   "source": [
    "---\n",
    "---\n",
    "---"
   ]
  }
 ],
 "metadata": {
  "kernelspec": {
   "display_name": "Python 3 (ipykernel)",
   "language": "python",
   "name": "python3"
  },
  "language_info": {
   "codemirror_mode": {
    "name": "ipython",
    "version": 3
   },
   "file_extension": ".py",
   "mimetype": "text/x-python",
   "name": "python",
   "nbconvert_exporter": "python",
   "pygments_lexer": "ipython3",
   "version": "3.9.12"
  }
 },
 "nbformat": 4,
 "nbformat_minor": 5
}
