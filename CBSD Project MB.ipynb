{
 "cells": [
  {
   "cell_type": "code",
   "execution_count": 1,
   "id": "3f6cda3e",
   "metadata": {
    "ExecuteTime": {
     "end_time": "2022-10-28T14:39:14.031840Z",
     "start_time": "2022-10-28T14:39:11.674275Z"
    }
   },
   "outputs": [],
   "source": [
    "import os\n",
    "import sys\n",
    "import numpy as np\n",
    "import pandas as pd\n",
    "import seaborn as sns\n",
    "import matplotlib.pyplot as plt\n",
    "\n",
    "%load_ext autoreload\n",
    "%autoreload 2\n",
    "\n",
    "data_dir = \"\\\\\".join(os.getcwd().split(\"\\\\\")[:-1]) + \"\\\\Dataset\""
   ]
  },
  {
   "cell_type": "code",
   "execution_count": 42,
   "id": "85b29e73",
   "metadata": {
    "ExecuteTime": {
     "end_time": "2022-10-28T14:48:32.493644Z",
     "start_time": "2022-10-28T14:48:32.136382Z"
    }
   },
   "outputs": [],
   "source": [
    "data_import = pd.read_excel(data_dir + \"\\\\PCL5_df.xlsx\")\n",
    "\n",
    "if data_import.shape[1] == 1:\n",
    "    df = pd.DataFrame([list(data_import.applymap(lambda s: s.split(\";\")).values)[i][0]\n",
    "                       for i in range(len(data_import))])\n",
    "    df.columns = data_import.columns[0].split(\";\")\n",
    "    \n",
    "    for c in df.columns:\n",
    "        if \"PCL\" in c:\n",
    "            df[c] = df[c].astype(int)\n",
    "    \n",
    "else:\n",
    "    df = data_import.copy()"
   ]
  },
  {
   "cell_type": "code",
   "execution_count": 115,
   "id": "1876c3d7",
   "metadata": {
    "ExecuteTime": {
     "end_time": "2022-10-28T15:20:07.720045Z",
     "start_time": "2022-10-28T15:20:07.597835Z"
    }
   },
   "outputs": [],
   "source": [
    "from sklearn.metrics import accuracy_score\n",
    "from sklearn.tree import DecisionTreeClassifier\n",
    "from sklearn.metrics import classification_report\n",
    "from sklearn.model_selection import train_test_split\n",
    "from sklearn.linear_model import LogisticRegressionCV"
   ]
  },
  {
   "cell_type": "code",
   "execution_count": 54,
   "id": "bd6c9002",
   "metadata": {
    "ExecuteTime": {
     "end_time": "2022-10-28T14:57:37.200316Z",
     "start_time": "2022-10-28T14:57:37.078811Z"
    }
   },
   "outputs": [],
   "source": [
    "X = df.drop(\"CONDITION\", axis = 1)\n",
    "y = df[\"CONDITION\"]\n",
    "\n",
    "X_train, X_test, y_train, y_test = train_test_split(X, y, train_size = .7,\n",
    "                                                    random_state = 42, shuffle = True)"
   ]
  },
  {
   "cell_type": "markdown",
   "id": "0be1c96c",
   "metadata": {},
   "source": [
    "### Logistic regression with LASSO"
   ]
  },
  {
   "cell_type": "code",
   "execution_count": 113,
   "id": "05592197",
   "metadata": {
    "ExecuteTime": {
     "end_time": "2022-10-28T15:16:35.431215Z",
     "start_time": "2022-10-28T15:16:35.041223Z"
    }
   },
   "outputs": [
    {
     "name": "stdout",
     "output_type": "stream",
     "text": [
      "              precision    recall  f1-score   support\n",
      "\n",
      "           D       0.75      0.81      0.78        58\n",
      "           H       0.81      0.75      0.78        63\n",
      "\n",
      "    accuracy                           0.78       121\n",
      "   macro avg       0.78      0.78      0.78       121\n",
      "weighted avg       0.78      0.78      0.78       121\n",
      "\n"
     ]
    }
   ],
   "source": [
    "lr = LogisticRegressionCV(Cs = 50, penalty = \"l1\", random_state = 42,\n",
    "                          n_jobs = -1, solver = \"saga\", max_iter = 1e3)\n",
    "\n",
    "lr.fit(X_train, y_train)\n",
    "\n",
    "print(classification_report(y_test, lr.predict(X_test)))"
   ]
  },
  {
   "cell_type": "code",
   "execution_count": 114,
   "id": "75432002",
   "metadata": {
    "ExecuteTime": {
     "end_time": "2022-10-28T15:16:37.368703Z",
     "start_time": "2022-10-28T15:16:37.146299Z"
    }
   },
   "outputs": [
    {
     "name": "stdout",
     "output_type": "stream",
     "text": [
      "PCL2    -0.033739\n",
      "PCL5    -0.341259\n",
      "PCL14   -0.025878\n",
      "Name: 0, dtype: float64\n"
     ]
    },
    {
     "data": {
      "image/png": "[encoded data removed]",
      "text/plain": [
       "<Figure size 432x288 with 1 Axes>"
      ]
     },
     "metadata": {
      "needs_background": "light"
     },
     "output_type": "display_data"
    }
   ],
   "source": [
    "important_features = pd.DataFrame(dict(zip(list(X.columns), lr.coef_[0])),\n",
    "                                  index = range(len(X.columns))).loc[0]\n",
    "\n",
    "print(important_features[important_features !=  0])\n",
    "\n",
    "plt.plot(lr.Cs_, lr.scores_[\"H\"].mean(axis = 0))\n",
    "plt.xlim(-5, 25)\n",
    "plt.show()"
   ]
  },
  {
   "cell_type": "markdown",
   "id": "5bb24f90",
   "metadata": {},
   "source": [
    "## Decision Tree"
   ]
  },
  {
   "cell_type": "code",
   "execution_count": 119,
   "id": "7f6f3e4a",
   "metadata": {
    "ExecuteTime": {
     "end_time": "2022-10-28T15:22:50.951720Z",
     "start_time": "2022-10-28T15:22:50.823490Z"
    }
   },
   "outputs": [
    {
     "data": {
      "text/plain": [
       "DecisionTreeClassifier(criterion='entropy', random_state=42)"
      ]
     },
     "execution_count": 119,
     "metadata": {},
     "output_type": "execute_result"
    }
   ],
   "source": [
    "tree = DecisionTreeClassifier(random_state = 42, criterion = \"entropy\")\n",
    "tree.fit(X_train, y_train)"
   ]
  },
  {
   "cell_type": "code",
   "execution_count": 132,
   "id": "35827d4f",
   "metadata": {
    "ExecuteTime": {
     "end_time": "2022-10-28T15:26:05.915397Z",
     "start_time": "2022-10-28T15:26:05.642128Z"
    }
   },
   "outputs": [
    {
     "name": "stdout",
     "output_type": "stream",
     "text": [
      "   Feature Importance\n",
      "1     PCL2     0.3449\n",
      "11   PCL12   0.121468\n",
      "4     PCL5   0.061624\n",
      "5     PCL6   0.050745\n",
      "13   PCL14   0.047614\n"
     ]
    },
    {
     "data": {
      "image/png": "[encoded data removed]",
      "text/plain": [
       "<Figure size 1008x288 with 1 Axes>"
      ]
     },
     "metadata": {
      "needs_background": "light"
     },
     "output_type": "display_data"
    }
   ],
   "source": [
    "print(pd.DataFrame(np.c_[X.columns, tree.feature_importances_],\n",
    "                   columns = [\"Feature\", \"Importance\"]).sort_values(\"Importance\", ascending = False).head())\n",
    "\n",
    "plt.figure(figsize = (14, 4))\n",
    "plt.bar(x = X.columns, height = tree.feature_importances_)\n",
    "plt.show()"
   ]
  },
  {
   "cell_type": "code",
   "execution_count": null,
   "id": "38a4a0ce",
   "metadata": {},
   "outputs": [],
   "source": []
  },
  {
   "cell_type": "code",
   "execution_count": null,
   "id": "4e182816",
   "metadata": {},
   "outputs": [],
   "source": []
  },
  {
   "cell_type": "code",
   "execution_count": null,
   "id": "bdc54bb3",
   "metadata": {},
   "outputs": [],
   "source": []
  }
 ],
 "metadata": {
  "kernelspec": {
   "display_name": "Python 3 (ipykernel)",
   "language": "python",
   "name": "python3"
  },
  "language_info": {
   "codemirror_mode": {
    "name": "ipython",
    "version": 3
   },
   "file_extension": ".py",
   "mimetype": "text/x-python",
   "name": "python",
   "nbconvert_exporter": "python",
   "pygments_lexer": "ipython3",
   "version": "3.9.12"
  }
 },
 "nbformat": 4,
 "nbformat_minor": 5
}
