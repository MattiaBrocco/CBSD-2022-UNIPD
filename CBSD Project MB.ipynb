{
 "cells": [
  {
   "cell_type": "markdown",
   "id": "c65e68df",
   "metadata": {},
   "source": [
    "# Cognitive, behavioral and social data\n",
    "**DATASET**: PCL5  \n",
    "**Author**: Mattia Brocco"
   ]
  },
  {
   "cell_type": "markdown",
   "id": "46adef96",
   "metadata": {},
   "source": [
    "MERGE OF DATASETS FOR **R_NEO_PI**\n",
    "```python\n",
    "a = pd.read_excel(data_dir + \"\\\\R_NEO_PI_Faked.xlsx\")\n",
    "b = pd.read_excel(data_dir + \"\\\\R_NEO_PI_Honest.xlsx\")\n",
    "\n",
    "a.columns = [\" \".join([pd.Series(a.columns).apply(lambda s: np.nan if \"Unnamed\"\n",
    "                                                  in s else s).fillna(method = \"ffill\").tolist()[i],\n",
    "                       a.loc[0][i]]) for i in range(len(a.columns))]\n",
    "b.columns = [\" \".join([pd.Series(b.columns).apply(lambda s: np.nan if \"Unnamed\"\n",
    "                                                  in s else s).fillna(method = \"ffill\").tolist()[i],\n",
    "                       b.loc[0][i]]) for i in range(len(b.columns))]\n",
    "\n",
    "a = a.drop(0).reset_index(drop = True)\n",
    "b = b.drop(0).reset_index(drop = True)\n",
    "\n",
    "a[\"CONDITION\"] = \"FAKE\"\n",
    "b[\"CONDITION\"] = \"HONEST\"\n",
    "\n",
    "pd.concat([a, b], ignore_index = True).to_excel(data_dir + \"\\\\R_NEO_PI.xlsx\", index = False)\n",
    "```"
   ]
  },
  {
   "cell_type": "code",
   "execution_count": 1,
   "id": "3f6cda3e",
   "metadata": {
    "ExecuteTime": {
     "end_time": "2022-11-03T14:31:34.523745Z",
     "start_time": "2022-11-03T14:31:23.807638Z"
    }
   },
   "outputs": [],
   "source": [
    "import os\n",
    "import sys\n",
    "import numpy as np\n",
    "import pandas as pd\n",
    "import seaborn as sns\n",
    "import matplotlib.pyplot as plt\n",
    "\n",
    "\n",
    "import engine\n",
    "import support\n",
    "\n",
    "%load_ext autoreload\n",
    "%autoreload 2\n",
    "\n",
    "data_dir = \".\\\\data\"\n",
    "\n",
    "pd.options.display.max_columns = 500"
   ]
  },
  {
   "cell_type": "markdown",
   "id": "29b91d4e",
   "metadata": {},
   "source": [
    "---\n",
    "## Try to design a pipeline\n",
    "***\n",
    "\n",
    "SOURCES  \n",
    "* [Factor Analysis](https://www.statisticssolutions.com/free-resources/directory-of-statistical-analyses/factor-analysis/)\n",
    "* [Likelihood-ratio test](https://en.wikipedia.org/wiki/Likelihood-ratio_test)\n",
    "* [How can I get statistics to compare nested models in a logistic regression in SPSS?](https://www.ibm.com/support/pages/how-can-i-get-statistics-compare-nested-models-logistic-regression-spss)"
   ]
  },
  {
   "cell_type": "code",
   "execution_count": 2,
   "id": "23cb893e",
   "metadata": {
    "ExecuteTime": {
     "end_time": "2022-11-03T14:47:36.036537Z",
     "start_time": "2022-11-03T14:31:34.526562Z"
    },
    "scrolled": true
   },
   "outputs": [
    {
     "name": "stdout",
     "output_type": "stream",
     "text": [
      "BF_df_CTU\n",
      "5/5 [==============================] - 0s 1ms/step\n",
      "{'Features': [6, 4], 'Validation passed': False}\n",
      "Logistic Regression    0.781955\n",
      "SVC                    0.827068\n",
      "Random Forest          0.827068\n",
      "Neural Network         0.781955\n",
      "dtype: float64\n",
      "--------------------------------------------------\n",
      "\n",
      "BF_df_OU\n",
      "5/5 [==============================] - 0s 2ms/step\n",
      "{'Features': [6, 4], 'Validation passed': False}\n",
      "Logistic Regression    0.782609\n",
      "SVC                    0.804348\n",
      "Random Forest          0.804348\n",
      "Neural Network         0.760870\n",
      "dtype: float64\n",
      "--------------------------------------------------\n",
      "\n",
      "BF_df_V\n",
      "5/5 [==============================] - 0s 1ms/step\n",
      "{'Features': [4, 7], 'Validation passed': False}\n",
      "Logistic Regression    0.719178\n",
      "SVC                    0.719178\n",
      "Random Forest          0.726027\n",
      "Neural Network         0.691781\n",
      "dtype: float64\n",
      "--------------------------------------------------\n",
      "\n",
      "DT_df_CC\n",
      "5/5 [==============================] - 0s 1ms/step\n",
      "{'Features': [9, 8], 'Validation passed': False}\n",
      "Logistic Regression    0.675862\n",
      "SVC                    0.696552\n",
      "Random Forest          0.675862\n",
      "Neural Network         0.600000\n",
      "dtype: float64\n",
      "--------------------------------------------------\n",
      "\n",
      "DT_df_JI\n",
      "9/9 [==============================] - 0s 1ms/step\n",
      "{'Features': [0, 3, 9, 10, 16, 17, 18, 21, 22, 23, 24, 25], 'Validation passed': False}\n",
      "Logistic Regression    0.592308\n",
      "SVC                    0.588462\n",
      "Random Forest          0.530769\n",
      "Neural Network         0.584615\n",
      "dtype: float64\n",
      "--------------------------------------------------\n",
      "\n",
      "IADQ_df\n",
      "5/5 [==============================] - 0s 3ms/step\n",
      "{'Features': [4], 'Validation passed': False}\n",
      "Logistic Regression    0.822222\n",
      "SVC                    0.822222\n",
      "Random Forest          0.822222\n",
      "Neural Network         0.466667\n",
      "dtype: float64\n",
      "--------------------------------------------------\n",
      "\n",
      "IESR_df\n",
      "4/4 [==============================] - 0s 1ms/step\n",
      "{'Features': [8], 'Validation passed': True}\n",
      "Logistic Regression    0.898148\n",
      "SVC                    0.898148\n",
      "Random Forest          0.898148\n",
      "Neural Network         0.898148\n",
      "dtype: float64\n",
      "--------------------------------------------------\n",
      "\n",
      "NAQ_R_df\n",
      "7/7 [==============================] - 0s 1ms/step\n",
      "{'Features': [16], 'Validation passed': True}\n",
      "Logistic Regression    0.915888\n",
      "SVC                    0.934579\n",
      "Random Forest          0.934579\n",
      "Neural Network         0.915888\n",
      "dtype: float64\n",
      "--------------------------------------------------\n",
      "\n",
      "PCL5_df\n",
      "4/4 [==============================] - 0s 2ms/step\n",
      "{'Features': [0, 1, 2, 3, 4, 6, 7, 10, 11, 13, 14, 17], 'Validation passed': False}\n",
      "Logistic Regression    0.826446\n",
      "SVC                    0.851240\n",
      "Random Forest          0.859504\n",
      "Neural Network         0.834711\n",
      "dtype: float64\n",
      "--------------------------------------------------\n",
      "\n",
      "PHQ9_GAD7_df\n",
      "11/11 [==============================] - 0s 894us/step\n",
      "{'Features': [7, 1, 6], 'Validation passed': True}\n",
      "Logistic Regression    0.982143\n",
      "SVC                    0.982143\n",
      "Random Forest          0.967262\n",
      "Neural Network         0.973214\n",
      "dtype: float64\n",
      "--------------------------------------------------\n",
      "\n",
      "PID5_df\n",
      "8/8 [==============================] - 0s 859us/step\n",
      "{'Features': [1, 3, 10, 16, 18, 21, 23, 24, 35, 36, 40, 41, 43, 51, 70, 71, 81, 99, 125, 128, 132, 133, 135, 138, 148, 151, 152, 153, 165, 168, 171, 177, 182, 184, 189, 191, 194, 204, 205, 206, 208, 216, 218], 'Validation passed': False}\n",
      "Logistic Regression    0.963710\n",
      "SVC                    0.971774\n",
      "Random Forest          0.963710\n",
      "Neural Network         0.955645\n",
      "dtype: float64\n",
      "--------------------------------------------------\n",
      "\n",
      "PRFQ_df\n",
      "7/7 [==============================] - 0s 1ms/step\n",
      "{'Features': [8], 'Validation passed': False}\n",
      "Logistic Regression    0.862745\n",
      "SVC                    0.862745\n",
      "Random Forest          0.862745\n",
      "Neural Network         0.862745\n",
      "dtype: float64\n",
      "--------------------------------------------------\n",
      "\n",
      "PRMQ_df\n",
      "14/14 [==============================] - 0s 842us/step\n",
      "{'Features': [1, 7, 12, 14, 5, 2, 3, 10, 4, 9], 'Validation passed': False}\n",
      "Logistic Regression    0.907583\n",
      "SVC                    0.919431\n",
      "Random Forest          0.919431\n",
      "Neural Network         0.907583\n",
      "dtype: float64\n",
      "--------------------------------------------------\n",
      "\n",
      "RAW_DDDT\n",
      "10/10 [==============================] - 0s 999us/step\n",
      "{'Features': [0], 'Validation passed': False}\n",
      "Logistic Regression    0.611486\n",
      "SVC                    0.652027\n",
      "Random Forest          0.652027\n",
      "Neural Network         0.611486\n",
      "dtype: float64\n",
      "--------------------------------------------------\n",
      "\n",
      "R_NEO_PI\n",
      "729/729 [==============================] - 1s 1ms/step\n",
      "{'Features': [21, 29, 13, 5, 22, 10, 15, 11, 14, 1, 8, 16, 6, 7, 9], 'Validation passed': False}\n",
      "Logistic Regression    0.905694\n",
      "SVC                    0.914232\n",
      "Random Forest          0.914318\n",
      "Neural Network         0.909469\n",
      "dtype: float64\n",
      "--------------------------------------------------\n",
      "\n",
      "sPID-5_df\n",
      "10/10 [==============================] - 0s 844us/step\n",
      "{'Features': [23], 'Validation passed': True}\n",
      "Logistic Regression    0.926282\n",
      "SVC                    0.926282\n",
      "Random Forest          0.926282\n",
      "Neural Network         0.926282\n",
      "dtype: float64\n",
      "--------------------------------------------------\n",
      "\n"
     ]
    }
   ],
   "source": [
    "### PIPELINE\n",
    "# Organize datasets\n",
    "data_collection = {}\n",
    "for dataset in [f for f in os.listdir(data_dir) if \"feather\" in f]:#os.listdir(data_dir):\n",
    "    print(dataset.split(\".\")[0])\n",
    "    a, b, c, d = engine.Classification().prepare_data(f\"{data_dir}\\\\{dataset}\", \"CONDITION\")\n",
    "    e = engine.Classification().variable_selection(a, b, c, d)\n",
    "    f = engine.Classification().benchmark_models(a, b, c, d, e)\n",
    "    data_collection[dataset.split(\".\")[0]] = [a, b, c, d, e, f]\n",
    "    print(e)\n",
    "    print(f)\n",
    "    print(\"-\" * 50)\n",
    "    print()"
   ]
  },
  {
   "cell_type": "code",
   "execution_count": null,
   "id": "e7feef7d",
   "metadata": {},
   "outputs": [],
   "source": []
  },
  {
   "cell_type": "code",
   "execution_count": null,
   "id": "96082612",
   "metadata": {},
   "outputs": [],
   "source": []
  },
  {
   "cell_type": "code",
   "execution_count": null,
   "id": "a18d5845",
   "metadata": {},
   "outputs": [],
   "source": []
  },
  {
   "cell_type": "code",
   "execution_count": null,
   "id": "054cf851",
   "metadata": {},
   "outputs": [],
   "source": []
  },
  {
   "cell_type": "code",
   "execution_count": null,
   "id": "092e963b",
   "metadata": {},
   "outputs": [],
   "source": []
  },
  {
   "cell_type": "code",
   "execution_count": null,
   "id": "a07bd5a7",
   "metadata": {},
   "outputs": [],
   "source": []
  },
  {
   "cell_type": "code",
   "execution_count": null,
   "id": "5c076f77",
   "metadata": {},
   "outputs": [],
   "source": []
  },
  {
   "cell_type": "code",
   "execution_count": null,
   "id": "5a2f0ff8",
   "metadata": {},
   "outputs": [],
   "source": []
  },
  {
   "cell_type": "code",
   "execution_count": null,
   "id": "721f5b3d",
   "metadata": {},
   "outputs": [],
   "source": []
  },
  {
   "cell_type": "code",
   "execution_count": null,
   "id": "864bd207",
   "metadata": {},
   "outputs": [],
   "source": []
  },
  {
   "cell_type": "code",
   "execution_count": null,
   "id": "82f2cbff",
   "metadata": {},
   "outputs": [],
   "source": [
    "# PROBLEMS IN\n",
    "# - IESR_df.csv\n",
    "# - DT_df_JI.csv"
   ]
  },
  {
   "cell_type": "code",
   "execution_count": null,
   "id": "7605e351",
   "metadata": {
    "ExecuteTime": {
     "end_time": "2022-11-03T14:12:45.684920Z",
     "start_time": "2022-11-03T14:12:45.237112Z"
    }
   },
   "outputs": [],
   "source": [
    "X_train, X_test, y_train, y_test = engine.Classification().prepare_data(f\"{data_dir}\\\\BF_df_CTU.feather\", \"CONDITION\")"
   ]
  },
  {
   "cell_type": "code",
   "execution_count": null,
   "id": "90c40f17",
   "metadata": {
    "ExecuteTime": {
     "start_time": "2022-11-03T12:44:00.414Z"
    }
   },
   "outputs": [],
   "source": [
    "perm_imp"
   ]
  },
  {
   "cell_type": "code",
   "execution_count": null,
   "id": "a69232f6",
   "metadata": {
    "ExecuteTime": {
     "end_time": "2022-11-03T10:45:23.018407Z",
     "start_time": "2022-11-03T10:45:05.351371Z"
    }
   },
   "outputs": [],
   "source": [
    "perm_imp = permutation_importance(rf, X_test, y_test, n_repeats = 30,\n",
    "                                  random_state = 42, scoring = \"accuracy\")"
   ]
  },
  {
   "cell_type": "code",
   "execution_count": null,
   "id": "ee3cc0b0",
   "metadata": {
    "ExecuteTime": {
     "end_time": "2022-11-03T10:51:19.670868Z",
     "start_time": "2022-11-03T10:51:19.364643Z"
    }
   },
   "outputs": [],
   "source": [
    "selected_features = []        \n",
    "for i in perm_imp.importances_mean.argsort()[::-1]:\n",
    "    if perm_imp.importances_mean[i] - 2 * perm_imp.importances_std[i] > 0:\n",
    "\n",
    "        selected_features += [i]\n",
    "\n",
    "if len(selected_features) == 0:\n",
    "    selected_features = np.where(np.abs(perm_imp[\"importances_mean\"]) > 1e-2)[0]\n",
    "    if len(selected_features) == 1:\n",
    "        selected_features = [selected_features]\n",
    "    elif len(selected_features) > 1:\n",
    "        selected_features = list(selected_features)"
   ]
  },
  {
   "cell_type": "code",
   "execution_count": null,
   "id": "5d663184",
   "metadata": {
    "ExecuteTime": {
     "end_time": "2022-11-03T10:51:23.411203Z",
     "start_time": "2022-11-03T10:51:23.136940Z"
    }
   },
   "outputs": [],
   "source": [
    "selected_features"
   ]
  },
  {
   "cell_type": "code",
   "execution_count": null,
   "id": "cd29d75d",
   "metadata": {},
   "outputs": [],
   "source": []
  },
  {
   "cell_type": "code",
   "execution_count": null,
   "id": "d106d173",
   "metadata": {},
   "outputs": [],
   "source": []
  },
  {
   "cell_type": "code",
   "execution_count": null,
   "id": "a7943fcb",
   "metadata": {
    "ExecuteTime": {
     "end_time": "2022-11-03T10:36:30.388188Z",
     "start_time": "2022-11-03T10:36:29.813756Z"
    }
   },
   "outputs": [],
   "source": [
    "engine.Classification().variable_selection(X_train, X_test, y_train, y_test)"
   ]
  },
  {
   "cell_type": "code",
   "execution_count": null,
   "id": "aa61a8ed",
   "metadata": {
    "ExecuteTime": {
     "end_time": "2022-11-03T10:36:52.451432Z",
     "start_time": "2022-11-03T10:36:52.183253Z"
    }
   },
   "outputs": [],
   "source": [
    "lr = LogisticRegression(n_jobs = -1, random_state = 42, max_iter = 5e3)\n",
    "lr.fit(X_train, y_train)"
   ]
  },
  {
   "cell_type": "code",
   "execution_count": null,
   "id": "0d934fe2",
   "metadata": {
    "ExecuteTime": {
     "end_time": "2022-11-03T10:37:02.615649Z",
     "start_time": "2022-11-03T10:37:02.352124Z"
    }
   },
   "outputs": [],
   "source": [
    "from sklearn.metrics import classification_report"
   ]
  },
  {
   "cell_type": "code",
   "execution_count": null,
   "id": "6cd1bc7f",
   "metadata": {
    "ExecuteTime": {
     "end_time": "2022-11-03T10:37:20.854483Z",
     "start_time": "2022-11-03T10:37:20.592007Z"
    }
   },
   "outputs": [],
   "source": [
    "print(classification_report(y_test, lr.predict(X_test)))"
   ]
  },
  {
   "cell_type": "code",
   "execution_count": null,
   "id": "2fdce3dd",
   "metadata": {},
   "outputs": [],
   "source": []
  },
  {
   "cell_type": "code",
   "execution_count": null,
   "id": "639e6d8c",
   "metadata": {},
   "outputs": [],
   "source": []
  },
  {
   "cell_type": "code",
   "execution_count": null,
   "id": "9ccdfd09",
   "metadata": {},
   "outputs": [],
   "source": []
  },
  {
   "cell_type": "markdown",
   "id": "c8164c4b",
   "metadata": {},
   "source": [
    "## Instead, use a paper from literature\n",
    "SOURCES\n",
    "* [Model-agnostic Feature Importance and Effects with Dependent Features -- A Conditional Subgroup Approach](https://arxiv.org/abs/2006.04628)"
   ]
  },
  {
   "cell_type": "code",
   "execution_count": null,
   "id": "92ba82ee",
   "metadata": {
    "ExecuteTime": {
     "end_time": "2022-11-03T10:18:57.376138Z",
     "start_time": "2022-11-03T10:18:57.113620Z"
    }
   },
   "outputs": [],
   "source": [
    "from sklearn.linear_model import LogisticRegression\n",
    "from sklearn.inspection import permutation_importance"
   ]
  },
  {
   "cell_type": "code",
   "execution_count": null,
   "id": "d06818a5",
   "metadata": {
    "ExecuteTime": {
     "end_time": "2022-11-03T10:21:43.127619Z",
     "start_time": "2022-11-03T10:21:37.357050Z"
    }
   },
   "outputs": [],
   "source": [
    "X_train, X_test, y_train, y_test = engine.Classification().prepare_data(f\"{data_dir}\\\\BF_df_CTU.csv\", \"CONDITION\")\n",
    "\n",
    "lr = LogisticRegression(n_jobs = -1, random_state = 42, max_iter = 5e3)\n",
    "lr.fit(X_train, y_train)"
   ]
  },
  {
   "cell_type": "code",
   "execution_count": null,
   "id": "3fd6e781",
   "metadata": {
    "ExecuteTime": {
     "end_time": "2022-11-03T10:21:45.637275Z",
     "start_time": "2022-11-03T10:21:45.301006Z"
    }
   },
   "outputs": [],
   "source": [
    "pi = permutation_importance(lr, X_test, y_test, n_repeats = 30,\n",
    "                            random_state = 42, scoring = \"accuracy\")"
   ]
  },
  {
   "cell_type": "code",
   "execution_count": null,
   "id": "3cbacd2a",
   "metadata": {
    "ExecuteTime": {
     "end_time": "2022-11-03T10:24:41.491582Z",
     "start_time": "2022-11-03T10:24:41.132453Z"
    }
   },
   "outputs": [],
   "source": [
    "plt.bar(x = range(len(pi[\"importances_mean\"])), height = pi[\"importances_mean\"])\n",
    "plt.scatter(range(len(pi[\"importances_mean\"])),\n",
    "            pi[\"importances_mean\"] + pi[\"importances_std\"], color = \"orange\")\n",
    "plt.scatter(range(len(pi[\"importances_mean\"])),\n",
    "            pi[\"importances_mean\"] - pi[\"importances_std\"], color = \"orange\")\n",
    "plt.show()"
   ]
  }
 ],
 "metadata": {
  "kernelspec": {
   "display_name": "Python 3 (ipykernel)",
   "language": "python",
   "name": "python3"
  },
  "language_info": {
   "codemirror_mode": {
    "name": "ipython",
    "version": 3
   },
   "file_extension": ".py",
   "mimetype": "text/x-python",
   "name": "python",
   "nbconvert_exporter": "python",
   "pygments_lexer": "ipython3",
   "version": "3.9.12"
  }
 },
 "nbformat": 4,
 "nbformat_minor": 5
}
